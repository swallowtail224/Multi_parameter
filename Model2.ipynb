{
 "cells": [
  {
   "cell_type": "code",
   "execution_count": 4,
   "metadata": {},
   "outputs": [],
   "source": [
    "from keras.layers import Input, Dense, Embedding, LSTM, Dropout, concatenate\n",
    "from keras.models import Model\n",
    "from keras.callbacks import EarlyStopping\n",
    "from keras.utils import plot_model\n",
    "import numpy as np\n",
    "from keras.optimizers import Adam"
   ]
  },
  {
   "cell_type": "code",
   "execution_count": 5,
   "metadata": {},
   "outputs": [
    {
     "name": "stdout",
     "output_type": "stream",
     "text": [
      "10000\n",
      "10000\n"
     ]
    }
   ],
   "source": [
    "#ツイートのテキスト読み込み\n",
    "test = open(\"extract_tweet.txt\", \"r\", encoding=\"utf-8\")\n",
    "lines = test.readlines()\n",
    "test.close()\n",
    "print(len(lines))\n",
    "\n",
    "#ラベル読み込み\n",
    "test = open(\"label.txt\", \"r\", encoding=\"utf-8\")\n",
    "label = test.readlines()\n",
    "test.close()\n",
    "print(len(label))"
   ]
  },
  {
   "cell_type": "code",
   "execution_count": 6,
   "metadata": {},
   "outputs": [
    {
     "name": "stdout",
     "output_type": "stream",
     "text": [
      "10000\n"
     ]
    }
   ],
   "source": [
    "#userID\n",
    "test = open(\"user.txt\",\"r\", encoding=\"utf-8\")\n",
    "uID = test.readlines()\n",
    "test.close()\n",
    "print(len(uID))"
   ]
  },
  {
   "cell_type": "code",
   "execution_count": 7,
   "metadata": {},
   "outputs": [],
   "source": [
    "id_list = []\n",
    "for i in uID:\n",
    "    if i in id_list:\n",
    "        continue\n",
    "    else:\n",
    "        id_list.append(i)"
   ]
  },
  {
   "cell_type": "code",
   "execution_count": 8,
   "metadata": {},
   "outputs": [
    {
     "name": "stdout",
     "output_type": "stream",
     "text": [
      "32\n"
     ]
    }
   ],
   "source": [
    "print(len(id_list))"
   ]
  },
  {
   "cell_type": "code",
   "execution_count": 9,
   "metadata": {},
   "outputs": [],
   "source": [
    "post_user = []\n",
    "for i in uID:\n",
    "    for j in range(len(id_list)):\n",
    "        if i == id_list[j]:\n",
    "            post_user.append(j)"
   ]
  },
  {
   "cell_type": "code",
   "execution_count": 10,
   "metadata": {},
   "outputs": [],
   "source": [
    "n_postUser = np.array(post_user)"
   ]
  },
  {
   "cell_type": "code",
   "execution_count": 11,
   "metadata": {},
   "outputs": [
    {
     "name": "stdout",
     "output_type": "stream",
     "text": [
      "Found 18881 unique tokens.\n",
      "Shape of data tensor:(10000, 50)\n",
      "Shape of label tensor:(10000, 2)\n"
     ]
    }
   ],
   "source": [
    "from keras.preprocessing.text import Tokenizer\n",
    "from keras.preprocessing.sequence import pad_sequences\n",
    "import numpy as np\n",
    "from keras.utils.np_utils import to_categorical\n",
    "\n",
    "maxlen = 50\n",
    "training_samples = 8000 # training data 80 : validation data 20\n",
    "validation_samples = 1000\n",
    "test_samples = len(lines) - (training_samples + validation_samples)\n",
    "max_words = 20000\n",
    "\n",
    "# word indexを作成\n",
    "tokenizer = Tokenizer(num_words=max_words)\n",
    "tokenizer.fit_on_texts(lines)\n",
    "sequences = tokenizer.texts_to_sequences(lines)\n",
    "\n",
    "word_index = tokenizer.word_index\n",
    "print(\"Found {} unique tokens.\".format(len(word_index)))\n",
    "\n",
    "data = pad_sequences(sequences, maxlen=maxlen)\n",
    "\n",
    "# バイナリの行列に変換\n",
    "categorical_labels = to_categorical(label)\n",
    "labels = np.asarray(categorical_labels)\n",
    "\n",
    "print(\"Shape of data tensor:{}\".format(data.shape))\n",
    "print(\"Shape of label tensor:{}\".format(labels.shape))\n",
    "\n",
    "#学習データとテストデータに分割\n",
    "x1_test = data[training_samples + validation_samples: training_samples + validation_samples+test_samples]\n",
    "x2_test = n_postUser[training_samples + validation_samples: training_samples + validation_samples+test_samples]\n",
    "y_test = labels[training_samples + validation_samples: training_samples + validation_samples+test_samples]\n",
    "data = data[:training_samples + validation_samples]\n",
    "labels = labels[:training_samples + validation_samples]\n",
    "n_postUser = n_postUser[:training_samples + validation_samples]\n",
    "\n",
    "\n",
    "# 行列をランダムにシャッフルする\n",
    "indices = np.arange(data.shape[0])\n",
    "np.random.shuffle(indices)\n",
    "data = data[indices]\n",
    "labels = labels[indices]\n",
    "users = n_postUser[indices]\n",
    "\n",
    "x1_train = data[:training_samples]\n",
    "x2_train = users[:training_samples]\n",
    "y_train = labels[:training_samples]\n",
    "x1_val = data[training_samples: training_samples + validation_samples]\n",
    "x2_val = users[training_samples: training_samples + validation_samples]\n",
    "y_val = labels[training_samples: training_samples + validation_samples]"
   ]
  },
  {
   "cell_type": "code",
   "execution_count": 12,
   "metadata": {},
   "outputs": [],
   "source": [
    "import keras.backend as K\n",
    "from functools import partial\n",
    "\n",
    "def normalize_y_pred(y_pred):\n",
    "    return K.one_hot(K.argmax(y_pred), y_pred.shape[-1])\n",
    "\n",
    "def class_true_positive(class_label, y_true, y_pred):\n",
    "    y_pred = normalize_y_pred(y_pred)\n",
    "    return K.cast(K.equal(y_true[:, class_label] + y_pred[:, class_label], 2), K.floatx())\n",
    "\n",
    "def class_accuracy(class_label, y_true, y_pred):\n",
    "    y_pred = normalize_y_pred(y_pred)\n",
    "    return K.cast(K.equal(y_true[:, class_label], y_pred[:, class_label]),\n",
    "                  K.floatx())\n",
    "\n",
    "def class_precision(class_label, y_true, y_pred):\n",
    "    y_pred = normalize_y_pred(y_pred)\n",
    "    return K.sum(class_true_positive(class_label, y_true, y_pred)) / (K.sum(y_pred[:, class_label]) + K.epsilon())\n",
    "\n",
    "\n",
    "def class_recall(class_label, y_true, y_pred):\n",
    "    return K.sum(class_true_positive(class_label, y_true, y_pred)) / (K.sum(y_true[:, class_label]) + K.epsilon())\n",
    "\n",
    "\n",
    "def class_f_measure(class_label, y_true, y_pred):\n",
    "    precision = class_precision(class_label, y_true, y_pred)\n",
    "    recall = class_recall(class_label, y_true, y_pred)\n",
    "    return (2 * precision * recall) / (precision + recall + K.epsilon())\n",
    "\n",
    "\n",
    "def true_positive(y_true, y_pred):\n",
    "    y_pred = normalize_y_pred(y_pred)\n",
    "    return K.cast(K.equal(y_true + y_pred, 2),\n",
    "                  K.floatx())\n",
    "\n",
    "\n",
    "def micro_precision(y_true, y_pred):\n",
    "    y_pred = normalize_y_pred(y_pred)\n",
    "    return K.sum(true_positive(y_true, y_pred)) / (K.sum(y_pred) + K.epsilon())\n",
    "\n",
    "\n",
    "def micro_recall(y_true, y_pred):\n",
    "    return K.sum(true_positive(y_true, y_pred)) / (K.sum(y_true) + K.epsilon())\n",
    "\n",
    "\n",
    "def micro_f_measure(y_true, y_pred):\n",
    "    precision = micro_precision(y_true, y_pred)\n",
    "    recall = micro_recall(y_true, y_pred)\n",
    "    return (2 * precision * recall) / (precision + recall + K.epsilon())\n",
    "\n",
    "\n",
    "def average_accuracy(y_true, y_pred):\n",
    "    class_count = y_pred.shape[-1]\n",
    "    class_acc_list = [class_accuracy(i, y_true, y_pred) for i in range(class_count)]\n",
    "    class_acc_matrix = K.concatenate(class_acc_list, axis=0)\n",
    "    return K.mean(class_acc_matrix, axis=0)\n",
    "\n",
    "\n",
    "def macro_precision(y_true, y_pred):\n",
    "    class_count = y_pred.shape[-1]\n",
    "    return K.sum([class_precision(i, y_true, y_pred) for i in range(class_count)]) / K.cast(class_count, K.floatx())\n",
    "\n",
    "\n",
    "def macro_recall(y_true, y_pred):\n",
    "    class_count = y_pred.shape[-1]\n",
    "    return K.sum([class_recall(i, y_true, y_pred) for i in range(class_count)]) / K.cast(class_count, K.floatx())\n",
    "\n",
    "\n",
    "def macro_f_measure(y_true, y_pred):\n",
    "    precision = macro_precision(y_true, y_pred)\n",
    "    recall = macro_recall(y_true, y_pred)\n",
    "    return (2 * precision * recall) / (precision + recall + K.epsilon())"
   ]
  },
  {
   "cell_type": "code",
   "execution_count": 13,
   "metadata": {},
   "outputs": [
    {
     "name": "stdout",
     "output_type": "stream",
     "text": [
      "__________________________________________________________________________________________________\n",
      "Layer (type)                    Output Shape         Param #     Connected to                     \n",
      "==================================================================================================\n",
      "input_postText (InputLayer)     (None, 50)           0                                            \n",
      "__________________________________________________________________________________________________\n",
      "embedding_1 (Embedding)         (None, 50, 50)       1000000     input_postText[0][0]             \n",
      "__________________________________________________________________________________________________\n",
      "dropout_1 (Dropout)             (None, 50, 50)       0           embedding_1[0][0]                \n",
      "__________________________________________________________________________________________________\n",
      "input_ids (InputLayer)          (None, 1)            0                                            \n",
      "__________________________________________________________________________________________________\n",
      "lstm_1 (LSTM)                   (None, 32)           10624       dropout_1[0][0]                  \n",
      "__________________________________________________________________________________________________\n",
      "dence1 (Dense)                  (None, 32)           64          input_ids[0][0]                  \n",
      "__________________________________________________________________________________________________\n",
      "dropout_2 (Dropout)             (None, 32)           0           lstm_1[0][0]                     \n",
      "__________________________________________________________________________________________________\n",
      "dropout_3 (Dropout)             (None, 32)           0           dence1[0][0]                     \n",
      "__________________________________________________________________________________________________\n",
      "concatenate_1 (Concatenate)     (None, 64)           0           dropout_2[0][0]                  \n",
      "                                                                 dropout_3[0][0]                  \n",
      "__________________________________________________________________________________________________\n",
      "dence (Dense)                   (None, 32)           2080        concatenate_1[0][0]              \n",
      "__________________________________________________________________________________________________\n",
      "dropout_4 (Dropout)             (None, 32)           0           dence[0][0]                      \n",
      "__________________________________________________________________________________________________\n",
      "output (Dense)                  (None, 2)            66          dropout_4[0][0]                  \n",
      "==================================================================================================\n",
      "Total params: 1,012,834\n",
      "Trainable params: 1,012,834\n",
      "Non-trainable params: 0\n",
      "__________________________________________________________________________________________________\n"
     ]
    }
   ],
   "source": [
    "p_input = Input(shape=(50, ), dtype='int32', name='input_postText')\n",
    "i_input = Input(shape=(1, ), name='input_ids')\n",
    "\n",
    "#テキストの学習\n",
    "em = Embedding(input_dim=20000, output_dim=50, input_length=50)(p_input)\n",
    "d_em = Dropout(0.5)(em)\n",
    "lstm_out = LSTM(32)(d_em)\n",
    "d_lstm_out = Dropout(0.5)(lstm_out)\n",
    "#2つ目のデータ学習\n",
    "i2 = Dense(32, activation='relu', name = 'dence1')(i_input)\n",
    "d_i2 = Dropout(0.5)(i2)\n",
    "x = concatenate([d_lstm_out, d_i2])\n",
    "\n",
    "m2 = Dense(32, activation='relu', name = 'dence')(x)\n",
    "d_m2 = Dropout(0.5)(m2)\n",
    "output = Dense(2, activation='softmax', name = 'output')(d_m2)\n",
    "\n",
    "optimizer = Adam(lr=1e-3, )\n",
    "model = Model(inputs=[p_input, i_input], outputs = output)\n",
    "model.compile(optimizer=optimizer, loss='categorical_crossentropy',  metrics=['acc', macro_precision, macro_recall, macro_f_measure])\n",
    "model.summary()\n",
    "#plot_model(model, show_shapes=True, show_layer_names=True, to_file='model2.png')\n",
    "\n",
    "\n",
    "#early_stopping = EarlyStopping(patience=0, verbose=1)"
   ]
  },
  {
   "cell_type": "code",
   "execution_count": 14,
   "metadata": {},
   "outputs": [
    {
     "name": "stdout",
     "output_type": "stream",
     "text": [
      "Train on 8000 samples, validate on 1000 samples\n",
      "Epoch 1/100\n",
      "8000/8000 [==============================] - 8s 975us/step - loss: 1.2220 - acc: 0.4896 - macro_precision: 0.4883 - macro_recall: 0.4882 - macro_f_measure: 0.4882 - val_loss: 0.6964 - val_acc: 0.5280 - val_macro_precision: 0.2640 - val_macro_recall: 0.5000 - val_macro_f_measure: 0.3448\n",
      "Epoch 2/100\n",
      "8000/8000 [==============================] - 6s 742us/step - loss: 0.7165 - acc: 0.5442 - macro_precision: 0.5450 - macro_recall: 0.5388 - macro_f_measure: 0.5418 - val_loss: 0.6782 - val_acc: 0.6270 - val_macro_precision: 0.7928 - val_macro_recall: 0.6049 - val_macro_f_measure: 0.6860\n",
      "Epoch 3/100\n",
      "8000/8000 [==============================] - 6s 742us/step - loss: 0.6177 - acc: 0.6653 - macro_precision: 0.6767 - macro_recall: 0.6618 - macro_f_measure: 0.6691 - val_loss: 0.5438 - val_acc: 0.7510 - val_macro_precision: 0.7543 - val_macro_recall: 0.7456 - val_macro_f_measure: 0.7499\n",
      "Epoch 4/100\n",
      "8000/8000 [==============================] - 6s 756us/step - loss: 0.4594 - acc: 0.8061 - macro_precision: 0.8128 - macro_recall: 0.8050 - macro_f_measure: 0.8088 - val_loss: 0.4872 - val_acc: 0.7730 - val_macro_precision: 0.7830 - val_macro_recall: 0.7654 - val_macro_f_measure: 0.7740\n",
      "Epoch 5/100\n",
      "8000/8000 [==============================] - 6s 743us/step - loss: 0.3518 - acc: 0.8735 - macro_precision: 0.8752 - macro_recall: 0.8729 - macro_f_measure: 0.8740 - val_loss: 0.4953 - val_acc: 0.7740 - val_macro_precision: 0.7781 - val_macro_recall: 0.7691 - val_macro_f_measure: 0.7735\n",
      "Epoch 6/100\n",
      "8000/8000 [==============================] - 6s 757us/step - loss: 0.2896 - acc: 0.9064 - macro_precision: 0.9078 - macro_recall: 0.9049 - macro_f_measure: 0.9063 - val_loss: 0.5288 - val_acc: 0.7730 - val_macro_precision: 0.7797 - val_macro_recall: 0.7670 - val_macro_f_measure: 0.7732\n",
      "Epoch 7/100\n",
      "8000/8000 [==============================] - 6s 758us/step - loss: 0.2498 - acc: 0.9223 - macro_precision: 0.9240 - macro_recall: 0.9211 - macro_f_measure: 0.9225 - val_loss: 0.5715 - val_acc: 0.7710 - val_macro_precision: 0.7697 - val_macro_recall: 0.7698 - val_macro_f_measure: 0.7697\n",
      "Epoch 8/100\n",
      "8000/8000 [==============================] - 6s 775us/step - loss: 0.2195 - acc: 0.9304 - macro_precision: 0.9310 - macro_recall: 0.9299 - macro_f_measure: 0.9304 - val_loss: 0.5715 - val_acc: 0.7700 - val_macro_precision: 0.7732 - val_macro_recall: 0.7663 - val_macro_f_measure: 0.7697\n",
      "Epoch 9/100\n",
      "8000/8000 [==============================] - 7s 859us/step - loss: 0.1899 - acc: 0.9411 - macro_precision: 0.9418 - macro_recall: 0.9403 - macro_f_measure: 0.9411 - val_loss: 0.6260 - val_acc: 0.7690 - val_macro_precision: 0.7682 - val_macro_recall: 0.7672 - val_macro_f_measure: 0.7677\n",
      "Epoch 10/100\n",
      "8000/8000 [==============================] - 7s 903us/step - loss: 0.1716 - acc: 0.9439 - macro_precision: 0.9447 - macro_recall: 0.9432 - macro_f_measure: 0.9439 - val_loss: 0.7032 - val_acc: 0.7640 - val_macro_precision: 0.7628 - val_macro_recall: 0.7622 - val_macro_f_measure: 0.7625\n",
      "Epoch 11/100\n",
      "8000/8000 [==============================] - 6s 761us/step - loss: 0.1504 - acc: 0.9500 - macro_precision: 0.9509 - macro_recall: 0.9493 - macro_f_measure: 0.9501 - val_loss: 0.6392 - val_acc: 0.7710 - val_macro_precision: 0.7842 - val_macro_recall: 0.7635 - val_macro_f_measure: 0.7736\n",
      "Epoch 12/100\n",
      "8000/8000 [==============================] - 6s 764us/step - loss: 0.1366 - acc: 0.9526 - macro_precision: 0.9532 - macro_recall: 0.9522 - macro_f_measure: 0.9527 - val_loss: 0.7443 - val_acc: 0.7560 - val_macro_precision: 0.7598 - val_macro_recall: 0.7512 - val_macro_f_measure: 0.7554\n",
      "Epoch 13/100\n",
      "8000/8000 [==============================] - 6s 767us/step - loss: 0.1262 - acc: 0.9568 - macro_precision: 0.9576 - macro_recall: 0.9561 - macro_f_measure: 0.9568 - val_loss: 0.7536 - val_acc: 0.7640 - val_macro_precision: 0.7725 - val_macro_recall: 0.7577 - val_macro_f_measure: 0.7650\n",
      "Epoch 14/100\n",
      "8000/8000 [==============================] - 6s 762us/step - loss: 0.1108 - acc: 0.9596 - macro_precision: 0.9602 - macro_recall: 0.9593 - macro_f_measure: 0.9597 - val_loss: 0.8883 - val_acc: 0.7510 - val_macro_precision: 0.7509 - val_macro_recall: 0.7486 - val_macro_f_measure: 0.7497\n",
      "Epoch 15/100\n",
      "8000/8000 [==============================] - 6s 761us/step - loss: 0.1012 - acc: 0.9608 - macro_precision: 0.9613 - macro_recall: 0.9603 - macro_f_measure: 0.9608 - val_loss: 0.9723 - val_acc: 0.7550 - val_macro_precision: 0.7531 - val_macro_recall: 0.7518 - val_macro_f_measure: 0.7525\n",
      "Epoch 16/100\n",
      "8000/8000 [==============================] - 6s 802us/step - loss: 0.0926 - acc: 0.9638 - macro_precision: 0.9644 - macro_recall: 0.9633 - macro_f_measure: 0.9638 - val_loss: 0.9070 - val_acc: 0.7550 - val_macro_precision: 0.7587 - val_macro_recall: 0.7491 - val_macro_f_measure: 0.7539\n",
      "Epoch 17/100\n",
      "8000/8000 [==============================] - 8s 993us/step - loss: 0.0851 - acc: 0.9656 - macro_precision: 0.9659 - macro_recall: 0.9653 - macro_f_measure: 0.9656 - val_loss: 0.9528 - val_acc: 0.7560 - val_macro_precision: 0.7640 - val_macro_recall: 0.7485 - val_macro_f_measure: 0.7561\n",
      "Epoch 18/100\n",
      "8000/8000 [==============================] - 8s 1ms/step - loss: 0.0876 - acc: 0.9640 - macro_precision: 0.9639 - macro_recall: 0.9640 - macro_f_measure: 0.9639 - val_loss: 1.0687 - val_acc: 0.7640 - val_macro_precision: 0.7659 - val_macro_recall: 0.7602 - val_macro_f_measure: 0.7630\n",
      "Epoch 19/100\n",
      "8000/8000 [==============================] - 6s 781us/step - loss: 0.0794 - acc: 0.9678 - macro_precision: 0.9678 - macro_recall: 0.9675 - macro_f_measure: 0.9677 - val_loss: 1.1436 - val_acc: 0.7590 - val_macro_precision: 0.7612 - val_macro_recall: 0.7537 - val_macro_f_measure: 0.7574\n",
      "Epoch 20/100\n",
      "8000/8000 [==============================] - 6s 787us/step - loss: 0.0739 - acc: 0.9673 - macro_precision: 0.9676 - macro_recall: 0.9668 - macro_f_measure: 0.9672 - val_loss: 1.2334 - val_acc: 0.7470 - val_macro_precision: 0.7455 - val_macro_recall: 0.7439 - val_macro_f_measure: 0.7447\n",
      "Epoch 21/100\n",
      "8000/8000 [==============================] - 6s 780us/step - loss: 0.0769 - acc: 0.9634 - macro_precision: 0.9641 - macro_recall: 0.9630 - macro_f_measure: 0.9635 - val_loss: 1.0799 - val_acc: 0.7560 - val_macro_precision: 0.7585 - val_macro_recall: 0.7505 - val_macro_f_measure: 0.7544\n",
      "Epoch 22/100\n",
      "8000/8000 [==============================] - 6s 774us/step - loss: 0.0659 - acc: 0.9701 - macro_precision: 0.9702 - macro_recall: 0.9699 - macro_f_measure: 0.9700 - val_loss: 1.2844 - val_acc: 0.7440 - val_macro_precision: 0.7449 - val_macro_recall: 0.7394 - val_macro_f_measure: 0.7421\n",
      "Epoch 23/100\n",
      "8000/8000 [==============================] - 6s 774us/step - loss: 0.0661 - acc: 0.9696 - macro_precision: 0.9701 - macro_recall: 0.9692 - macro_f_measure: 0.9696 - val_loss: 1.3916 - val_acc: 0.7450 - val_macro_precision: 0.7443 - val_macro_recall: 0.7407 - val_macro_f_measure: 0.7425\n",
      "Epoch 24/100\n",
      "8000/8000 [==============================] - 6s 781us/step - loss: 0.0640 - acc: 0.9713 - macro_precision: 0.9713 - macro_recall: 0.9713 - macro_f_measure: 0.9713 - val_loss: 1.3878 - val_acc: 0.7420 - val_macro_precision: 0.7445 - val_macro_recall: 0.7360 - val_macro_f_measure: 0.7402\n",
      "Epoch 25/100\n",
      "8000/8000 [==============================] - 6s 777us/step - loss: 0.0594 - acc: 0.9716 - macro_precision: 0.9720 - macro_recall: 0.9713 - macro_f_measure: 0.9716 - val_loss: 1.4404 - val_acc: 0.7470 - val_macro_precision: 0.7464 - val_macro_recall: 0.7429 - val_macro_f_measure: 0.7446\n",
      "Epoch 26/100\n",
      "8000/8000 [==============================] - 6s 764us/step - loss: 0.0624 - acc: 0.9719 - macro_precision: 0.9726 - macro_recall: 0.9712 - macro_f_measure: 0.9719 - val_loss: 1.3726 - val_acc: 0.7560 - val_macro_precision: 0.7543 - val_macro_recall: 0.7528 - val_macro_f_measure: 0.7535\n",
      "Epoch 27/100\n",
      "8000/8000 [==============================] - 6s 781us/step - loss: 0.0614 - acc: 0.9739 - macro_precision: 0.9742 - macro_recall: 0.9736 - macro_f_measure: 0.9739 - val_loss: 1.4540 - val_acc: 0.7440 - val_macro_precision: 0.7442 - val_macro_recall: 0.7388 - val_macro_f_measure: 0.7415\n",
      "Epoch 28/100\n"
     ]
    },
    {
     "name": "stdout",
     "output_type": "stream",
     "text": [
      "8000/8000 [==============================] - 6s 720us/step - loss: 0.0561 - acc: 0.9744 - macro_precision: 0.9743 - macro_recall: 0.9743 - macro_f_measure: 0.9743 - val_loss: 1.5550 - val_acc: 0.7460 - val_macro_precision: 0.7434 - val_macro_recall: 0.7441 - val_macro_f_measure: 0.7437\n",
      "Epoch 29/100\n",
      "8000/8000 [==============================] - 6s 783us/step - loss: 0.0601 - acc: 0.9726 - macro_precision: 0.9726 - macro_recall: 0.9725 - macro_f_measure: 0.9725 - val_loss: 1.5065 - val_acc: 0.7490 - val_macro_precision: 0.7472 - val_macro_recall: 0.7461 - val_macro_f_measure: 0.7466\n",
      "Epoch 30/100\n",
      "8000/8000 [==============================] - 6s 741us/step - loss: 0.0553 - acc: 0.9726 - macro_precision: 0.9729 - macro_recall: 0.9722 - macro_f_measure: 0.9726 - val_loss: 1.6559 - val_acc: 0.7480 - val_macro_precision: 0.7456 - val_macro_recall: 0.7455 - val_macro_f_measure: 0.7456\n",
      "Epoch 31/100\n",
      "8000/8000 [==============================] - 7s 840us/step - loss: 0.0532 - acc: 0.9738 - macro_precision: 0.9738 - macro_recall: 0.9737 - macro_f_measure: 0.9737 - val_loss: 1.6435 - val_acc: 0.7480 - val_macro_precision: 0.7468 - val_macro_recall: 0.7442 - val_macro_f_measure: 0.7455\n",
      "Epoch 32/100\n",
      "8000/8000 [==============================] - 7s 848us/step - loss: 0.0544 - acc: 0.9735 - macro_precision: 0.9736 - macro_recall: 0.9733 - macro_f_measure: 0.9735 - val_loss: 1.6341 - val_acc: 0.7480 - val_macro_precision: 0.7463 - val_macro_recall: 0.7447 - val_macro_f_measure: 0.7455\n",
      "Epoch 33/100\n",
      "8000/8000 [==============================] - 7s 914us/step - loss: 0.0521 - acc: 0.9745 - macro_precision: 0.9746 - macro_recall: 0.9742 - macro_f_measure: 0.9744 - val_loss: 1.7957 - val_acc: 0.7480 - val_macro_precision: 0.7475 - val_macro_recall: 0.7431 - val_macro_f_measure: 0.7453\n",
      "Epoch 34/100\n",
      "8000/8000 [==============================] - 6s 793us/step - loss: 0.0536 - acc: 0.9730 - macro_precision: 0.9732 - macro_recall: 0.9727 - macro_f_measure: 0.9729 - val_loss: 1.6324 - val_acc: 0.7490 - val_macro_precision: 0.7483 - val_macro_recall: 0.7440 - val_macro_f_measure: 0.7461\n",
      "Epoch 35/100\n",
      "8000/8000 [==============================] - 6s 752us/step - loss: 0.0528 - acc: 0.9759 - macro_precision: 0.9760 - macro_recall: 0.9757 - macro_f_measure: 0.9759 - val_loss: 1.6185 - val_acc: 0.7480 - val_macro_precision: 0.7468 - val_macro_recall: 0.7430 - val_macro_f_measure: 0.7449\n",
      "Epoch 36/100\n",
      "8000/8000 [==============================] - 8s 941us/step - loss: 0.0558 - acc: 0.9748 - macro_precision: 0.9750 - macro_recall: 0.9747 - macro_f_measure: 0.9749 - val_loss: 1.6618 - val_acc: 0.7440 - val_macro_precision: 0.7416 - val_macro_recall: 0.7422 - val_macro_f_measure: 0.7419\n",
      "Epoch 37/100\n",
      "8000/8000 [==============================] - 9s 1ms/step - loss: 0.0507 - acc: 0.9755 - macro_precision: 0.9755 - macro_recall: 0.9757 - macro_f_measure: 0.9756 - val_loss: 1.9162 - val_acc: 0.7550 - val_macro_precision: 0.7578 - val_macro_recall: 0.7492 - val_macro_f_measure: 0.7535\n",
      "Epoch 38/100\n",
      "8000/8000 [==============================] - 7s 899us/step - loss: 0.0513 - acc: 0.9741 - macro_precision: 0.9744 - macro_recall: 0.9738 - macro_f_measure: 0.9741 - val_loss: 1.9492 - val_acc: 0.7570 - val_macro_precision: 0.7548 - val_macro_recall: 0.7536 - val_macro_f_measure: 0.7542\n",
      "Epoch 39/100\n",
      "8000/8000 [==============================] - 7s 857us/step - loss: 0.0503 - acc: 0.9740 - macro_precision: 0.9742 - macro_recall: 0.9737 - macro_f_measure: 0.9740 - val_loss: 1.8108 - val_acc: 0.7490 - val_macro_precision: 0.7474 - val_macro_recall: 0.7456 - val_macro_f_measure: 0.7465\n",
      "Epoch 40/100\n",
      "8000/8000 [==============================] - 6s 767us/step - loss: 0.0480 - acc: 0.9764 - macro_precision: 0.9766 - macro_recall: 0.9762 - macro_f_measure: 0.9764 - val_loss: 2.0219 - val_acc: 0.7580 - val_macro_precision: 0.7568 - val_macro_recall: 0.7545 - val_macro_f_measure: 0.7556\n",
      "Epoch 41/100\n",
      "8000/8000 [==============================] - 6s 772us/step - loss: 0.0522 - acc: 0.9763 - macro_precision: 0.9766 - macro_recall: 0.9761 - macro_f_measure: 0.9763 - val_loss: 1.8231 - val_acc: 0.7490 - val_macro_precision: 0.7481 - val_macro_recall: 0.7451 - val_macro_f_measure: 0.7466\n",
      "Epoch 42/100\n",
      "8000/8000 [==============================] - 6s 770us/step - loss: 0.0502 - acc: 0.9746 - macro_precision: 0.9746 - macro_recall: 0.9747 - macro_f_measure: 0.9747 - val_loss: 1.9016 - val_acc: 0.7500 - val_macro_precision: 0.7506 - val_macro_recall: 0.7451 - val_macro_f_measure: 0.7478\n",
      "Epoch 43/100\n",
      "8000/8000 [==============================] - 6s 773us/step - loss: 0.0525 - acc: 0.9743 - macro_precision: 0.9746 - macro_recall: 0.9739 - macro_f_measure: 0.9742 - val_loss: 1.7002 - val_acc: 0.7430 - val_macro_precision: 0.7413 - val_macro_recall: 0.7390 - val_macro_f_measure: 0.7401\n",
      "Epoch 44/100\n",
      "8000/8000 [==============================] - 6s 774us/step - loss: 0.0511 - acc: 0.9756 - macro_precision: 0.9758 - macro_recall: 0.9754 - macro_f_measure: 0.9756 - val_loss: 2.0600 - val_acc: 0.7440 - val_macro_precision: 0.7420 - val_macro_recall: 0.7409 - val_macro_f_measure: 0.7415\n",
      "Epoch 45/100\n",
      "8000/8000 [==============================] - 6s 769us/step - loss: 0.0509 - acc: 0.9745 - macro_precision: 0.9747 - macro_recall: 0.9743 - macro_f_measure: 0.9745 - val_loss: 1.9016 - val_acc: 0.7480 - val_macro_precision: 0.7489 - val_macro_recall: 0.7431 - val_macro_f_measure: 0.7459\n",
      "Epoch 46/100\n",
      "8000/8000 [==============================] - 6s 765us/step - loss: 0.0482 - acc: 0.9760 - macro_precision: 0.9763 - macro_recall: 0.9758 - macro_f_measure: 0.9760 - val_loss: 2.0844 - val_acc: 0.7460 - val_macro_precision: 0.7450 - val_macro_recall: 0.7429 - val_macro_f_measure: 0.7439\n",
      "Epoch 47/100\n",
      "8000/8000 [==============================] - 6s 761us/step - loss: 0.0482 - acc: 0.9746 - macro_precision: 0.9748 - macro_recall: 0.9742 - macro_f_measure: 0.9745 - val_loss: 2.0492 - val_acc: 0.7400 - val_macro_precision: 0.7380 - val_macro_recall: 0.7379 - val_macro_f_measure: 0.7379\n",
      "Epoch 48/100\n",
      "8000/8000 [==============================] - 6s 772us/step - loss: 0.0474 - acc: 0.9765 - macro_precision: 0.9770 - macro_recall: 0.9760 - macro_f_measure: 0.9765 - val_loss: 2.1082 - val_acc: 0.7470 - val_macro_precision: 0.7564 - val_macro_recall: 0.7388 - val_macro_f_measure: 0.7475\n",
      "Epoch 49/100\n",
      "8000/8000 [==============================] - 6s 780us/step - loss: 0.0516 - acc: 0.9745 - macro_precision: 0.9748 - macro_recall: 0.9741 - macro_f_measure: 0.9745 - val_loss: 2.1100 - val_acc: 0.7500 - val_macro_precision: 0.7493 - val_macro_recall: 0.7466 - val_macro_f_measure: 0.7479\n",
      "Epoch 50/100\n",
      "8000/8000 [==============================] - 6s 771us/step - loss: 0.0467 - acc: 0.9770 - macro_precision: 0.9771 - macro_recall: 0.9768 - macro_f_measure: 0.9770 - val_loss: 2.1523 - val_acc: 0.7490 - val_macro_precision: 0.7477 - val_macro_recall: 0.7456 - val_macro_f_measure: 0.7467\n",
      "Epoch 51/100\n",
      "8000/8000 [==============================] - 6s 780us/step - loss: 0.0469 - acc: 0.9770 - macro_precision: 0.9777 - macro_recall: 0.9764 - macro_f_measure: 0.9771 - val_loss: 2.0562 - val_acc: 0.7470 - val_macro_precision: 0.7471 - val_macro_recall: 0.7431 - val_macro_f_measure: 0.7450\n",
      "Epoch 52/100\n",
      "8000/8000 [==============================] - 6s 771us/step - loss: 0.0460 - acc: 0.9763 - macro_precision: 0.9767 - macro_recall: 0.9759 - macro_f_measure: 0.9763 - val_loss: 2.2408 - val_acc: 0.7210 - val_macro_precision: 0.7184 - val_macro_recall: 0.7190 - val_macro_f_measure: 0.7187\n",
      "Epoch 53/100\n",
      "8000/8000 [==============================] - 6s 792us/step - loss: 0.0506 - acc: 0.9764 - macro_precision: 0.9768 - macro_recall: 0.9760 - macro_f_measure: 0.9764 - val_loss: 2.4196 - val_acc: 0.7510 - val_macro_precision: 0.7482 - val_macro_recall: 0.7491 - val_macro_f_measure: 0.7486\n",
      "Epoch 54/100\n",
      "8000/8000 [==============================] - 6s 791us/step - loss: 0.0487 - acc: 0.9758 - macro_precision: 0.9758 - macro_recall: 0.9755 - macro_f_measure: 0.9757 - val_loss: 2.1350 - val_acc: 0.7440 - val_macro_precision: 0.7429 - val_macro_recall: 0.7406 - val_macro_f_measure: 0.7417\n",
      "Epoch 55/100\n"
     ]
    },
    {
     "name": "stdout",
     "output_type": "stream",
     "text": [
      "8000/8000 [==============================] - 6s 781us/step - loss: 0.0483 - acc: 0.9753 - macro_precision: 0.9756 - macro_recall: 0.9749 - macro_f_measure: 0.9752 - val_loss: 2.3523 - val_acc: 0.7470 - val_macro_precision: 0.7452 - val_macro_recall: 0.7445 - val_macro_f_measure: 0.7448\n",
      "Epoch 56/100\n",
      "8000/8000 [==============================] - 6s 731us/step - loss: 0.0493 - acc: 0.9766 - macro_precision: 0.9766 - macro_recall: 0.9769 - macro_f_measure: 0.9767 - val_loss: 2.2014 - val_acc: 0.7440 - val_macro_precision: 0.7421 - val_macro_recall: 0.7413 - val_macro_f_measure: 0.7417\n",
      "Epoch 57/100\n",
      "8000/8000 [==============================] - 6s 714us/step - loss: 0.0541 - acc: 0.9745 - macro_precision: 0.9747 - macro_recall: 0.9744 - macro_f_measure: 0.9746 - val_loss: 1.9858 - val_acc: 0.7420 - val_macro_precision: 0.7413 - val_macro_recall: 0.7391 - val_macro_f_measure: 0.7402\n",
      "Epoch 58/100\n",
      "8000/8000 [==============================] - 6s 730us/step - loss: 0.0487 - acc: 0.9771 - macro_precision: 0.9777 - macro_recall: 0.9765 - macro_f_measure: 0.9771 - val_loss: 2.1051 - val_acc: 0.7450 - val_macro_precision: 0.7444 - val_macro_recall: 0.7416 - val_macro_f_measure: 0.7429\n",
      "Epoch 59/100\n",
      "8000/8000 [==============================] - 6s 720us/step - loss: 0.0456 - acc: 0.9764 - macro_precision: 0.9767 - macro_recall: 0.9762 - macro_f_measure: 0.9765 - val_loss: 2.1051 - val_acc: 0.7400 - val_macro_precision: 0.7392 - val_macro_recall: 0.7361 - val_macro_f_measure: 0.7376\n",
      "Epoch 60/100\n",
      "8000/8000 [==============================] - 7s 844us/step - loss: 0.0476 - acc: 0.9770 - macro_precision: 0.9774 - macro_recall: 0.9764 - macro_f_measure: 0.9769 - val_loss: 2.1606 - val_acc: 0.7520 - val_macro_precision: 0.7515 - val_macro_recall: 0.7491 - val_macro_f_measure: 0.7503\n",
      "Epoch 61/100\n",
      "8000/8000 [==============================] - 7s 920us/step - loss: 0.0462 - acc: 0.9759 - macro_precision: 0.9764 - macro_recall: 0.9755 - macro_f_measure: 0.9760 - val_loss: 2.2234 - val_acc: 0.7460 - val_macro_precision: 0.7442 - val_macro_recall: 0.7441 - val_macro_f_measure: 0.7441\n",
      "Epoch 62/100\n",
      "8000/8000 [==============================] - 7s 844us/step - loss: 0.0520 - acc: 0.9763 - macro_precision: 0.9763 - macro_recall: 0.9763 - macro_f_measure: 0.9763 - val_loss: 2.2656 - val_acc: 0.7550 - val_macro_precision: 0.7542 - val_macro_recall: 0.7527 - val_macro_f_measure: 0.7534\n",
      "Epoch 63/100\n",
      "8000/8000 [==============================] - 6s 801us/step - loss: 0.0476 - acc: 0.9765 - macro_precision: 0.9765 - macro_recall: 0.9764 - macro_f_measure: 0.9765 - val_loss: 2.0533 - val_acc: 0.7460 - val_macro_precision: 0.7451 - val_macro_recall: 0.7433 - val_macro_f_measure: 0.7442\n",
      "Epoch 64/100\n",
      "8000/8000 [==============================] - 6s 721us/step - loss: 0.0439 - acc: 0.9783 - macro_precision: 0.9785 - macro_recall: 0.9780 - macro_f_measure: 0.9782 - val_loss: 2.3851 - val_acc: 0.7440 - val_macro_precision: 0.7425 - val_macro_recall: 0.7418 - val_macro_f_measure: 0.7421\n",
      "Epoch 65/100\n",
      "8000/8000 [==============================] - 6s 729us/step - loss: 0.0459 - acc: 0.9756 - macro_precision: 0.9760 - macro_recall: 0.9753 - macro_f_measure: 0.9756 - val_loss: 2.3724 - val_acc: 0.7500 - val_macro_precision: 0.7484 - val_macro_recall: 0.7477 - val_macro_f_measure: 0.7480\n",
      "Epoch 66/100\n",
      "8000/8000 [==============================] - 6s 747us/step - loss: 0.0446 - acc: 0.9781 - macro_precision: 0.9783 - macro_recall: 0.9777 - macro_f_measure: 0.9780 - val_loss: 2.3811 - val_acc: 0.7500 - val_macro_precision: 0.7489 - val_macro_recall: 0.7474 - val_macro_f_measure: 0.7482\n",
      "Epoch 67/100\n",
      "8000/8000 [==============================] - 6s 744us/step - loss: 0.0444 - acc: 0.9764 - macro_precision: 0.9769 - macro_recall: 0.9758 - macro_f_measure: 0.9763 - val_loss: 2.4136 - val_acc: 0.7440 - val_macro_precision: 0.7432 - val_macro_recall: 0.7409 - val_macro_f_measure: 0.7420\n",
      "Epoch 68/100\n",
      "8000/8000 [==============================] - 6s 757us/step - loss: 0.0456 - acc: 0.9766 - macro_precision: 0.9768 - macro_recall: 0.9763 - macro_f_measure: 0.9766 - val_loss: 2.6045 - val_acc: 0.7410 - val_macro_precision: 0.7391 - val_macro_recall: 0.7389 - val_macro_f_measure: 0.7390\n",
      "Epoch 69/100\n",
      "8000/8000 [==============================] - 6s 779us/step - loss: 0.0494 - acc: 0.9763 - macro_precision: 0.9769 - macro_recall: 0.9757 - macro_f_measure: 0.9763 - val_loss: 2.3911 - val_acc: 0.7410 - val_macro_precision: 0.7391 - val_macro_recall: 0.7392 - val_macro_f_measure: 0.7392\n",
      "Epoch 70/100\n",
      "8000/8000 [==============================] - 6s 777us/step - loss: 0.0464 - acc: 0.9763 - macro_precision: 0.9764 - macro_recall: 0.9763 - macro_f_measure: 0.9763 - val_loss: 2.1826 - val_acc: 0.7450 - val_macro_precision: 0.7428 - val_macro_recall: 0.7436 - val_macro_f_measure: 0.7432\n",
      "Epoch 71/100\n",
      "8000/8000 [==============================] - 6s 774us/step - loss: 0.0493 - acc: 0.9765 - macro_precision: 0.9771 - macro_recall: 0.9759 - macro_f_measure: 0.9765 - val_loss: 2.1877 - val_acc: 0.7410 - val_macro_precision: 0.7387 - val_macro_recall: 0.7397 - val_macro_f_measure: 0.7392\n",
      "Epoch 72/100\n",
      "8000/8000 [==============================] - 6s 783us/step - loss: 0.0456 - acc: 0.9774 - macro_precision: 0.9775 - macro_recall: 0.9772 - macro_f_measure: 0.9773 - val_loss: 2.3277 - val_acc: 0.7450 - val_macro_precision: 0.7431 - val_macro_recall: 0.7423 - val_macro_f_measure: 0.7427\n",
      "Epoch 73/100\n",
      "8000/8000 [==============================] - 7s 891us/step - loss: 0.0451 - acc: 0.9781 - macro_precision: 0.9783 - macro_recall: 0.9779 - macro_f_measure: 0.9781 - val_loss: 2.2076 - val_acc: 0.7450 - val_macro_precision: 0.7439 - val_macro_recall: 0.7421 - val_macro_f_measure: 0.7430\n",
      "Epoch 74/100\n",
      "8000/8000 [==============================] - 7s 841us/step - loss: 0.0470 - acc: 0.9761 - macro_precision: 0.9765 - macro_recall: 0.9759 - macro_f_measure: 0.9762 - val_loss: 2.1142 - val_acc: 0.7440 - val_macro_precision: 0.7424 - val_macro_recall: 0.7411 - val_macro_f_measure: 0.7418\n",
      "Epoch 75/100\n",
      "8000/8000 [==============================] - 6s 758us/step - loss: 0.0499 - acc: 0.9756 - macro_precision: 0.9761 - macro_recall: 0.9751 - macro_f_measure: 0.9756 - val_loss: 2.2138 - val_acc: 0.7500 - val_macro_precision: 0.7497 - val_macro_recall: 0.7465 - val_macro_f_measure: 0.7481\n",
      "Epoch 76/100\n",
      "8000/8000 [==============================] - 6s 736us/step - loss: 0.0469 - acc: 0.9768 - macro_precision: 0.9770 - macro_recall: 0.9765 - macro_f_measure: 0.9767 - val_loss: 2.1431 - val_acc: 0.7470 - val_macro_precision: 0.7457 - val_macro_recall: 0.7440 - val_macro_f_measure: 0.7448\n",
      "Epoch 77/100\n",
      "8000/8000 [==============================] - 6s 756us/step - loss: 0.0436 - acc: 0.9761 - macro_precision: 0.9761 - macro_recall: 0.9760 - macro_f_measure: 0.9760 - val_loss: 2.3136 - val_acc: 0.7500 - val_macro_precision: 0.7480 - val_macro_recall: 0.7479 - val_macro_f_measure: 0.7479\n",
      "Epoch 78/100\n",
      "8000/8000 [==============================] - 6s 755us/step - loss: 0.0446 - acc: 0.9756 - macro_precision: 0.9758 - macro_recall: 0.9754 - macro_f_measure: 0.9756 - val_loss: 2.3676 - val_acc: 0.7340 - val_macro_precision: 0.7313 - val_macro_recall: 0.7319 - val_macro_f_measure: 0.7316\n",
      "Epoch 79/100\n",
      "8000/8000 [==============================] - 6s 754us/step - loss: 0.0445 - acc: 0.9773 - macro_precision: 0.9773 - macro_recall: 0.9772 - macro_f_measure: 0.9773 - val_loss: 2.3322 - val_acc: 0.7410 - val_macro_precision: 0.7390 - val_macro_recall: 0.7382 - val_macro_f_measure: 0.7386\n",
      "Epoch 80/100\n",
      "8000/8000 [==============================] - 6s 757us/step - loss: 0.0433 - acc: 0.9778 - macro_precision: 0.9783 - macro_recall: 0.9773 - macro_f_measure: 0.9778 - val_loss: 2.2579 - val_acc: 0.7380 - val_macro_precision: 0.7415 - val_macro_recall: 0.7327 - val_macro_f_measure: 0.7370\n",
      "Epoch 81/100\n",
      "8000/8000 [==============================] - 8s 1ms/step - loss: 0.0453 - acc: 0.9770 - macro_precision: 0.9772 - macro_recall: 0.9767 - macro_f_measure: 0.9770 - val_loss: 2.3148 - val_acc: 0.7380 - val_macro_precision: 0.7358 - val_macro_recall: 0.7351 - val_macro_f_measure: 0.7355\n",
      "Epoch 82/100\n"
     ]
    },
    {
     "name": "stdout",
     "output_type": "stream",
     "text": [
      "8000/8000 [==============================] - 6s 791us/step - loss: 0.0435 - acc: 0.9770 - macro_precision: 0.9771 - macro_recall: 0.9768 - macro_f_measure: 0.9769 - val_loss: 2.3099 - val_acc: 0.7360 - val_macro_precision: 0.7354 - val_macro_recall: 0.7326 - val_macro_f_measure: 0.7340\n",
      "Epoch 83/100\n",
      "8000/8000 [==============================] - 6s 765us/step - loss: 0.0444 - acc: 0.9791 - macro_precision: 0.9795 - macro_recall: 0.9789 - macro_f_measure: 0.9792 - val_loss: 2.3660 - val_acc: 0.7380 - val_macro_precision: 0.7369 - val_macro_recall: 0.7339 - val_macro_f_measure: 0.7354\n",
      "Epoch 84/100\n",
      "8000/8000 [==============================] - 6s 779us/step - loss: 0.0435 - acc: 0.9771 - macro_precision: 0.9774 - macro_recall: 0.9768 - macro_f_measure: 0.9771 - val_loss: 2.6013 - val_acc: 0.7410 - val_macro_precision: 0.7391 - val_macro_recall: 0.7387 - val_macro_f_measure: 0.7389\n",
      "Epoch 85/100\n",
      "8000/8000 [==============================] - 6s 742us/step - loss: 0.0429 - acc: 0.9776 - macro_precision: 0.9780 - macro_recall: 0.9774 - macro_f_measure: 0.9777 - val_loss: 2.5504 - val_acc: 0.7360 - val_macro_precision: 0.7351 - val_macro_recall: 0.7336 - val_macro_f_measure: 0.7343\n",
      "Epoch 86/100\n",
      "8000/8000 [==============================] - 6s 747us/step - loss: 0.0423 - acc: 0.9785 - macro_precision: 0.9788 - macro_recall: 0.9782 - macro_f_measure: 0.9785 - val_loss: 2.6197 - val_acc: 0.7350 - val_macro_precision: 0.7335 - val_macro_recall: 0.7316 - val_macro_f_measure: 0.7325\n",
      "Epoch 87/100\n",
      "8000/8000 [==============================] - 6s 751us/step - loss: 0.0432 - acc: 0.9775 - macro_precision: 0.9778 - macro_recall: 0.9772 - macro_f_measure: 0.9775 - val_loss: 2.5707 - val_acc: 0.7360 - val_macro_precision: 0.7347 - val_macro_recall: 0.7328 - val_macro_f_measure: 0.7337\n",
      "Epoch 88/100\n",
      "8000/8000 [==============================] - 6s 734us/step - loss: 0.0469 - acc: 0.9749 - macro_precision: 0.9750 - macro_recall: 0.9747 - macro_f_measure: 0.9748 - val_loss: 2.1325 - val_acc: 0.7420 - val_macro_precision: 0.7425 - val_macro_recall: 0.7379 - val_macro_f_measure: 0.7402\n",
      "Epoch 89/100\n",
      "8000/8000 [==============================] - 6s 745us/step - loss: 0.0442 - acc: 0.9780 - macro_precision: 0.9780 - macro_recall: 0.9779 - macro_f_measure: 0.9779 - val_loss: 2.4122 - val_acc: 0.7330 - val_macro_precision: 0.7315 - val_macro_recall: 0.7308 - val_macro_f_measure: 0.7311\n",
      "Epoch 90/100\n",
      "8000/8000 [==============================] - 6s 738us/step - loss: 0.0448 - acc: 0.9770 - macro_precision: 0.9770 - macro_recall: 0.9769 - macro_f_measure: 0.9769 - val_loss: 2.3572 - val_acc: 0.7310 - val_macro_precision: 0.7287 - val_macro_recall: 0.7294 - val_macro_f_measure: 0.7290\n",
      "Epoch 91/100\n",
      "8000/8000 [==============================] - 6s 735us/step - loss: 0.0443 - acc: 0.9764 - macro_precision: 0.9765 - macro_recall: 0.9763 - macro_f_measure: 0.9764 - val_loss: 2.4557 - val_acc: 0.7310 - val_macro_precision: 0.7291 - val_macro_recall: 0.7286 - val_macro_f_measure: 0.7288\n",
      "Epoch 92/100\n",
      "8000/8000 [==============================] - 6s 747us/step - loss: 0.0430 - acc: 0.9771 - macro_precision: 0.9774 - macro_recall: 0.9770 - macro_f_measure: 0.9772 - val_loss: 2.4616 - val_acc: 0.7350 - val_macro_precision: 0.7342 - val_macro_recall: 0.7322 - val_macro_f_measure: 0.7332\n",
      "Epoch 93/100\n",
      "8000/8000 [==============================] - 6s 737us/step - loss: 0.0404 - acc: 0.9770 - macro_precision: 0.9771 - macro_recall: 0.9770 - macro_f_measure: 0.9770 - val_loss: 2.6201 - val_acc: 0.7420 - val_macro_precision: 0.7413 - val_macro_recall: 0.7389 - val_macro_f_measure: 0.7401\n",
      "Epoch 94/100\n",
      "8000/8000 [==============================] - 6s 733us/step - loss: 0.0412 - acc: 0.9786 - macro_precision: 0.9790 - macro_recall: 0.9783 - macro_f_measure: 0.9786 - val_loss: 2.3858 - val_acc: 0.7410 - val_macro_precision: 0.7406 - val_macro_recall: 0.7381 - val_macro_f_measure: 0.7393\n",
      "Epoch 95/100\n",
      "8000/8000 [==============================] - 8s 1ms/step - loss: 0.0458 - acc: 0.9766 - macro_precision: 0.9765 - macro_recall: 0.9769 - macro_f_measure: 0.9767 - val_loss: 2.1883 - val_acc: 0.7500 - val_macro_precision: 0.7537 - val_macro_recall: 0.7439 - val_macro_f_measure: 0.7488\n",
      "Epoch 96/100\n",
      "8000/8000 [==============================] - 7s 826us/step - loss: 0.0436 - acc: 0.9758 - macro_precision: 0.9758 - macro_recall: 0.9754 - macro_f_measure: 0.9756 - val_loss: 2.4345 - val_acc: 0.7450 - val_macro_precision: 0.7438 - val_macro_recall: 0.7419 - val_macro_f_measure: 0.7428\n",
      "Epoch 97/100\n",
      "8000/8000 [==============================] - 7s 868us/step - loss: 0.0409 - acc: 0.9789 - macro_precision: 0.9792 - macro_recall: 0.9784 - macro_f_measure: 0.9788 - val_loss: 2.5811 - val_acc: 0.7420 - val_macro_precision: 0.7408 - val_macro_recall: 0.7389 - val_macro_f_measure: 0.7398\n",
      "Epoch 98/100\n",
      "8000/8000 [==============================] - 10s 1ms/step - loss: 0.0433 - acc: 0.9789 - macro_precision: 0.9791 - macro_recall: 0.9787 - macro_f_measure: 0.9789 - val_loss: 2.3739 - val_acc: 0.7470 - val_macro_precision: 0.7457 - val_macro_recall: 0.7439 - val_macro_f_measure: 0.7448\n",
      "Epoch 99/100\n",
      "8000/8000 [==============================] - 7s 872us/step - loss: 0.0430 - acc: 0.9770 - macro_precision: 0.9771 - macro_recall: 0.9768 - macro_f_measure: 0.9770 - val_loss: 2.5105 - val_acc: 0.7340 - val_macro_precision: 0.7318 - val_macro_recall: 0.7322 - val_macro_f_measure: 0.7320\n",
      "Epoch 100/100\n",
      "8000/8000 [==============================] - 6s 771us/step - loss: 0.0424 - acc: 0.9769 - macro_precision: 0.9768 - macro_recall: 0.9768 - macro_f_measure: 0.9768 - val_loss: 2.5176 - val_acc: 0.7410 - val_macro_precision: 0.7395 - val_macro_recall: 0.7383 - val_macro_f_measure: 0.7389\n"
     ]
    }
   ],
   "source": [
    "history = model.fit([x1_train, x2_train], y_train,\n",
    "                    epochs=100, \n",
    "                    batch_size=100,\n",
    "                    validation_data=([x1_val, x2_val], y_val))"
   ]
  },
  {
   "cell_type": "code",
   "execution_count": 12,
   "metadata": {},
   "outputs": [
    {
     "name": "stdout",
     "output_type": "stream",
     "text": [
      "1000/1000 [==============================] - 0s 342us/step\n",
      "[0.7411905822753906, 0.7, 0.6663632621765136, 0.6150756568908692, 0.6297031216621399]\n"
     ]
    }
   ],
   "source": [
    "loss_and_metrics = model.evaluate([x1_test, x2_test], y_test)\n",
    "print(loss_and_metrics)"
   ]
  },
  {
   "cell_type": "code",
   "execution_count": 13,
   "metadata": {},
   "outputs": [],
   "source": [
    "classes = model.predict([x1_test, x2_test])\n",
    "np.savetxt('Mult_predict.csv', classes, delimiter = ',')"
   ]
  },
  {
   "cell_type": "code",
   "execution_count": 14,
   "metadata": {},
   "outputs": [
    {
     "data": {
      "text/plain": [
       "['loss', 'acc', 'macro_precision', 'macro_recall', 'macro_f_measure']"
      ]
     },
     "execution_count": 14,
     "metadata": {},
     "output_type": "execute_result"
    }
   ],
   "source": [
    "model.metrics_names"
   ]
  },
  {
   "cell_type": "code",
   "execution_count": 16,
   "metadata": {},
   "outputs": [
    {
     "data": {
      "image/png": "[encoded data removed]",
      "text/plain": [
       "<Figure size 432x288 with 2 Axes>"
      ]
     },
     "metadata": {
      "needs_background": "light"
     },
     "output_type": "display_data"
    }
   ],
   "source": [
    "import matplotlib.pyplot as plt\n",
    "\n",
    "val_acc = history.history['val_acc']\n",
    "val_loss = history.history['val_loss']\n",
    "epochs = range(1, len(val_acc) + 1)\n",
    "\n",
    "fig = plt.figure()\n",
    "ax_acc = fig.add_subplot(111)\n",
    "ax_acc.plot(epochs, val_acc, 'b--', label='Validation acc')\n",
    "plt.legend(bbox_to_anchor=(0, 1), loc='upper left', borderaxespad=0.5, fontsize=10)\n",
    "\n",
    "ax_loss = ax_acc.twinx()\n",
    "ax_loss.plot(epochs, val_loss, 'b', label='Validation loss')\n",
    "plt.legend(bbox_to_anchor=(0, 0.9), loc='upper left', borderaxespad=0.5, fontsize=10)\n",
    "plt.title('Validation acc and Validation loss')\n",
    "ax_acc.set_xlabel('epochs')\n",
    "ax_acc.set_ylabel('Validation acc')\n",
    "ax_loss.grid(True)\n",
    "ax_loss.set_ylabel('Validation loss')\n",
    "\n",
    "plt.show()"
   ]
  },
  {
   "cell_type": "code",
   "execution_count": 16,
   "metadata": {},
   "outputs": [
    {
     "data": {
      "image/png": "[encoded data removed]",
      "text/plain": [
       "<Figure size 432x288 with 2 Axes>"
      ]
     },
     "metadata": {
      "needs_background": "light"
     },
     "output_type": "display_data"
    }
   ],
   "source": [
    "acc = history.history['acc']\n",
    "loss = history.history['loss']\n",
    "epochs = range(1, len(val_acc) + 1)\n",
    "\n",
    "fig = plt.figure()\n",
    "ax_acc = fig.add_subplot(111)\n",
    "ax_acc.plot(epochs, acc, 'b--', label='Training acc')\n",
    "plt.legend(bbox_to_anchor=(0, 1), loc='upper left', borderaxespad=0.5, fontsize=10)\n",
    "\n",
    "ax_loss = ax_acc.twinx()\n",
    "ax_loss.plot(epochs, loss, 'b', label='Training loss')\n",
    "plt.legend(bbox_to_anchor=(0, 0.9), loc='upper left', borderaxespad=0.5, fontsize=10)\n",
    "plt.title('Training acc and Training loss')\n",
    "ax_acc.set_xlabel('epochs')\n",
    "ax_acc.set_ylabel('Training acc')\n",
    "ax_loss.grid(True)\n",
    "ax_loss.set_ylabel('Training loss')\n",
    "\n",
    "plt.show()"
   ]
  },
  {
   "cell_type": "code",
   "execution_count": 17,
   "metadata": {
    "lines_to_next_cell": 0
   },
   "outputs": [
    {
     "data": {
      "image/png": "[encoded data removed]",
      "text/plain": [
       "<Figure size 432x288 with 2 Axes>"
      ]
     },
     "metadata": {
      "needs_background": "light"
     },
     "output_type": "display_data"
    }
   ],
   "source": [
    "fig = plt.figure()\n",
    "ax_acc = fig.add_subplot(111)\n",
    "ax_acc.plot(epochs, acc, 'b--', label='Training acc')\n",
    "plt.legend(bbox_to_anchor=(0, 1), loc='upper left', borderaxespad=0.5, fontsize=10)\n",
    "\n",
    "ax_loss = ax_acc.twinx()\n",
    "ax_loss.plot(epochs, val_acc, 'b', label='Validation acc')\n",
    "plt.legend(bbox_to_anchor=(0, 0.9), loc='upper left', borderaxespad=0.5, fontsize=10)\n",
    "plt.title('Training acc and Validation acc')\n",
    "ax_acc.set_xlabel('epochs')\n",
    "ax_acc.set_ylabel('Training acc')\n",
    "ax_loss.grid(True)\n",
    "ax_loss.set_ylabel('Validation acc')\n",
    "\n",
    "plt.show()"
   ]
  },
  {
   "cell_type": "code",
   "execution_count": null,
   "metadata": {
    "lines_to_next_cell": 2
   },
   "outputs": [],
   "source": []
  }
 ],
 "metadata": {
  "jupytext": {
   "encoding": "# -*- coding: utf-8 -*-",
   "text_representation": {
    "extension": ".py",
    "format_name": "light",
    "format_version": "1.5",
    "jupytext_version": "1.3.1"
   }
  },
  "kernelspec": {
   "display_name": "Python 3",
   "language": "python",
   "name": "python3"
  },
  "language_info": {
   "codemirror_mode": {
    "name": "ipython",
    "version": 3
   },
   "file_extension": ".py",
   "mimetype": "text/x-python",
   "name": "python",
   "nbconvert_exporter": "python",
   "pygments_lexer": "ipython3",
   "version": "3.6.7"
  }
 },
 "nbformat": 4,
 "nbformat_minor": 2
}
