{
 "cells": [
  {
   "cell_type": "code",
   "execution_count": 1,
   "metadata": {},
   "outputs": [
    {
     "name": "stderr",
     "output_type": "stream",
     "text": [
      "Using TensorFlow backend.\n"
     ]
    }
   ],
   "source": [
    "from keras.layers import Input, Dense, Embedding, LSTM, Dropout, concatenate\n",
    "from keras.models import Model\n",
    "from keras.callbacks import EarlyStopping\n",
    "from keras.utils import plot_model\n",
    "import numpy as np\n",
    "from keras.optimizers import Adam"
   ]
  },
  {
   "cell_type": "code",
   "execution_count": 2,
   "metadata": {},
   "outputs": [
    {
     "name": "stdout",
     "output_type": "stream",
     "text": [
      "10000\n",
      "10000\n"
     ]
    }
   ],
   "source": [
    "#ツイートのテキスト読み込み\n",
    "test = open(\"extract_tweet.txt\", \"r\", encoding=\"utf-8\")\n",
    "lines = test.readlines()\n",
    "test.close()\n",
    "print(len(lines))\n",
    "\n",
    "#ラベル読み込み\n",
    "test = open(\"label.txt\", \"r\", encoding=\"utf-8\")\n",
    "label = test.readlines()\n",
    "test.close()\n",
    "print(len(label))"
   ]
  },
  {
   "cell_type": "code",
   "execution_count": 3,
   "metadata": {},
   "outputs": [
    {
     "name": "stdout",
     "output_type": "stream",
     "text": [
      "10000\n"
     ]
    }
   ],
   "source": [
    "#userID\n",
    "test = open(\"user.txt\",\"r\", encoding=\"utf-8\")\n",
    "uID = test.readlines()\n",
    "test.close()\n",
    "print(len(uID))"
   ]
  },
  {
   "cell_type": "code",
   "execution_count": 4,
   "metadata": {},
   "outputs": [],
   "source": [
    "id_list = []\n",
    "for i in uID:\n",
    "    if i in id_list:\n",
    "        continue\n",
    "    else:\n",
    "        id_list.append(i)"
   ]
  },
  {
   "cell_type": "code",
   "execution_count": 5,
   "metadata": {},
   "outputs": [
    {
     "name": "stdout",
     "output_type": "stream",
     "text": [
      "32\n"
     ]
    }
   ],
   "source": [
    "print(len(id_list))"
   ]
  },
  {
   "cell_type": "code",
   "execution_count": 6,
   "metadata": {},
   "outputs": [],
   "source": [
    "post_user = []\n",
    "for i in uID:\n",
    "    for j in range(len(id_list)):\n",
    "        if i == id_list[j]:\n",
    "            post_user.append(j)"
   ]
  },
  {
   "cell_type": "code",
   "execution_count": 7,
   "metadata": {},
   "outputs": [],
   "source": [
    "n_postUser = np.array(post_user)"
   ]
  },
  {
   "cell_type": "code",
   "execution_count": 8,
   "metadata": {},
   "outputs": [
    {
     "name": "stdout",
     "output_type": "stream",
     "text": [
      "Found 18881 unique tokens.\n",
      "Shape of data tensor:(10000, 50)\n",
      "Shape of label tensor:(10000, 2)\n"
     ]
    }
   ],
   "source": [
    "from keras.preprocessing.text import Tokenizer\n",
    "from keras.preprocessing.sequence import pad_sequences\n",
    "import numpy as np\n",
    "from keras.utils.np_utils import to_categorical\n",
    "\n",
    "maxlen = 50\n",
    "train = 0.7\n",
    "validation = 0.1\n",
    "max_words = 20000\n",
    "\n",
    "# word indexを作成\n",
    "tokenizer = Tokenizer(num_words=max_words)\n",
    "tokenizer.fit_on_texts(lines)\n",
    "sequences = tokenizer.texts_to_sequences(lines)\n",
    "\n",
    "word_index = tokenizer.word_index\n",
    "print(\"Found {} unique tokens.\".format(len(word_index)))\n",
    "\n",
    "data = pad_sequences(sequences, maxlen=maxlen)\n",
    "\n",
    "# バイナリの行列に変換\n",
    "categorical_labels = to_categorical(label)\n",
    "labels = np.asarray(categorical_labels)\n",
    "\n",
    "print(\"Shape of data tensor:{}\".format(data.shape))\n",
    "print(\"Shape of label tensor:{}\".format(labels.shape))\n",
    "\n",
    "# 行列をランダムにシャッフルする\n",
    "indices = np.arange(data.shape[0])\n",
    "np.random.shuffle(indices)\n",
    "data = data[indices]\n",
    "labels = labels[indices]\n",
    "users = n_postUser[indices]\n",
    "\n",
    "indices = [int(len(labels) * n) for n in [train, train + validation]]\n",
    "x1_train, x1_val, x1_test = np.split(data, indices)\n",
    "x2_train, x2_val, x2_test = np.split(users, indices)\n",
    "y_train, y_val, y_test = np.split(labels, indices)"
   ]
  },
  {
   "cell_type": "code",
   "execution_count": 2,
   "metadata": {},
   "outputs": [],
   "source": [
    "import keras.backend as K\n",
    "from functools import partial\n",
    "\n",
    "def normalize_y_pred(y_pred):\n",
    "    return K.one_hot(K.argmax(y_pred), y_pred.shape[-1])\n",
    "\n",
    "def class_true_positive(class_label, y_true, y_pred):\n",
    "    y_pred = normalize_y_pred(y_pred)\n",
    "    return K.cast(K.equal(y_true[:, class_label] + y_pred[:, class_label], 2), K.floatx())\n",
    "\n",
    "def class_accuracy(class_label, y_true, y_pred):\n",
    "    y_pred = normalize_y_pred(y_pred)\n",
    "    return K.cast(K.equal(y_true[:, class_label], y_pred[:, class_label]),\n",
    "                  K.floatx())\n",
    "\n",
    "def class_precision(class_label, y_true, y_pred):\n",
    "    y_pred = normalize_y_pred(y_pred)\n",
    "    return K.sum(class_true_positive(class_label, y_true, y_pred)) / (K.sum(y_pred[:, class_label]) + K.epsilon())\n",
    "\n",
    "\n",
    "def class_recall(class_label, y_true, y_pred):\n",
    "    return K.sum(class_true_positive(class_label, y_true, y_pred)) / (K.sum(y_true[:, class_label]) + K.epsilon())\n",
    "\n",
    "\n",
    "def class_f_measure(class_label, y_true, y_pred):\n",
    "    precision = class_precision(class_label, y_true, y_pred)\n",
    "    recall = class_recall(class_label, y_true, y_pred)\n",
    "    return (2 * precision * recall) / (precision + recall + K.epsilon())\n",
    "\n",
    "\n",
    "def true_positive(y_true, y_pred):\n",
    "    y_pred = normalize_y_pred(y_pred)\n",
    "    return K.cast(K.equal(y_true + y_pred, 2),\n",
    "                  K.floatx())\n",
    "\n",
    "\n",
    "def micro_precision(y_true, y_pred):\n",
    "    y_pred = normalize_y_pred(y_pred)\n",
    "    return K.sum(true_positive(y_true, y_pred)) / (K.sum(y_pred) + K.epsilon())\n",
    "\n",
    "\n",
    "def micro_recall(y_true, y_pred):\n",
    "    return K.sum(true_positive(y_true, y_pred)) / (K.sum(y_true) + K.epsilon())\n",
    "\n",
    "\n",
    "def micro_f_measure(y_true, y_pred):\n",
    "    precision = micro_precision(y_true, y_pred)\n",
    "    recall = micro_recall(y_true, y_pred)\n",
    "    return (2 * precision * recall) / (precision + recall + K.epsilon())\n",
    "\n",
    "\n",
    "def average_accuracy(y_true, y_pred):\n",
    "    class_count = y_pred.shape[-1]\n",
    "    class_acc_list = [class_accuracy(i, y_true, y_pred) for i in range(class_count)]\n",
    "    class_acc_matrix = K.concatenate(class_acc_list, axis=0)\n",
    "    return K.mean(class_acc_matrix, axis=0)\n",
    "\n",
    "\n",
    "def macro_precision(y_true, y_pred):\n",
    "    class_count = y_pred.shape[-1]\n",
    "    return K.sum([class_precision(i, y_true, y_pred) for i in range(class_count)]) / K.cast(class_count, K.floatx())\n",
    "\n",
    "\n",
    "def macro_recall(y_true, y_pred):\n",
    "    class_count = y_pred.shape[-1]\n",
    "    return K.sum([class_recall(i, y_true, y_pred) for i in range(class_count)]) / K.cast(class_count, K.floatx())\n",
    "\n",
    "\n",
    "def macro_f_measure(y_true, y_pred):\n",
    "    precision = macro_precision(y_true, y_pred)\n",
    "    recall = macro_recall(y_true, y_pred)\n",
    "    return (2 * precision * recall) / (precision + recall + K.epsilon())"
   ]
  },
  {
   "cell_type": "code",
   "execution_count": 3,
   "metadata": {},
   "outputs": [
    {
     "name": "stdout",
     "output_type": "stream",
     "text": [
      "__________________________________________________________________________________________________\n",
      "Layer (type)                    Output Shape         Param #     Connected to                     \n",
      "==================================================================================================\n",
      "Input_postText (InputLayer)     (None, 50)           0                                            \n",
      "__________________________________________________________________________________________________\n",
      "Embedding (Embedding)           (None, 50, 50)       1000000     Input_postText[0][0]             \n",
      "__________________________________________________________________________________________________\n",
      "Input_ids (InputLayer)          (None, 1)            0                                            \n",
      "__________________________________________________________________________________________________\n",
      "LSTM (LSTM)                     (None, 32)           10624       Embedding[0][0]                  \n",
      "__________________________________________________________________________________________________\n",
      "dence1 (Dense)                  (None, 16)           32          Input_ids[0][0]                  \n",
      "__________________________________________________________________________________________________\n",
      "merge1 (Concatenate)            (None, 48)           0           LSTM[0][0]                       \n",
      "                                                                 dence1[0][0]                     \n",
      "__________________________________________________________________________________________________\n",
      "dence (Dense)                   (None, 16)           784         merge1[0][0]                     \n",
      "__________________________________________________________________________________________________\n",
      "output (Dense)                  (None, 2)            34          dence[0][0]                      \n",
      "==================================================================================================\n",
      "Total params: 1,011,474\n",
      "Trainable params: 1,011,474\n",
      "Non-trainable params: 0\n",
      "__________________________________________________________________________________________________\n"
     ]
    }
   ],
   "source": [
    "p_input = Input(shape=(50, ), dtype='int32', name='Input_postText')\n",
    "i_input = Input(shape=(1, ), name='Input_ids')\n",
    "\n",
    "#テキストの学習\n",
    "em = Embedding(input_dim=20000, output_dim=50, input_length=50, name='Embedding')(p_input)\n",
    "d_em = Dropout(0.5)(em)\n",
    "lstm_out = LSTM(32, name='LSTM')(d_em)\n",
    "d_lstm_out = Dropout(0.5)(lstm_out)\n",
    "#2つ目のデータ学習\n",
    "i2 = Dense(16, activation='relu', name = 'dence1')(i_input)\n",
    "d_i2 = Dropout(0.5)(i2)\n",
    "x = concatenate([d_lstm_out, d_i2], name='merge1')\n",
    "\n",
    "m2 = Dense(16, activation='relu', name = 'dence')(x)\n",
    "d_m2 = Dropout(0.5)(m2)\n",
    "output = Dense(2, activation='softmax', name = 'output')(d_m2)\n",
    "\n",
    "optimizer = Adam(lr=1e-3)\n",
    "model = Model(inputs=[p_input, i_input], outputs = output)\n",
    "model.compile(optimizer=optimizer, loss='categorical_crossentropy',  metrics=['acc', macro_precision, macro_recall, macro_f_measure])\n",
    "model.summary()\n",
    "#plot_model(model, show_shapes=True, show_layer_names=True, to_file='model_image/model2.png')\n",
    "\n",
    "\n",
    "early_stopping = EarlyStopping(patience=2, verbose=1)"
   ]
  },
  {
   "cell_type": "code",
   "execution_count": 11,
   "metadata": {},
   "outputs": [
    {
     "name": "stdout",
     "output_type": "stream",
     "text": [
      "Train on 7000 samples, validate on 999 samples\n",
      "Epoch 1/100\n",
      "7000/7000 [==============================] - 5s 644us/step - loss: 3.5847 - acc: 0.5029 - macro_precision: 0.5038 - macro_recall: 0.5027 - macro_f_measure: 0.5030 - val_loss: 1.0311 - val_acc: 0.4915 - val_macro_precision: 0.4937 - val_macro_recall: 0.4943 - val_macro_f_measure: 0.4940\n",
      "Epoch 2/100\n",
      "7000/7000 [==============================] - 2s 336us/step - loss: 2.1759 - acc: 0.4980 - macro_precision: 0.4980 - macro_recall: 0.4981 - macro_f_measure: 0.4980 - val_loss: 0.6818 - val_acc: 0.5536 - val_macro_precision: 0.7080 - val_macro_recall: 0.5450 - val_macro_f_measure: 0.6157\n",
      "Epoch 3/100\n",
      "7000/7000 [==============================] - 2s 331us/step - loss: 1.4134 - acc: 0.5110 - macro_precision: 0.5107 - macro_recall: 0.5107 - macro_f_measure: 0.5107 - val_loss: 0.6866 - val_acc: 0.5526 - val_macro_precision: 0.5633 - val_macro_recall: 0.5477 - val_macro_f_measure: 0.5554\n",
      "Epoch 4/100\n",
      "7000/7000 [==============================] - 2s 337us/step - loss: 0.9768 - acc: 0.5281 - macro_precision: 0.5283 - macro_recall: 0.5279 - macro_f_measure: 0.5281 - val_loss: 0.6408 - val_acc: 0.5956 - val_macro_precision: 0.7389 - val_macro_recall: 0.5882 - val_macro_f_measure: 0.6550\n",
      "Epoch 5/100\n",
      "7000/7000 [==============================] - 2s 339us/step - loss: 0.7959 - acc: 0.5477 - macro_precision: 0.5520 - macro_recall: 0.5484 - macro_f_measure: 0.5502 - val_loss: 0.6287 - val_acc: 0.6036 - val_macro_precision: 0.7813 - val_macro_recall: 0.5959 - val_macro_f_measure: 0.6760\n",
      "Epoch 6/100\n",
      "7000/7000 [==============================] - 2s 338us/step - loss: 0.7083 - acc: 0.5803 - macro_precision: 0.5881 - macro_recall: 0.5808 - macro_f_measure: 0.5844 - val_loss: 0.6242 - val_acc: 0.6066 - val_macro_precision: 0.7823 - val_macro_recall: 0.5991 - val_macro_f_measure: 0.6784\n",
      "Epoch 7/100\n",
      "7000/7000 [==============================] - 2s 340us/step - loss: 0.6770 - acc: 0.5840 - macro_precision: 0.6049 - macro_recall: 0.5834 - macro_f_measure: 0.5939 - val_loss: 0.6138 - val_acc: 0.6246 - val_macro_precision: 0.7833 - val_macro_recall: 0.6174 - val_macro_f_measure: 0.6905\n",
      "Epoch 8/100\n",
      "7000/7000 [==============================] - 2s 331us/step - loss: 0.6438 - acc: 0.6201 - macro_precision: 0.6433 - macro_recall: 0.6194 - macro_f_measure: 0.6311 - val_loss: 0.5755 - val_acc: 0.6857 - val_macro_precision: 0.7521 - val_macro_recall: 0.6806 - val_macro_f_measure: 0.7145\n",
      "Epoch 9/100\n",
      "7000/7000 [==============================] - 2s 332us/step - loss: 0.5854 - acc: 0.6780 - macro_precision: 0.7068 - macro_recall: 0.6780 - macro_f_measure: 0.6920 - val_loss: 0.5369 - val_acc: 0.7147 - val_macro_precision: 0.7607 - val_macro_recall: 0.7107 - val_macro_f_measure: 0.7348\n",
      "Epoch 10/100\n",
      "7000/7000 [==============================] - 2s 338us/step - loss: 0.5450 - acc: 0.7290 - macro_precision: 0.7647 - macro_recall: 0.7289 - macro_f_measure: 0.7462 - val_loss: 0.5186 - val_acc: 0.7267 - val_macro_precision: 0.7611 - val_macro_recall: 0.7232 - val_macro_f_measure: 0.7417\n",
      "Epoch 11/100\n",
      "7000/7000 [==============================] - 2s 333us/step - loss: 0.4863 - acc: 0.7679 - macro_precision: 0.7914 - macro_recall: 0.7679 - macro_f_measure: 0.7794 - val_loss: 0.5006 - val_acc: 0.7297 - val_macro_precision: 0.7616 - val_macro_recall: 0.7263 - val_macro_f_measure: 0.7435\n",
      "Epoch 12/100\n",
      "7000/7000 [==============================] - 2s 335us/step - loss: 0.4369 - acc: 0.8011 - macro_precision: 0.8206 - macro_recall: 0.8009 - macro_f_measure: 0.8106 - val_loss: 0.4941 - val_acc: 0.7367 - val_macro_precision: 0.7641 - val_macro_recall: 0.7335 - val_macro_f_measure: 0.7485\n",
      "Epoch 13/100\n",
      "7000/7000 [==============================] - 2s 328us/step - loss: 0.3876 - acc: 0.8319 - macro_precision: 0.8511 - macro_recall: 0.8319 - macro_f_measure: 0.8413 - val_loss: 0.5039 - val_acc: 0.7497 - val_macro_precision: 0.7673 - val_macro_recall: 0.7473 - val_macro_f_measure: 0.7572\n",
      "Epoch 14/100\n",
      "7000/7000 [==============================] - 2s 338us/step - loss: 0.3473 - acc: 0.8541 - macro_precision: 0.8643 - macro_recall: 0.8542 - macro_f_measure: 0.8592 - val_loss: 0.5342 - val_acc: 0.7317 - val_macro_precision: 0.7375 - val_macro_recall: 0.7304 - val_macro_f_measure: 0.7339\n",
      "Epoch 15/100\n",
      "7000/7000 [==============================] - 2s 335us/step - loss: 0.3128 - acc: 0.8759 - macro_precision: 0.8843 - macro_recall: 0.8756 - macro_f_measure: 0.8799 - val_loss: 0.5255 - val_acc: 0.7467 - val_macro_precision: 0.7599 - val_macro_recall: 0.7446 - val_macro_f_measure: 0.7522\n",
      "Epoch 16/100\n",
      "7000/7000 [==============================] - 2s 333us/step - loss: 0.2961 - acc: 0.8839 - macro_precision: 0.8902 - macro_recall: 0.8843 - macro_f_measure: 0.8872 - val_loss: 0.5221 - val_acc: 0.7487 - val_macro_precision: 0.7653 - val_macro_recall: 0.7469 - val_macro_f_measure: 0.7560\n",
      "Epoch 17/100\n",
      "7000/7000 [==============================] - 2s 331us/step - loss: 0.2607 - acc: 0.9019 - macro_precision: 0.9063 - macro_recall: 0.9016 - macro_f_measure: 0.9039 - val_loss: 0.5679 - val_acc: 0.7427 - val_macro_precision: 0.7542 - val_macro_recall: 0.7412 - val_macro_f_measure: 0.7476\n",
      "Epoch 18/100\n",
      "7000/7000 [==============================] - 2s 336us/step - loss: 0.2368 - acc: 0.9161 - macro_precision: 0.9193 - macro_recall: 0.9161 - macro_f_measure: 0.9177 - val_loss: 0.5707 - val_acc: 0.7648 - val_macro_precision: 0.7817 - val_macro_recall: 0.7629 - val_macro_f_measure: 0.7722\n",
      "Epoch 19/100\n",
      "7000/7000 [==============================] - 2s 333us/step - loss: 0.2048 - acc: 0.9217 - macro_precision: 0.9237 - macro_recall: 0.9216 - macro_f_measure: 0.9227 - val_loss: 0.6574 - val_acc: 0.7618 - val_macro_precision: 0.7781 - val_macro_recall: 0.7599 - val_macro_f_measure: 0.7689\n",
      "Epoch 20/100\n",
      "7000/7000 [==============================] - 2s 333us/step - loss: 0.1994 - acc: 0.9291 - macro_precision: 0.9309 - macro_recall: 0.9291 - macro_f_measure: 0.9300 - val_loss: 0.6343 - val_acc: 0.7548 - val_macro_precision: 0.7620 - val_macro_recall: 0.7539 - val_macro_f_measure: 0.7579\n",
      "Epoch 21/100\n",
      "7000/7000 [==============================] - 2s 336us/step - loss: 0.1894 - acc: 0.9323 - macro_precision: 0.9333 - macro_recall: 0.9325 - macro_f_measure: 0.9329 - val_loss: 0.6921 - val_acc: 0.7447 - val_macro_precision: 0.7497 - val_macro_recall: 0.7441 - val_macro_f_measure: 0.7469\n",
      "Epoch 22/100\n",
      "7000/7000 [==============================] - 2s 337us/step - loss: 0.1714 - acc: 0.9351 - macro_precision: 0.9359 - macro_recall: 0.9354 - macro_f_measure: 0.9356 - val_loss: 0.7533 - val_acc: 0.7538 - val_macro_precision: 0.7597 - val_macro_recall: 0.7532 - val_macro_f_measure: 0.7564\n",
      "Epoch 23/100\n",
      "7000/7000 [==============================] - 2s 340us/step - loss: 0.1617 - acc: 0.9439 - macro_precision: 0.9449 - macro_recall: 0.9433 - macro_f_measure: 0.9441 - val_loss: 0.7399 - val_acc: 0.7528 - val_macro_precision: 0.7595 - val_macro_recall: 0.7520 - val_macro_f_measure: 0.7557\n",
      "Epoch 24/100\n",
      "7000/7000 [==============================] - 2s 331us/step - loss: 0.1488 - acc: 0.9460 - macro_precision: 0.9468 - macro_recall: 0.9460 - macro_f_measure: 0.9464 - val_loss: 0.7898 - val_acc: 0.7457 - val_macro_precision: 0.7512 - val_macro_recall: 0.7449 - val_macro_f_measure: 0.7480\n",
      "Epoch 25/100\n",
      "7000/7000 [==============================] - 2s 331us/step - loss: 0.1447 - acc: 0.9477 - macro_precision: 0.9481 - macro_recall: 0.9479 - macro_f_measure: 0.9480 - val_loss: 0.8491 - val_acc: 0.7477 - val_macro_precision: 0.7527 - val_macro_recall: 0.7474 - val_macro_f_measure: 0.7500\n",
      "Epoch 26/100\n",
      "7000/7000 [==============================] - 2s 338us/step - loss: 0.1489 - acc: 0.9456 - macro_precision: 0.9457 - macro_recall: 0.9458 - macro_f_measure: 0.9457 - val_loss: 0.8488 - val_acc: 0.7397 - val_macro_precision: 0.7445 - val_macro_recall: 0.7395 - val_macro_f_measure: 0.7420\n",
      "Epoch 27/100\n",
      "7000/7000 [==============================] - 2s 334us/step - loss: 0.1264 - acc: 0.9513 - macro_precision: 0.9522 - macro_recall: 0.9511 - macro_f_measure: 0.9516 - val_loss: 0.8845 - val_acc: 0.7477 - val_macro_precision: 0.7525 - val_macro_recall: 0.7471 - val_macro_f_measure: 0.7497\n",
      "Epoch 28/100\n",
      "7000/7000 [==============================] - 2s 341us/step - loss: 0.1230 - acc: 0.9500 - macro_precision: 0.9505 - macro_recall: 0.9500 - macro_f_measure: 0.9503 - val_loss: 0.9599 - val_acc: 0.7407 - val_macro_precision: 0.7433 - val_macro_recall: 0.7402 - val_macro_f_measure: 0.7418\n",
      "Epoch 29/100\n",
      "7000/7000 [==============================] - 2s 335us/step - loss: 0.1200 - acc: 0.9537 - macro_precision: 0.9540 - macro_recall: 0.9539 - macro_f_measure: 0.9539 - val_loss: 0.9850 - val_acc: 0.7538 - val_macro_precision: 0.7605 - val_macro_recall: 0.7530 - val_macro_f_measure: 0.7567\n",
      "Epoch 30/100\n",
      "7000/7000 [==============================] - 2s 332us/step - loss: 0.1103 - acc: 0.9566 - macro_precision: 0.9571 - macro_recall: 0.9565 - macro_f_measure: 0.9568 - val_loss: 1.0438 - val_acc: 0.7387 - val_macro_precision: 0.7426 - val_macro_recall: 0.7381 - val_macro_f_measure: 0.7403\n",
      "Epoch 31/100\n",
      "7000/7000 [==============================] - 2s 339us/step - loss: 0.1084 - acc: 0.9599 - macro_precision: 0.9605 - macro_recall: 0.9598 - macro_f_measure: 0.9601 - val_loss: 1.1043 - val_acc: 0.7427 - val_macro_precision: 0.7471 - val_macro_recall: 0.7419 - val_macro_f_measure: 0.7445\n",
      "Epoch 32/100\n",
      "7000/7000 [==============================] - 2s 332us/step - loss: 0.1162 - acc: 0.9560 - macro_precision: 0.9561 - macro_recall: 0.9562 - macro_f_measure: 0.9561 - val_loss: 0.9981 - val_acc: 0.7568 - val_macro_precision: 0.7677 - val_macro_recall: 0.7559 - val_macro_f_measure: 0.7617\n",
      "Epoch 33/100\n",
      "7000/7000 [==============================] - 2s 332us/step - loss: 0.1096 - acc: 0.9589 - macro_precision: 0.9594 - macro_recall: 0.9586 - macro_f_measure: 0.9590 - val_loss: 1.0315 - val_acc: 0.7477 - val_macro_precision: 0.7537 - val_macro_recall: 0.7470 - val_macro_f_measure: 0.7503\n",
      "Epoch 34/100\n",
      "7000/7000 [==============================] - 2s 339us/step - loss: 0.1086 - acc: 0.9587 - macro_precision: 0.9598 - macro_recall: 0.9585 - macro_f_measure: 0.9592 - val_loss: 1.0644 - val_acc: 0.7518 - val_macro_precision: 0.7566 - val_macro_recall: 0.7512 - val_macro_f_measure: 0.7539\n",
      "Epoch 35/100\n",
      "7000/7000 [==============================] - 2s 343us/step - loss: 0.1084 - acc: 0.9583 - macro_precision: 0.9589 - macro_recall: 0.9583 - macro_f_measure: 0.9586 - val_loss: 1.0849 - val_acc: 0.7497 - val_macro_precision: 0.7566 - val_macro_recall: 0.7490 - val_macro_f_measure: 0.7528\n",
      "Epoch 36/100\n",
      "7000/7000 [==============================] - 2s 336us/step - loss: 0.0971 - acc: 0.9607 - macro_precision: 0.9612 - macro_recall: 0.9606 - macro_f_measure: 0.9609 - val_loss: 1.1661 - val_acc: 0.7558 - val_macro_precision: 0.7671 - val_macro_recall: 0.7548 - val_macro_f_measure: 0.7609\n",
      "Epoch 37/100\n",
      "7000/7000 [==============================] - 2s 333us/step - loss: 0.0919 - acc: 0.9633 - macro_precision: 0.9637 - macro_recall: 0.9633 - macro_f_measure: 0.9635 - val_loss: 1.1404 - val_acc: 0.7518 - val_macro_precision: 0.7597 - val_macro_recall: 0.7510 - val_macro_f_measure: 0.7553\n",
      "Epoch 38/100\n",
      "7000/7000 [==============================] - 2s 335us/step - loss: 0.0901 - acc: 0.9649 - macro_precision: 0.9651 - macro_recall: 0.9648 - macro_f_measure: 0.9650 - val_loss: 1.2812 - val_acc: 0.7367 - val_macro_precision: 0.7401 - val_macro_recall: 0.7360 - val_macro_f_measure: 0.7381\n",
      "Epoch 39/100\n",
      "7000/7000 [==============================] - 2s 336us/step - loss: 0.0853 - acc: 0.9667 - macro_precision: 0.9669 - macro_recall: 0.9667 - macro_f_measure: 0.9668 - val_loss: 1.3270 - val_acc: 0.7417 - val_macro_precision: 0.7472 - val_macro_recall: 0.7411 - val_macro_f_measure: 0.7441\n",
      "Epoch 40/100\n",
      "7000/7000 [==============================] - 2s 332us/step - loss: 0.0813 - acc: 0.9649 - macro_precision: 0.9653 - macro_recall: 0.9648 - macro_f_measure: 0.9650 - val_loss: 1.4139 - val_acc: 0.7307 - val_macro_precision: 0.7327 - val_macro_recall: 0.7307 - val_macro_f_measure: 0.7317\n",
      "Epoch 41/100\n",
      "7000/7000 [==============================] - 2s 334us/step - loss: 0.0886 - acc: 0.9617 - macro_precision: 0.9625 - macro_recall: 0.9616 - macro_f_measure: 0.9621 - val_loss: 1.3990 - val_acc: 0.7357 - val_macro_precision: 0.7398 - val_macro_recall: 0.7350 - val_macro_f_measure: 0.7374\n",
      "Epoch 42/100\n",
      "7000/7000 [==============================] - 2s 339us/step - loss: 0.0881 - acc: 0.9629 - macro_precision: 0.9633 - macro_recall: 0.9628 - macro_f_measure: 0.9630 - val_loss: 1.3813 - val_acc: 0.7538 - val_macro_precision: 0.7623 - val_macro_recall: 0.7527 - val_macro_f_measure: 0.7575\n",
      "Epoch 43/100\n",
      "7000/7000 [==============================] - 2s 333us/step - loss: 0.0907 - acc: 0.9621 - macro_precision: 0.9627 - macro_recall: 0.9623 - macro_f_measure: 0.9625 - val_loss: 1.4375 - val_acc: 0.7317 - val_macro_precision: 0.7328 - val_macro_recall: 0.7317 - val_macro_f_measure: 0.7323\n",
      "Epoch 44/100\n",
      "7000/7000 [==============================] - 2s 337us/step - loss: 0.0868 - acc: 0.9677 - macro_precision: 0.9681 - macro_recall: 0.9677 - macro_f_measure: 0.9679 - val_loss: 1.4297 - val_acc: 0.7427 - val_macro_precision: 0.7516 - val_macro_recall: 0.7415 - val_macro_f_measure: 0.7465\n",
      "Epoch 45/100\n",
      "7000/7000 [==============================] - 2s 333us/step - loss: 0.0870 - acc: 0.9634 - macro_precision: 0.9640 - macro_recall: 0.9633 - macro_f_measure: 0.9637 - val_loss: 1.3923 - val_acc: 0.7477 - val_macro_precision: 0.7567 - val_macro_recall: 0.7467 - val_macro_f_measure: 0.7516\n",
      "Epoch 46/100\n",
      "7000/7000 [==============================] - 2s 334us/step - loss: 0.0806 - acc: 0.9644 - macro_precision: 0.9650 - macro_recall: 0.9643 - macro_f_measure: 0.9647 - val_loss: 1.4635 - val_acc: 0.7357 - val_macro_precision: 0.7424 - val_macro_recall: 0.7349 - val_macro_f_measure: 0.7386\n",
      "Epoch 47/100\n",
      "7000/7000 [==============================] - 2s 335us/step - loss: 0.0841 - acc: 0.9650 - macro_precision: 0.9657 - macro_recall: 0.9650 - macro_f_measure: 0.9654 - val_loss: 1.4899 - val_acc: 0.7387 - val_macro_precision: 0.7456 - val_macro_recall: 0.7380 - val_macro_f_measure: 0.7418\n",
      "Epoch 48/100\n",
      "7000/7000 [==============================] - 2s 338us/step - loss: 0.0797 - acc: 0.9643 - macro_precision: 0.9650 - macro_recall: 0.9642 - macro_f_measure: 0.9646 - val_loss: 1.4367 - val_acc: 0.7247 - val_macro_precision: 0.7283 - val_macro_recall: 0.7244 - val_macro_f_measure: 0.7263\n",
      "Epoch 49/100\n",
      "7000/7000 [==============================] - 2s 336us/step - loss: 0.0747 - acc: 0.9690 - macro_precision: 0.9693 - macro_recall: 0.9691 - macro_f_measure: 0.9692 - val_loss: 1.4669 - val_acc: 0.7317 - val_macro_precision: 0.7357 - val_macro_recall: 0.7312 - val_macro_f_measure: 0.7334\n",
      "Epoch 50/100\n",
      "7000/7000 [==============================] - 2s 335us/step - loss: 0.0767 - acc: 0.9671 - macro_precision: 0.9676 - macro_recall: 0.9673 - macro_f_measure: 0.9674 - val_loss: 1.5719 - val_acc: 0.7397 - val_macro_precision: 0.7472 - val_macro_recall: 0.7386 - val_macro_f_measure: 0.7429\n",
      "Epoch 51/100\n",
      "7000/7000 [==============================] - 2s 339us/step - loss: 0.0733 - acc: 0.9674 - macro_precision: 0.9682 - macro_recall: 0.9672 - macro_f_measure: 0.9677 - val_loss: 1.6435 - val_acc: 0.7427 - val_macro_precision: 0.7451 - val_macro_recall: 0.7421 - val_macro_f_measure: 0.7436\n",
      "Epoch 52/100\n",
      "7000/7000 [==============================] - 2s 335us/step - loss: 0.0695 - acc: 0.9677 - macro_precision: 0.9680 - macro_recall: 0.9679 - macro_f_measure: 0.9680 - val_loss: 1.6480 - val_acc: 0.7487 - val_macro_precision: 0.7554 - val_macro_recall: 0.7476 - val_macro_f_measure: 0.7514\n",
      "Epoch 53/100\n",
      "7000/7000 [==============================] - 2s 334us/step - loss: 0.0731 - acc: 0.9683 - macro_precision: 0.9692 - macro_recall: 0.9680 - macro_f_measure: 0.9686 - val_loss: 1.5723 - val_acc: 0.7497 - val_macro_precision: 0.7656 - val_macro_recall: 0.7483 - val_macro_f_measure: 0.7568\n",
      "Epoch 54/100\n",
      "7000/7000 [==============================] - 2s 327us/step - loss: 0.0695 - acc: 0.9693 - macro_precision: 0.9698 - macro_recall: 0.9693 - macro_f_measure: 0.9695 - val_loss: 1.6394 - val_acc: 0.7497 - val_macro_precision: 0.7527 - val_macro_recall: 0.7496 - val_macro_f_measure: 0.7511\n",
      "Epoch 55/100\n"
     ]
    },
    {
     "name": "stdout",
     "output_type": "stream",
     "text": [
      "7000/7000 [==============================] - 2s 337us/step - loss: 0.0645 - acc: 0.9706 - macro_precision: 0.9709 - macro_recall: 0.9707 - macro_f_measure: 0.9708 - val_loss: 1.6608 - val_acc: 0.7467 - val_macro_precision: 0.7498 - val_macro_recall: 0.7464 - val_macro_f_measure: 0.7481\n",
      "Epoch 56/100\n",
      "7000/7000 [==============================] - 2s 339us/step - loss: 0.0687 - acc: 0.9689 - macro_precision: 0.9691 - macro_recall: 0.9689 - macro_f_measure: 0.9690 - val_loss: 1.6979 - val_acc: 0.7457 - val_macro_precision: 0.7475 - val_macro_recall: 0.7455 - val_macro_f_measure: 0.7465\n",
      "Epoch 57/100\n",
      "7000/7000 [==============================] - 2s 334us/step - loss: 0.0683 - acc: 0.9671 - macro_precision: 0.9675 - macro_recall: 0.9671 - macro_f_measure: 0.9673 - val_loss: 1.7004 - val_acc: 0.7407 - val_macro_precision: 0.7421 - val_macro_recall: 0.7404 - val_macro_f_measure: 0.7412\n",
      "Epoch 58/100\n",
      "7000/7000 [==============================] - 2s 331us/step - loss: 0.0742 - acc: 0.9683 - macro_precision: 0.9688 - macro_recall: 0.9683 - macro_f_measure: 0.9685 - val_loss: 1.4874 - val_acc: 0.7508 - val_macro_precision: 0.7541 - val_macro_recall: 0.7501 - val_macro_f_measure: 0.7521\n",
      "Epoch 59/100\n",
      "7000/7000 [==============================] - 2s 337us/step - loss: 0.0690 - acc: 0.9696 - macro_precision: 0.9702 - macro_recall: 0.9695 - macro_f_measure: 0.9699 - val_loss: 1.7049 - val_acc: 0.7447 - val_macro_precision: 0.7481 - val_macro_recall: 0.7440 - val_macro_f_measure: 0.7460\n",
      "Epoch 60/100\n",
      "7000/7000 [==============================] - 2s 337us/step - loss: 0.0681 - acc: 0.9710 - macro_precision: 0.9715 - macro_recall: 0.9709 - macro_f_measure: 0.9712 - val_loss: 1.7637 - val_acc: 0.7417 - val_macro_precision: 0.7447 - val_macro_recall: 0.7414 - val_macro_f_measure: 0.7431\n",
      "Epoch 61/100\n",
      "7000/7000 [==============================] - 2s 334us/step - loss: 0.0619 - acc: 0.9714 - macro_precision: 0.9718 - macro_recall: 0.9714 - macro_f_measure: 0.9716 - val_loss: 1.7755 - val_acc: 0.7548 - val_macro_precision: 0.7627 - val_macro_recall: 0.7538 - val_macro_f_measure: 0.7582\n",
      "Epoch 62/100\n",
      "7000/7000 [==============================] - 2s 342us/step - loss: 0.0646 - acc: 0.9681 - macro_precision: 0.9689 - macro_recall: 0.9680 - macro_f_measure: 0.9684 - val_loss: 1.7263 - val_acc: 0.7357 - val_macro_precision: 0.7381 - val_macro_recall: 0.7356 - val_macro_f_measure: 0.7368\n",
      "Epoch 63/100\n",
      "7000/7000 [==============================] - 2s 333us/step - loss: 0.0696 - acc: 0.9679 - macro_precision: 0.9681 - macro_recall: 0.9679 - macro_f_measure: 0.9680 - val_loss: 1.8299 - val_acc: 0.7427 - val_macro_precision: 0.7549 - val_macro_recall: 0.7416 - val_macro_f_measure: 0.7482\n",
      "Epoch 64/100\n",
      "7000/7000 [==============================] - 2s 332us/step - loss: 0.0592 - acc: 0.9734 - macro_precision: 0.9738 - macro_recall: 0.9735 - macro_f_measure: 0.9736 - val_loss: 1.9096 - val_acc: 0.7327 - val_macro_precision: 0.7347 - val_macro_recall: 0.7323 - val_macro_f_measure: 0.7335\n",
      "Epoch 65/100\n",
      "7000/7000 [==============================] - 2s 337us/step - loss: 0.0613 - acc: 0.9710 - macro_precision: 0.9713 - macro_recall: 0.9710 - macro_f_measure: 0.9711 - val_loss: 1.9326 - val_acc: 0.7417 - val_macro_precision: 0.7483 - val_macro_recall: 0.7408 - val_macro_f_measure: 0.7445\n",
      "Epoch 66/100\n",
      "7000/7000 [==============================] - 2s 334us/step - loss: 0.0587 - acc: 0.9696 - macro_precision: 0.9700 - macro_recall: 0.9695 - macro_f_measure: 0.9697 - val_loss: 1.9823 - val_acc: 0.7427 - val_macro_precision: 0.7460 - val_macro_recall: 0.7424 - val_macro_f_measure: 0.7442\n",
      "Epoch 67/100\n",
      "7000/7000 [==============================] - 2s 329us/step - loss: 0.0635 - acc: 0.9697 - macro_precision: 0.9703 - macro_recall: 0.9695 - macro_f_measure: 0.9699 - val_loss: 1.9806 - val_acc: 0.7427 - val_macro_precision: 0.7476 - val_macro_recall: 0.7421 - val_macro_f_measure: 0.7448\n",
      "Epoch 68/100\n",
      "7000/7000 [==============================] - 2s 337us/step - loss: 0.0675 - acc: 0.9707 - macro_precision: 0.9711 - macro_recall: 0.9706 - macro_f_measure: 0.9709 - val_loss: 1.8689 - val_acc: 0.7407 - val_macro_precision: 0.7582 - val_macro_recall: 0.7390 - val_macro_f_measure: 0.7485\n",
      "Epoch 69/100\n",
      "7000/7000 [==============================] - 2s 340us/step - loss: 0.0659 - acc: 0.9670 - macro_precision: 0.9677 - macro_recall: 0.9669 - macro_f_measure: 0.9673 - val_loss: 2.0651 - val_acc: 0.7287 - val_macro_precision: 0.7315 - val_macro_recall: 0.7284 - val_macro_f_measure: 0.7299\n",
      "Epoch 70/100\n",
      "7000/7000 [==============================] - 2s 334us/step - loss: 0.0655 - acc: 0.9674 - macro_precision: 0.9679 - macro_recall: 0.9674 - macro_f_measure: 0.9676 - val_loss: 1.9619 - val_acc: 0.7407 - val_macro_precision: 0.7436 - val_macro_recall: 0.7405 - val_macro_f_measure: 0.7420\n",
      "Epoch 71/100\n",
      "7000/7000 [==============================] - 2s 336us/step - loss: 0.0639 - acc: 0.9711 - macro_precision: 0.9715 - macro_recall: 0.9710 - macro_f_measure: 0.9713 - val_loss: 1.9389 - val_acc: 0.7467 - val_macro_precision: 0.7485 - val_macro_recall: 0.7467 - val_macro_f_measure: 0.7476\n",
      "Epoch 72/100\n",
      "7000/7000 [==============================] - 2s 333us/step - loss: 0.0621 - acc: 0.9697 - macro_precision: 0.9708 - macro_recall: 0.9693 - macro_f_measure: 0.9700 - val_loss: 1.7964 - val_acc: 0.7487 - val_macro_precision: 0.7535 - val_macro_recall: 0.7482 - val_macro_f_measure: 0.7509\n",
      "Epoch 73/100\n",
      "7000/7000 [==============================] - 2s 332us/step - loss: 0.0607 - acc: 0.9704 - macro_precision: 0.9708 - macro_recall: 0.9705 - macro_f_measure: 0.9707 - val_loss: 1.8867 - val_acc: 0.7427 - val_macro_precision: 0.7485 - val_macro_recall: 0.7423 - val_macro_f_measure: 0.7454\n",
      "Epoch 74/100\n",
      "7000/7000 [==============================] - 2s 331us/step - loss: 0.0598 - acc: 0.9711 - macro_precision: 0.9716 - macro_recall: 0.9713 - macro_f_measure: 0.9714 - val_loss: 1.9579 - val_acc: 0.7427 - val_macro_precision: 0.7453 - val_macro_recall: 0.7424 - val_macro_f_measure: 0.7438\n",
      "Epoch 75/100\n",
      "7000/7000 [==============================] - 2s 340us/step - loss: 0.0562 - acc: 0.9770 - macro_precision: 0.9771 - macro_recall: 0.9771 - macro_f_measure: 0.9771 - val_loss: 2.0306 - val_acc: 0.7427 - val_macro_precision: 0.7461 - val_macro_recall: 0.7422 - val_macro_f_measure: 0.7441\n",
      "Epoch 76/100\n",
      "7000/7000 [==============================] - 2s 339us/step - loss: 0.0610 - acc: 0.9719 - macro_precision: 0.9726 - macro_recall: 0.9717 - macro_f_measure: 0.9721 - val_loss: 2.0567 - val_acc: 0.7367 - val_macro_precision: 0.7388 - val_macro_recall: 0.7367 - val_macro_f_measure: 0.7378\n",
      "Epoch 77/100\n",
      "7000/7000 [==============================] - 2s 332us/step - loss: 0.0565 - acc: 0.9711 - macro_precision: 0.9715 - macro_recall: 0.9711 - macro_f_measure: 0.9713 - val_loss: 2.0293 - val_acc: 0.7377 - val_macro_precision: 0.7403 - val_macro_recall: 0.7377 - val_macro_f_measure: 0.7390\n",
      "Epoch 78/100\n",
      "7000/7000 [==============================] - 2s 334us/step - loss: 0.0583 - acc: 0.9713 - macro_precision: 0.9718 - macro_recall: 0.9712 - macro_f_measure: 0.9715 - val_loss: 1.9803 - val_acc: 0.7397 - val_macro_precision: 0.7427 - val_macro_recall: 0.7396 - val_macro_f_measure: 0.7412\n",
      "Epoch 79/100\n",
      "7000/7000 [==============================] - 2s 334us/step - loss: 0.0596 - acc: 0.9720 - macro_precision: 0.9725 - macro_recall: 0.9719 - macro_f_measure: 0.9722 - val_loss: 2.0914 - val_acc: 0.7347 - val_macro_precision: 0.7367 - val_macro_recall: 0.7348 - val_macro_f_measure: 0.7358\n",
      "Epoch 80/100\n",
      "7000/7000 [==============================] - 2s 333us/step - loss: 0.0592 - acc: 0.9717 - macro_precision: 0.9720 - macro_recall: 0.9720 - macro_f_measure: 0.9720 - val_loss: 2.1563 - val_acc: 0.7377 - val_macro_precision: 0.7391 - val_macro_recall: 0.7377 - val_macro_f_measure: 0.7384\n",
      "Epoch 81/100\n",
      "7000/7000 [==============================] - 2s 335us/step - loss: 0.0562 - acc: 0.9720 - macro_precision: 0.9730 - macro_recall: 0.9718 - macro_f_measure: 0.9724 - val_loss: 2.0969 - val_acc: 0.7407 - val_macro_precision: 0.7444 - val_macro_recall: 0.7405 - val_macro_f_measure: 0.7424\n",
      "Epoch 82/100\n",
      "7000/7000 [==============================] - 2s 340us/step - loss: 0.0603 - acc: 0.9723 - macro_precision: 0.9731 - macro_recall: 0.9719 - macro_f_measure: 0.9725 - val_loss: 2.0745 - val_acc: 0.7327 - val_macro_precision: 0.7338 - val_macro_recall: 0.7330 - val_macro_f_measure: 0.7334\n",
      "Epoch 83/100\n",
      "7000/7000 [==============================] - 2s 342us/step - loss: 0.0594 - acc: 0.9719 - macro_precision: 0.9725 - macro_recall: 0.9717 - macro_f_measure: 0.9721 - val_loss: 2.2428 - val_acc: 0.7427 - val_macro_precision: 0.7446 - val_macro_recall: 0.7426 - val_macro_f_measure: 0.7436\n",
      "Epoch 84/100\n",
      "7000/7000 [==============================] - 2s 327us/step - loss: 0.0589 - acc: 0.9723 - macro_precision: 0.9728 - macro_recall: 0.9721 - macro_f_measure: 0.9725 - val_loss: 1.9905 - val_acc: 0.7337 - val_macro_precision: 0.7366 - val_macro_recall: 0.7339 - val_macro_f_measure: 0.7352\n",
      "Epoch 85/100\n",
      "7000/7000 [==============================] - 2s 337us/step - loss: 0.0570 - acc: 0.9726 - macro_precision: 0.9732 - macro_recall: 0.9725 - macro_f_measure: 0.9729 - val_loss: 2.2290 - val_acc: 0.7377 - val_macro_precision: 0.7401 - val_macro_recall: 0.7376 - val_macro_f_measure: 0.7389\n",
      "Epoch 86/100\n",
      "7000/7000 [==============================] - 2s 331us/step - loss: 0.0569 - acc: 0.9736 - macro_precision: 0.9740 - macro_recall: 0.9736 - macro_f_measure: 0.9738 - val_loss: 2.0432 - val_acc: 0.7367 - val_macro_precision: 0.7393 - val_macro_recall: 0.7370 - val_macro_f_measure: 0.7381\n",
      "Epoch 87/100\n",
      "7000/7000 [==============================] - 2s 339us/step - loss: 0.0545 - acc: 0.9717 - macro_precision: 0.9720 - macro_recall: 0.9719 - macro_f_measure: 0.9720 - val_loss: 2.1767 - val_acc: 0.7377 - val_macro_precision: 0.7403 - val_macro_recall: 0.7379 - val_macro_f_measure: 0.7391\n",
      "Epoch 88/100\n",
      "7000/7000 [==============================] - 2s 335us/step - loss: 0.0548 - acc: 0.9731 - macro_precision: 0.9738 - macro_recall: 0.9730 - macro_f_measure: 0.9734 - val_loss: 2.2459 - val_acc: 0.7357 - val_macro_precision: 0.7390 - val_macro_recall: 0.7356 - val_macro_f_measure: 0.7373\n",
      "Epoch 89/100\n",
      "7000/7000 [==============================] - 2s 341us/step - loss: 0.0567 - acc: 0.9729 - macro_precision: 0.9734 - macro_recall: 0.9728 - macro_f_measure: 0.9731 - val_loss: 2.2538 - val_acc: 0.7377 - val_macro_precision: 0.7422 - val_macro_recall: 0.7374 - val_macro_f_measure: 0.7397\n",
      "Epoch 90/100\n",
      "7000/7000 [==============================] - 2s 332us/step - loss: 0.0571 - acc: 0.9717 - macro_precision: 0.9722 - macro_recall: 0.9717 - macro_f_measure: 0.9719 - val_loss: 2.2154 - val_acc: 0.7457 - val_macro_precision: 0.7475 - val_macro_recall: 0.7459 - val_macro_f_measure: 0.7467\n",
      "Epoch 91/100\n",
      "7000/7000 [==============================] - 2s 341us/step - loss: 0.0543 - acc: 0.9740 - macro_precision: 0.9744 - macro_recall: 0.9741 - macro_f_measure: 0.9743 - val_loss: 2.1995 - val_acc: 0.7397 - val_macro_precision: 0.7439 - val_macro_recall: 0.7394 - val_macro_f_measure: 0.7416\n",
      "Epoch 92/100\n",
      "7000/7000 [==============================] - 2s 332us/step - loss: 0.0594 - acc: 0.9719 - macro_precision: 0.9723 - macro_recall: 0.9718 - macro_f_measure: 0.9721 - val_loss: 2.0013 - val_acc: 0.7317 - val_macro_precision: 0.7338 - val_macro_recall: 0.7317 - val_macro_f_measure: 0.7328\n",
      "Epoch 93/100\n",
      "7000/7000 [==============================] - 2s 337us/step - loss: 0.0550 - acc: 0.9727 - macro_precision: 0.9733 - macro_recall: 0.9727 - macro_f_measure: 0.9730 - val_loss: 2.2001 - val_acc: 0.7437 - val_macro_precision: 0.7474 - val_macro_recall: 0.7433 - val_macro_f_measure: 0.7453\n",
      "Epoch 94/100\n",
      "7000/7000 [==============================] - 2s 339us/step - loss: 0.0564 - acc: 0.9691 - macro_precision: 0.9697 - macro_recall: 0.9692 - macro_f_measure: 0.9694 - val_loss: 2.1657 - val_acc: 0.7287 - val_macro_precision: 0.7308 - val_macro_recall: 0.7288 - val_macro_f_measure: 0.7298\n",
      "Epoch 95/100\n",
      "7000/7000 [==============================] - 2s 333us/step - loss: 0.0534 - acc: 0.9741 - macro_precision: 0.9744 - macro_recall: 0.9741 - macro_f_measure: 0.9742 - val_loss: 2.3392 - val_acc: 0.7497 - val_macro_precision: 0.7524 - val_macro_recall: 0.7494 - val_macro_f_measure: 0.7509\n",
      "Epoch 96/100\n",
      "7000/7000 [==============================] - 2s 331us/step - loss: 0.0582 - acc: 0.9717 - macro_precision: 0.9721 - macro_recall: 0.9717 - macro_f_measure: 0.9719 - val_loss: 2.2502 - val_acc: 0.7387 - val_macro_precision: 0.7422 - val_macro_recall: 0.7381 - val_macro_f_measure: 0.7401\n",
      "Epoch 97/100\n",
      "7000/7000 [==============================] - 2s 336us/step - loss: 0.0546 - acc: 0.9706 - macro_precision: 0.9715 - macro_recall: 0.9706 - macro_f_measure: 0.9710 - val_loss: 2.2660 - val_acc: 0.7397 - val_macro_precision: 0.7419 - val_macro_recall: 0.7396 - val_macro_f_measure: 0.7407\n",
      "Epoch 98/100\n",
      "7000/7000 [==============================] - 2s 333us/step - loss: 0.0559 - acc: 0.9733 - macro_precision: 0.9736 - macro_recall: 0.9732 - macro_f_measure: 0.9734 - val_loss: 2.1445 - val_acc: 0.7447 - val_macro_precision: 0.7537 - val_macro_recall: 0.7434 - val_macro_f_measure: 0.7485\n",
      "Epoch 99/100\n",
      "7000/7000 [==============================] - 2s 335us/step - loss: 0.0595 - acc: 0.9719 - macro_precision: 0.9722 - macro_recall: 0.9721 - macro_f_measure: 0.9722 - val_loss: 2.1905 - val_acc: 0.7347 - val_macro_precision: 0.7353 - val_macro_recall: 0.7346 - val_macro_f_measure: 0.7349\n",
      "Epoch 100/100\n",
      "7000/7000 [==============================] - 2s 335us/step - loss: 0.0513 - acc: 0.9726 - macro_precision: 0.9730 - macro_recall: 0.9727 - macro_f_measure: 0.9728 - val_loss: 2.1828 - val_acc: 0.7437 - val_macro_precision: 0.7482 - val_macro_recall: 0.7428 - val_macro_f_measure: 0.7455\n"
     ]
    }
   ],
   "source": [
    "history = model.fit([x1_train, x2_train], y_train,\n",
    "                    epochs=100, \n",
    "                    batch_size=256,\n",
    "                    validation_data=([x1_val, x2_val], y_val))"
   ]
  },
  {
   "cell_type": "code",
   "execution_count": 17,
   "metadata": {},
   "outputs": [
    {
     "name": "stdout",
     "output_type": "stream",
     "text": [
      "2001/2001 [==============================] - 2s 871us/step\n",
      "[2.2534623371101152, 0.7421289355918087, 0.7501013090108883, 0.7424290433697317, 0.7461144985823795]\n"
     ]
    }
   ],
   "source": [
    "loss_and_metrics = model.evaluate([x1_test, x2_test], y_test)\n",
    "print(loss_and_metrics)"
   ]
  },
  {
   "cell_type": "code",
   "execution_count": 13,
   "metadata": {},
   "outputs": [],
   "source": [
    "classes = model.predict([x1_test, x2_test])\n",
    "np.savetxt('Mult_predict.csv', classes, delimiter = ',')"
   ]
  },
  {
   "cell_type": "code",
   "execution_count": 14,
   "metadata": {},
   "outputs": [
    {
     "data": {
      "text/plain": [
       "['loss', 'acc', 'macro_precision', 'macro_recall', 'macro_f_measure']"
      ]
     },
     "execution_count": 14,
     "metadata": {},
     "output_type": "execute_result"
    }
   ],
   "source": [
    "model.metrics_names"
   ]
  },
  {
   "cell_type": "code",
   "execution_count": 18,
   "metadata": {},
   "outputs": [
    {
     "data": {
      "image/png": "[encoded data removed]",
      "text/plain": [
       "<Figure size 432x288 with 2 Axes>"
      ]
     },
     "metadata": {
      "needs_background": "light"
     },
     "output_type": "display_data"
    }
   ],
   "source": [
    "import matplotlib.pyplot as plt\n",
    "\n",
    "val_acc = history.history['val_acc']\n",
    "val_loss = history.history['val_loss']\n",
    "epochs = range(1, len(val_acc) + 1)\n",
    "\n",
    "fig = plt.figure()\n",
    "ax_acc = fig.add_subplot(111)\n",
    "ax_acc.plot(epochs, val_acc, 'b--', label='Validation acc')\n",
    "plt.legend(bbox_to_anchor=(0, 1), loc='upper left', borderaxespad=0.5, fontsize=10)\n",
    "\n",
    "ax_loss = ax_acc.twinx()\n",
    "ax_loss.plot(epochs, val_loss, 'b', label='Validation loss')\n",
    "plt.legend(bbox_to_anchor=(0, 0.9), loc='upper left', borderaxespad=0.5, fontsize=10)\n",
    "plt.title('Validation acc and Validation loss')\n",
    "ax_acc.set_xlabel('epochs')\n",
    "ax_acc.set_ylabel('Validation acc')\n",
    "ax_loss.grid(True)\n",
    "ax_loss.set_ylabel('Validation loss')\n",
    "\n",
    "plt.show()"
   ]
  },
  {
   "cell_type": "code",
   "execution_count": 15,
   "metadata": {},
   "outputs": [
    {
     "data": {
      "image/png": "[encoded data removed]",
      "text/plain": [
       "<Figure size 432x288 with 2 Axes>"
      ]
     },
     "metadata": {
      "needs_background": "light"
     },
     "output_type": "display_data"
    }
   ],
   "source": [
    "acc = history.history['acc']\n",
    "loss = history.history['loss']\n",
    "epochs = range(1, len(val_acc) + 1)\n",
    "\n",
    "fig = plt.figure()\n",
    "ax_acc = fig.add_subplot(111)\n",
    "ax_acc.plot(epochs, acc, 'b--', label='Training acc')\n",
    "plt.legend(bbox_to_anchor=(0, 1), loc='upper left', borderaxespad=0.5, fontsize=10)\n",
    "\n",
    "ax_loss = ax_acc.twinx()\n",
    "ax_loss.plot(epochs, loss, 'b', label='Training loss')\n",
    "plt.legend(bbox_to_anchor=(0, 0.9), loc='upper left', borderaxespad=0.5, fontsize=10)\n",
    "plt.title('Training acc and Training loss')\n",
    "ax_acc.set_xlabel('epochs')\n",
    "ax_acc.set_ylabel('Training acc')\n",
    "ax_loss.grid(True)\n",
    "ax_loss.set_ylabel('Training loss')\n",
    "\n",
    "plt.show()"
   ]
  },
  {
   "cell_type": "code",
   "execution_count": 16,
   "metadata": {
    "lines_to_next_cell": 0
   },
   "outputs": [
    {
     "data": {
      "image/png": "[encoded data removed]",
      "text/plain": [
       "<Figure size 432x288 with 2 Axes>"
      ]
     },
     "metadata": {
      "needs_background": "light"
     },
     "output_type": "display_data"
    }
   ],
   "source": [
    "fig = plt.figure()\n",
    "ax_acc = fig.add_subplot(111)\n",
    "ax_acc.plot(epochs, acc, 'b--', label='Training acc')\n",
    "plt.legend(bbox_to_anchor=(0, 1), loc='upper left', borderaxespad=0.5, fontsize=10)\n",
    "\n",
    "ax_loss = ax_acc.twinx()\n",
    "ax_loss.plot(epochs, val_acc, 'b', label='Validation acc')\n",
    "plt.legend(bbox_to_anchor=(0, 0.9), loc='upper left', borderaxespad=0.5, fontsize=10)\n",
    "plt.title('Training acc and Validation acc')\n",
    "ax_acc.set_xlabel('epochs')\n",
    "ax_acc.set_ylabel('Training acc')\n",
    "ax_loss.grid(True)\n",
    "ax_loss.set_ylabel('Validation acc')\n",
    "\n",
    "plt.show()"
   ]
  },
  {
   "cell_type": "code",
   "execution_count": null,
   "metadata": {
    "lines_to_next_cell": 2
   },
   "outputs": [],
   "source": []
  }
 ],
 "metadata": {
  "jupytext": {
   "encoding": "# -*- coding: utf-8 -*-",
   "text_representation": {
    "extension": ".py",
    "format_name": "light",
    "format_version": "1.5",
    "jupytext_version": "1.3.1"
   }
  },
  "kernelspec": {
   "display_name": "Python 3",
   "language": "python",
   "name": "python3"
  },
  "language_info": {
   "codemirror_mode": {
    "name": "ipython",
    "version": 3
   },
   "file_extension": ".py",
   "mimetype": "text/x-python",
   "name": "python",
   "nbconvert_exporter": "python",
   "pygments_lexer": "ipython3",
   "version": "3.6.7"
  }
 },
 "nbformat": 4,
 "nbformat_minor": 2
}
