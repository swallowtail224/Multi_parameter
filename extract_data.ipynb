{
 "cells": [
  {
   "cell_type": "code",
   "execution_count": 1,
   "metadata": {},
   "outputs": [],
   "source": [
    "import MeCab as mc\n",
    "import re\n",
    "import pandas as pd\n",
    "import numpy as np\n",
    "import urllib.request\n",
    "import unicodedata"
   ]
  },
  {
   "cell_type": "code",
   "execution_count": 3,
   "metadata": {},
   "outputs": [
    {
     "name": "stdout",
     "output_type": "stream",
     "text": [
      "48298\n",
      "48769\n",
      "64925\n",
      "        tweetID  retweet               date_x  \\\n",
      "0  7.113431e+17        1  2016-03-20 00:00:00   \n",
      "1  7.124711e+17        1  2016-03-23 00:00:00   \n",
      "2  7.223425e+17        1  2016-04-19 00:00:00   \n",
      "\n",
      "                                              tweet2  \n",
      "0                         本日も遠野風の丘軒下市、よろしくお願いします。     \n",
      "1  【遠野山ぶどうワイン2015】本日より発売開始です！！駅前売店でも入荷しております♪数量限定...  \n",
      "2  骨寺荘園室より 【世界遺産 拡張資産 巡回バス】のお知らせ  ４月23日（土）に世界遺産拡張...  \n",
      "        tweetID  retweet               date_x  \\\n",
      "0  7.111280e+17        0  2016-03-19 00:00:00   \n",
      "1  7.113160e+17        0  2016-03-20 00:00:00   \n",
      "2  7.113729e+17        0  2016-03-20 00:00:00   \n",
      "\n",
      "                                              tweet2  \n",
      "0  きょうは来てくれてありがとっ♡ お買い物してくれてありがとっ♡ 21日は陸前高田にねば〜るく...  \n",
      "1  みんなゆめ☆も〜にん☆彡  かさ上げに 思いはひとつ 笑顔かなっ♪            ゆ...  \n",
      "2  【遠野風の丘軒下市】ラム肉まんが通常220円のところ200円、2つで300円で販売しています...  \n"
     ]
    }
   ],
   "source": [
    "#retweet dataの読み込み\n",
    "retweet_input = pd.read_csv(filepath_or_buffer=\"Datas/t_retweet.csv\", encoding=\"utf_8\", sep=\",\")\n",
    "print(len(retweet_input))\n",
    "\n",
    "#tweet dataの読み込み\n",
    "tweet_input = pd.read_csv(filepath_or_buffer=\"Datas/t_tweet_data.csv\", encoding=\"utf_8\", sep=\",\")\n",
    "print(len(tweet_input))\n",
    "\n",
    "#tweet dataの読み込み\n",
    "userID_input = pd.read_csv(filepath_or_buffer=\"Datas/t_tweet_ids.csv\", encoding=\"utf_8\", sep=\",\")\n",
    "print(len(userID_input))\n",
    "\n",
    "#retweetしたデータとしなかったデータに分割\n",
    "retweet = retweet_input.query('retweet == 1')\n",
    "n_retweet = retweet_input.query('retweet == 0')\n",
    "\n",
    "#retweetしたデータ\n",
    "r_data = pd.merge(retweet, tweet_input, how=\"inner\", on=\"tweetID\")\n",
    "#retweetしなかったデータ\n",
    "nr_data = pd.merge(n_retweet, tweet_input, how=\"inner\", on=\"tweetID\")\n",
    "\n",
    "#余分に別れたカラムの結合\n",
    "r_data['tweet2'] = r_data[['tweet', 'Unnamed: 3', 'Unnamed: 4', 'Unnamed: 5', 'Unnamed: 6']].apply(lambda x: '{}_{}_{}'.format(x[0], x[1], x[2],x[3],x[4]), axis=1)\n",
    "nr_data['tweet2'] = nr_data[['tweet', 'Unnamed: 3', 'Unnamed: 4', 'Unnamed: 5', 'Unnamed: 6']].apply(lambda x: '{}_{}_{}'.format(x[0], x[1], x[2],x[3],x[4]), axis=1)\n",
    "\n",
    "#必要なカラム以外は取り除く\n",
    "r_data.drop(['date_y','tweet','Unnamed: 3', 'Unnamed: 4','Unnamed: 5', 'Unnamed: 6'], axis=1, inplace=True)\n",
    "nr_data.drop(['date_y','tweet','Unnamed: 3', 'Unnamed: 4','Unnamed: 5', 'Unnamed: 6'], axis=1, inplace=True)\n",
    "\n",
    "#不要な文字の削除\n",
    "r_data[\"tweet2\"] = r_data[\"tweet2\"].str.replace('\\n', ' ')\n",
    "r_data[\"tweet2\"] = r_data[\"tweet2\"].str.replace('_nan', ' ')\n",
    "nr_data[\"tweet2\"] =nr_data[\"tweet2\"].str.replace('\\n', ' ')\n",
    "nr_data[\"tweet2\"] = nr_data[\"tweet2\"].str.replace('_nan', ' ')\n",
    "\n",
    "print(r_data.head(3))\n",
    "print(nr_data.head(3))"
   ]
  },
  {
   "cell_type": "code",
   "execution_count": 5,
   "metadata": {},
   "outputs": [
    {
     "name": "stdout",
     "output_type": "stream",
     "text": [
      "         tweetID  retweet               date_x  \\\n",
      "0   7.113431e+17        1  2016-03-20 00:00:00   \n",
      "11  7.117613e+17        0  2016-03-21 00:00:00   \n",
      "16  7.117752e+17        0  2016-03-21 00:00:00   \n",
      "17  7.117819e+17        0  2016-03-21 00:00:00   \n",
      "32  7.122291e+17        0  2016-03-22 00:00:00   \n",
      "31  7.122290e+17        0  2016-03-22 00:00:00   \n",
      "40  7.124736e+17        0  2016-03-23 00:00:00   \n",
      "1   7.124711e+17        1  2016-03-23 00:00:00   \n",
      "64  7.132281e+17        0  2016-03-25 00:00:00   \n",
      "63  7.132280e+17        0  2016-03-25 00:00:00   \n",
      "\n",
      "                                               tweet2  \n",
      "0                          本日も遠野風の丘軒下市、よろしくお願いします。     \n",
      "11                  今日のお昼。喫茶のんのんのカッパフェー桜バージョン(^-^)     \n",
      "16                                     よいしょっよいしょっ♡     \n",
      "17                                       みんなありがとっ♡     \n",
      "32                                    遠野職業訓練校修了式       \n",
      "31                                      鱒沢小学校卒業式       \n",
      "40                                  青笹町地域づくり推進大会       \n",
      "1   【遠野山ぶどうワイン2015】本日より発売開始です！！駅前売店でも入荷しております♪数量限定...  \n",
      "64                                     馬力大会日程決まる       \n",
      "63                                      教職員辞令交付式       \n"
     ]
    }
   ],
   "source": [
    "#データをランダムに5000件ずつ抽出\n",
    "ran_r_data = r_data.sample(n=5000)\n",
    "ran_nr_data = nr_data.sample(n=5000)\n",
    "#データの結合\n",
    "data = ran_r_data.append(ran_nr_data)\n",
    "#dateでソート\n",
    "data_s = data.sort_values('date_x')\n",
    "print(data_s.head(10))"
   ]
  },
  {
   "cell_type": "code",
   "execution_count": 63,
   "metadata": {},
   "outputs": [],
   "source": [
    "#User pickup\n",
    "u_data = []\n",
    "count= 1\n",
    "\n",
    "for i in data_s[\"tweetID\"]:\n",
    "    ext = userID_input[userID_input[\"tweetID\"] == i]\n",
    "    #u_data.append(ext)\n",
    "    if count == 1:\n",
    "        df_uID = ext\n",
    "        count +=1\n",
    "    else:\n",
    "        df_uID = pd.concat([df_uID, ext])"
   ]
  },
  {
   "cell_type": "code",
   "execution_count": 66,
   "metadata": {},
   "outputs": [],
   "source": [
    "#userID\n",
    "ids = df_uID.drop(['tweetID'], axis=1)\n",
    "ids.to_csv(\"user.txt\", header=False, index=False, sep=\",\")"
   ]
  },
  {
   "cell_type": "code",
   "execution_count": 15,
   "metadata": {},
   "outputs": [],
   "source": [
    "#テキストデータのみ取り出し、ファイルに書き出す\n",
    "text = data_s.drop(['tweetID', 'retweet', 'date_x'], axis=1)\n",
    "text.to_csv(\"tweet.txt\",header=False, index=False, sep=\",\")\n",
    "#retweetのラベルのみ取り出す\n",
    "tweet_labe = data_s.drop(['tweetID', 'date_x', 'tweet2'], axis=1)\n",
    "tweet_labe.to_csv(\"label.txt\", header=False, index=False, sep=\",\")"
   ]
  },
  {
   "cell_type": "code",
   "execution_count": 16,
   "metadata": {},
   "outputs": [],
   "source": [
    "#テキストのクリーニング\n",
    "def clean_text(text_string):\n",
    "    text_string = re.sub(r'([^\\s\\w])+', '', text_string)\n",
    "    text_string = re.sub(r'[0-9]', '', text_string)\n",
    "    text_string = re.sub(r'[０-９]', '', text_string)\n",
    "    text_string = \" \".join(text_string.split())\n",
    "    text_string = text_string.lower()\n",
    "    return(text_string)\n",
    "\n",
    "#slothlibのストップワードの取得\n",
    "def get_stopword():\n",
    "    slothlib_path = 'http://svn.sourceforge.jp/svnroot/slothlib/CSharp/Version1/SlothLib/NLP/Filter/StopWord/word/Japanese.txt'\n",
    "    slothlib_file = urllib.request.urlopen(slothlib_path)\n",
    "    slothlib_stopwords = [line.decode(\"utf-8\").strip() for line in slothlib_file]\n",
    "    slothlib_stopwords = [ss for ss in slothlib_stopwords if not ss==u'']\n",
    "    return slothlib_stopwords\n",
    "\n",
    "#ストップワードの追加\n",
    "def add_stopword(slothlib_stopwords):\n",
    "    s = open(\"Datas/stopwords.txt\", \"r\", encoding=\"utf-8\")\n",
    "    stop = s.readlines()\n",
    "    s.close()\n",
    "    stop = [a.strip() for a in stop]\n",
    "    slothlib_stopwords += stop\n",
    "    return slothlib_stopwords\n",
    "\n",
    "#MeCabによる形態素解析\n",
    "def extractter(text, flag):\n",
    "    text = unicodedata.normalize(\"NFKC\", text)\n",
    "    tagger = mc.Tagger(r'-Ochasen -d G:\\neologd')\n",
    "    tagger.parse('')\n",
    "    node = tagger.parseToNode(text)\n",
    "    key= []\n",
    "    word = []\n",
    "    keyword =[]\n",
    "    while node:\n",
    "        nes = node.feature.split(\",\")\n",
    "        wor = node.surface\n",
    "        if wor != \"\":\n",
    "            nes = node.feature.split(\",\")\n",
    "            if nes[0] == u\"名詞\":\n",
    "                if nes[6] == u\"*\":\n",
    "                     keyword.append(wor)\n",
    "                else:\n",
    "                    keyword.append(nes[6])\n",
    "        node = node.next\n",
    "        if node is None:\n",
    "            break\n",
    "    return keyword\n",
    "\n",
    "#ストップワードの除去\n",
    "def except_stopwords(text, stopwords):\n",
    "    for i in text:\n",
    "        for j in stopwords:\n",
    "            if i == j:\n",
    "                text.remove(j)\n",
    "    return text"
   ]
  },
  {
   "cell_type": "code",
   "execution_count": 17,
   "metadata": {},
   "outputs": [
    {
     "name": "stdout",
     "output_type": "stream",
     "text": [
      "10000\n"
     ]
    }
   ],
   "source": [
    "#メイン\n",
    "#ツイートのテキスト読み込み\n",
    "test = open(\"tweet.txt\", \"r\", encoding=\"utf-8\")\n",
    "lines = test.readlines()\n",
    "test.close()\n",
    "print(len(lines))\n",
    "\n",
    "#クリーニング及び形態素解析\n",
    "text_data = [clean_text(x) for x in lines]\n",
    "M_extract_text = [extractter(y, 0) for y in text_data]\n",
    "stopwords = get_stopword()\n",
    "ex_stopwords = add_stopword(stopwords)\n",
    "M_result = [except_stopwords(a, ex_stopwords) for a in M_extract_text]\n",
    "M_result = [' '.join(d) for d in M_result]"
   ]
  },
  {
   "cell_type": "code",
   "execution_count": 18,
   "metadata": {},
   "outputs": [],
   "source": [
    "#書き出し1\n",
    "g = open(\"extract_tweet.txt\", \"w\", encoding='utf-8')\n",
    "for i in M_result:\n",
    "    g.write(i)\n",
    "    g.write('\\n')\n",
    "g.close()"
   ]
  }
 ],
 "metadata": {
  "kernelspec": {
   "display_name": "Python 3",
   "language": "python",
   "name": "python3"
  },
  "language_info": {
   "codemirror_mode": {
    "name": "ipython",
    "version": 3
   },
   "file_extension": ".py",
   "mimetype": "text/x-python",
   "name": "python",
   "nbconvert_exporter": "python",
   "pygments_lexer": "ipython3",
   "version": "3.6.7"
  }
 },
 "nbformat": 4,
 "nbformat_minor": 1
}
