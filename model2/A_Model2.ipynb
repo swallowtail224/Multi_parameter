{
 "cells": [
  {
   "cell_type": "code",
   "execution_count": 1,
   "metadata": {},
   "outputs": [
    {
     "name": "stderr",
     "output_type": "stream",
     "text": [
      "Using TensorFlow backend.\n"
     ]
    }
   ],
   "source": [
    "from keras.layers import Input, Dense, Embedding, LSTM, Dropout, concatenate\n",
    "from keras.models import Model\n",
    "from keras.callbacks import EarlyStopping\n",
    "from keras.utils import plot_model\n",
    "import numpy as np\n",
    "from keras.optimizers import Adam\n",
    "from keras.preprocessing.text import Tokenizer\n",
    "from keras.preprocessing.sequence import pad_sequences\n",
    "from keras.utils.np_utils import to_categorical\n",
    "import keras.backend as K\n",
    "from functools import partial\n",
    "import matplotlib.pyplot as plt\n",
    "import pandas as pd\n",
    "from keras.layers.normalization import BatchNormalization"
   ]
  },
  {
   "cell_type": "code",
   "execution_count": 2,
   "metadata": {},
   "outputs": [],
   "source": [
    "def normalize_y_pred(y_pred):\n",
    "    return K.one_hot(K.argmax(y_pred), y_pred.shape[-1])\n",
    "\n",
    "def class_true_positive(class_label, y_true, y_pred):\n",
    "    y_pred = normalize_y_pred(y_pred)\n",
    "    return K.cast(K.equal(y_true[:, class_label] + y_pred[:, class_label], 2), K.floatx())\n",
    "\n",
    "def class_accuracy(class_label, y_true, y_pred):\n",
    "    y_pred = normalize_y_pred(y_pred)\n",
    "    return K.cast(K.equal(y_true[:, class_label], y_pred[:, class_label]),\n",
    "                  K.floatx())\n",
    "\n",
    "def class_precision(class_label, y_true, y_pred):\n",
    "    y_pred = normalize_y_pred(y_pred)\n",
    "    return K.sum(class_true_positive(class_label, y_true, y_pred)) / (K.sum(y_pred[:, class_label]) + K.epsilon())\n",
    "\n",
    "\n",
    "def class_recall(class_label, y_true, y_pred):\n",
    "    return K.sum(class_true_positive(class_label, y_true, y_pred)) / (K.sum(y_true[:, class_label]) + K.epsilon())\n",
    "\n",
    "\n",
    "def class_f_measure(class_label, y_true, y_pred):\n",
    "    precision = class_precision(class_label, y_true, y_pred)\n",
    "    recall = class_recall(class_label, y_true, y_pred)\n",
    "    return (2 * precision * recall) / (precision + recall + K.epsilon())\n",
    "\n",
    "\n",
    "def true_positive(y_true, y_pred):\n",
    "    y_pred = normalize_y_pred(y_pred)\n",
    "    return K.cast(K.equal(y_true + y_pred, 2),\n",
    "                  K.floatx())\n",
    "\n",
    "\n",
    "def micro_precision(y_true, y_pred):\n",
    "    y_pred = normalize_y_pred(y_pred)\n",
    "    return K.sum(true_positive(y_true, y_pred)) / (K.sum(y_pred) + K.epsilon())\n",
    "\n",
    "\n",
    "def micro_recall(y_true, y_pred):\n",
    "    return K.sum(true_positive(y_true, y_pred)) / (K.sum(y_true) + K.epsilon())\n",
    "\n",
    "\n",
    "def micro_f_measure(y_true, y_pred):\n",
    "    precision = micro_precision(y_true, y_pred)\n",
    "    recall = micro_recall(y_true, y_pred)\n",
    "    return (2 * precision * recall) / (precision + recall + K.epsilon())\n",
    "\n",
    "\n",
    "def average_accuracy(y_true, y_pred):\n",
    "    class_count = y_pred.shape[-1]\n",
    "    class_acc_list = [class_accuracy(i, y_true, y_pred) for i in range(class_count)]\n",
    "    class_acc_matrix = K.concatenate(class_acc_list, axis=0)\n",
    "    return K.mean(class_acc_matrix, axis=0)\n",
    "\n",
    "\n",
    "def macro_precision(y_true, y_pred):\n",
    "    class_count = y_pred.shape[-1]\n",
    "    return K.sum([class_precision(i, y_true, y_pred) for i in range(class_count)]) / K.cast(class_count, K.floatx())\n",
    "\n",
    "\n",
    "def macro_recall(y_true, y_pred):\n",
    "    class_count = y_pred.shape[-1]\n",
    "    return K.sum([class_recall(i, y_true, y_pred) for i in range(class_count)]) / K.cast(class_count, K.floatx())\n",
    "\n",
    "\n",
    "def macro_f_measure(y_true, y_pred):\n",
    "    precision = macro_precision(y_true, y_pred)\n",
    "    recall = macro_recall(y_true, y_pred)\n",
    "    return (2 * precision * recall) / (precision + recall + K.epsilon())\n",
    "\n",
    "def weight_variable(shape):\n",
    "    return K.truncated_normal(shape, stddev = 0.01)"
   ]
  },
  {
   "cell_type": "code",
   "execution_count": 3,
   "metadata": {},
   "outputs": [
    {
     "name": "stdout",
     "output_type": "stream",
     "text": [
      "20000\n",
      "<class 'pandas.core.frame.DataFrame'>\n",
      "RangeIndex: 20000 entries, 0 to 19999\n",
      "Data columns (total 14 columns):\n",
      "screen_name    20000 non-null object\n",
      "user_id        20000 non-null float64\n",
      "tweet_id       20000 non-null float64\n",
      "tweet          20000 non-null object\n",
      "tweet2         20000 non-null object\n",
      "postdate       20000 non-null object\n",
      "cos_day        20000 non-null float64\n",
      "sin_day        20000 non-null float64\n",
      "tag            20000 non-null object\n",
      "image_url      20000 non-null object\n",
      "image          20000 non-null int64\n",
      "retweet        20000 non-null float64\n",
      "tag2           6063 non-null object\n",
      "user_id2       20000 non-null int64\n",
      "dtypes: float64(5), int64(2), object(7)\n",
      "memory usage: 2.1+ MB\n"
     ]
    }
   ],
   "source": [
    "#データの読み込み\n",
    "use_data = pd.read_csv(filepath_or_buffer=\"multi_data.csv\", encoding=\"utf_8\", sep=\",\")\n",
    "print(len(use_data))\n",
    "use_data.info()"
   ]
  },
  {
   "cell_type": "code",
   "execution_count": 4,
   "metadata": {},
   "outputs": [
    {
     "name": "stdout",
     "output_type": "stream",
     "text": [
      "Found 20281 unique tokens.\n",
      "Shape of data tensor:(20000, 50)\n",
      "Shape of label tensor:(20000,)\n",
      "Shape of label tensor:(20000, 2)\n"
     ]
    }
   ],
   "source": [
    "maxlen = 50\n",
    "train = 0.7\n",
    "validation = 0.1\n",
    "max_words = 20000\n",
    "\n",
    "#データをランダムにシャッフル\n",
    "use_data_s = use_data.sample(frac=1, random_state=150)\n",
    "\n",
    "# word indexを作成\n",
    "tokenizer = Tokenizer(num_words=max_words)\n",
    "tokenizer.fit_on_texts(use_data_s['tweet2'])\n",
    "sequences = tokenizer.texts_to_sequences(use_data_s['tweet2'])\n",
    "\n",
    "word_index = tokenizer.word_index\n",
    "print(\"Found {} unique tokens.\".format(len(word_index)))\n",
    "\n",
    "data = pad_sequences(sequences, maxlen=maxlen)\n",
    "\n",
    "#user_idをnp行列に変換\n",
    "post_user = np.array(use_data['user_id2'])\n",
    "\n",
    "#ラベルをバイナリの行列に変換\n",
    "categorical_labels = to_categorical(use_data_s['retweet'])\n",
    "labels = np.asarray(categorical_labels)\n",
    "\n",
    "print(\"Shape of data tensor:{}\".format(data.shape))\n",
    "print(\"Shape of label tensor:{}\".format(post_user.shape))\n",
    "print(\"Shape of label tensor:{}\".format(labels.shape))\n",
    "\n",
    "\n",
    "indices = [int(len(labels) * n) for n in [train, train + validation]]\n",
    "x1_train, x1_val, x1_test = np.split(data, indices)\n",
    "x2_train, x2_val, x2_test = np.split(post_user, indices)\n",
    "y_train, y_val, y_test = np.split(labels, indices)"
   ]
  },
  {
   "cell_type": "code",
   "execution_count": 5,
   "metadata": {},
   "outputs": [
    {
     "name": "stdout",
     "output_type": "stream",
     "text": [
      "__________________________________________________________________________________________________\n",
      "Layer (type)                    Output Shape         Param #     Connected to                     \n",
      "==================================================================================================\n",
      "Input_postText (InputLayer)     (None, 50)           0                                            \n",
      "__________________________________________________________________________________________________\n",
      "Embedding (Embedding)           (None, 50, 50)       1000000     Input_postText[0][0]             \n",
      "__________________________________________________________________________________________________\n",
      "dropout_1 (Dropout)             (None, 50, 50)       0           Embedding[0][0]                  \n",
      "__________________________________________________________________________________________________\n",
      "Input_ids (InputLayer)          (None, 1)            0                                            \n",
      "__________________________________________________________________________________________________\n",
      "LSTM (LSTM)                     (None, 32)           10624       dropout_1[0][0]                  \n",
      "__________________________________________________________________________________________________\n",
      "dence1 (Dense)                  (None, 16)           32          Input_ids[0][0]                  \n",
      "__________________________________________________________________________________________________\n",
      "dropout_2 (Dropout)             (None, 32)           0           LSTM[0][0]                       \n",
      "__________________________________________________________________________________________________\n",
      "dropout_3 (Dropout)             (None, 16)           0           dence1[0][0]                     \n",
      "__________________________________________________________________________________________________\n",
      "merge1 (Concatenate)            (None, 48)           0           dropout_2[0][0]                  \n",
      "                                                                 dropout_3[0][0]                  \n",
      "__________________________________________________________________________________________________\n",
      "dence (Dense)                   (None, 16)           784         merge1[0][0]                     \n",
      "__________________________________________________________________________________________________\n",
      "batch_normalization_1 (BatchNor (None, 16)           64          dence[0][0]                      \n",
      "__________________________________________________________________________________________________\n",
      "dropout_4 (Dropout)             (None, 16)           0           batch_normalization_1[0][0]      \n",
      "__________________________________________________________________________________________________\n",
      "output (Dense)                  (None, 2)            34          dropout_4[0][0]                  \n",
      "==================================================================================================\n",
      "Total params: 1,011,538\n",
      "Trainable params: 1,011,506\n",
      "Non-trainable params: 32\n",
      "__________________________________________________________________________________________________\n"
     ]
    }
   ],
   "source": [
    "p_input = Input(shape=(50, ), dtype='int32', name='Input_postText')\n",
    "i_input = Input(shape=(1, ), name='Input_ids')\n",
    "\n",
    "#テキストの学習\n",
    "em = Embedding(input_dim=20000, output_dim=50, input_length=50, name='Embedding')(p_input)\n",
    "d_em = Dropout(0.5)(em)\n",
    "lstm_out = LSTM(32, kernel_initializer=weight_variable , name='LSTM')(d_em)\n",
    "d_lstm_out = Dropout(0.5)(lstm_out)\n",
    "#2つ目のデータ学習\n",
    "i2 = Dense(16, activation='elu', name = 'dence1')(i_input)\n",
    "d_i2 = Dropout(0.5)(i2)\n",
    "x = concatenate([d_lstm_out, d_i2], name='merge1')\n",
    "\n",
    "m2 = Dense(16, activation='elu', name = 'dence')(x)\n",
    "m2 = BatchNormalization()(m2)\n",
    "d_m2 = Dropout(0.5)(m2)\n",
    "output = Dense(2, activation='softmax', name = 'output')(d_m2)\n",
    "\n",
    "optimizer = Adam(lr=1e-4)\n",
    "model = Model(inputs=[p_input, i_input], outputs = output)\n",
    "model.compile(optimizer=optimizer, loss='categorical_crossentropy',  metrics=['acc', macro_precision, macro_recall, macro_f_measure])\n",
    "model.summary()\n",
    "#plot_model(model, show_shapes=True, show_layer_names=True, to_file='model_image/model2.png')\n",
    "\n",
    "\n",
    "early_stopping = EarlyStopping(patience=5, verbose=1)"
   ]
  },
  {
   "cell_type": "code",
   "execution_count": 6,
   "metadata": {},
   "outputs": [
    {
     "name": "stdout",
     "output_type": "stream",
     "text": [
      "Train on 14000 samples, validate on 1999 samples\n",
      "Epoch 1/100\n",
      "14000/14000 [==============================] - 7s 499us/step - loss: 1.1366 - acc: 0.5014 - macro_precision: 0.5011 - macro_recall: 0.5012 - macro_f_measure: 0.5011 - val_loss: 0.7329 - val_acc: 0.5038 - val_macro_precision: 0.4211 - val_macro_recall: 0.4978 - val_macro_f_measure: 0.4471\n",
      "Epoch 2/100\n",
      "14000/14000 [==============================] - 5s 327us/step - loss: 1.1034 - acc: 0.5049 - macro_precision: 0.5049 - macro_recall: 0.5049 - macro_f_measure: 0.5049 - val_loss: 0.7298 - val_acc: 0.5073 - val_macro_precision: 0.4652 - val_macro_recall: 0.5010 - val_macro_f_measure: 0.4543\n",
      "Epoch 3/100\n",
      "14000/14000 [==============================] - 5s 330us/step - loss: 1.0825 - acc: 0.5059 - macro_precision: 0.5063 - macro_recall: 0.5063 - macro_f_measure: 0.5063 - val_loss: 0.7205 - val_acc: 0.5068 - val_macro_precision: 0.3173 - val_macro_recall: 0.5005 - val_macro_f_measure: 0.3704\n",
      "Epoch 4/100\n",
      "14000/14000 [==============================] - 5s 327us/step - loss: 1.0485 - acc: 0.5017 - macro_precision: 0.5017 - macro_recall: 0.5017 - macro_f_measure: 0.5017 - val_loss: 0.6835 - val_acc: 0.5623 - val_macro_precision: 0.5620 - val_macro_recall: 0.5619 - val_macro_f_measure: 0.5619\n",
      "Epoch 5/100\n",
      "14000/14000 [==============================] - 5s 326us/step - loss: 1.0101 - acc: 0.5191 - macro_precision: 0.5194 - macro_recall: 0.5194 - macro_f_measure: 0.5194 - val_loss: 0.6670 - val_acc: 0.6018 - val_macro_precision: 0.6205 - val_macro_recall: 0.5990 - val_macro_f_measure: 0.6096\n",
      "Epoch 6/100\n",
      "14000/14000 [==============================] - 5s 344us/step - loss: 0.9590 - acc: 0.5339 - macro_precision: 0.5340 - macro_recall: 0.5340 - macro_f_measure: 0.5340 - val_loss: 0.6450 - val_acc: 0.6368 - val_macro_precision: 0.6464 - val_macro_recall: 0.6347 - val_macro_f_measure: 0.6405\n",
      "Epoch 7/100\n",
      "14000/14000 [==============================] - 4s 314us/step - loss: 0.9197 - acc: 0.5545 - macro_precision: 0.5551 - macro_recall: 0.5550 - macro_f_measure: 0.5550 - val_loss: 0.6193 - val_acc: 0.6683 - val_macro_precision: 0.6805 - val_macro_recall: 0.6664 - val_macro_f_measure: 0.6734\n",
      "Epoch 8/100\n",
      "14000/14000 [==============================] - 4s 320us/step - loss: 0.8479 - acc: 0.5878 - macro_precision: 0.5877 - macro_recall: 0.5877 - macro_f_measure: 0.5877 - val_loss: 0.5934 - val_acc: 0.6903 - val_macro_precision: 0.7337 - val_macro_recall: 0.6877 - val_macro_f_measure: 0.7099\n",
      "Epoch 9/100\n",
      "14000/14000 [==============================] - 5s 326us/step - loss: 0.7992 - acc: 0.6084 - macro_precision: 0.6089 - macro_recall: 0.6088 - macro_f_measure: 0.6089 - val_loss: 0.5587 - val_acc: 0.7094 - val_macro_precision: 0.7125 - val_macro_recall: 0.7082 - val_macro_f_measure: 0.7103\n",
      "Epoch 10/100\n",
      "14000/14000 [==============================] - 5s 344us/step - loss: 0.7466 - acc: 0.6327 - macro_precision: 0.6336 - macro_recall: 0.6335 - macro_f_measure: 0.6335 - val_loss: 0.5466 - val_acc: 0.7164 - val_macro_precision: 0.7164 - val_macro_recall: 0.7156 - val_macro_f_measure: 0.7160\n",
      "Epoch 11/100\n",
      "14000/14000 [==============================] - 4s 318us/step - loss: 0.7288 - acc: 0.6478 - macro_precision: 0.6489 - macro_recall: 0.6485 - macro_f_measure: 0.6487 - val_loss: 0.5428 - val_acc: 0.7084 - val_macro_precision: 0.7359 - val_macro_recall: 0.7062 - val_macro_f_measure: 0.7207\n",
      "Epoch 12/100\n",
      "14000/14000 [==============================] - 5s 330us/step - loss: 0.6937 - acc: 0.6671 - macro_precision: 0.6684 - macro_recall: 0.6678 - macro_f_measure: 0.6681 - val_loss: 0.5689 - val_acc: 0.6808 - val_macro_precision: 0.7554 - val_macro_recall: 0.6775 - val_macro_f_measure: 0.7143\n",
      "Epoch 13/100\n",
      "14000/14000 [==============================] - 5s 339us/step - loss: 0.6673 - acc: 0.6828 - macro_precision: 0.6846 - macro_recall: 0.6839 - macro_f_measure: 0.6843 - val_loss: 0.5683 - val_acc: 0.6883 - val_macro_precision: 0.7634 - val_macro_recall: 0.6850 - val_macro_f_measure: 0.7221\n",
      "Epoch 14/100\n",
      "14000/14000 [==============================] - 4s 319us/step - loss: 0.6424 - acc: 0.6939 - macro_precision: 0.6955 - macro_recall: 0.6945 - macro_f_measure: 0.6950 - val_loss: 0.5292 - val_acc: 0.7419 - val_macro_precision: 0.7428 - val_macro_recall: 0.7411 - val_macro_f_measure: 0.7419\n",
      "Epoch 15/100\n",
      "14000/14000 [==============================] - 4s 319us/step - loss: 0.6219 - acc: 0.7004 - macro_precision: 0.7027 - macro_recall: 0.7015 - macro_f_measure: 0.7021 - val_loss: 0.5471 - val_acc: 0.7094 - val_macro_precision: 0.7566 - val_macro_recall: 0.7066 - val_macro_f_measure: 0.7307\n",
      "Epoch 16/100\n",
      "14000/14000 [==============================] - 5s 337us/step - loss: 0.5983 - acc: 0.7180 - macro_precision: 0.7200 - macro_recall: 0.7183 - macro_f_measure: 0.7192 - val_loss: 0.5500 - val_acc: 0.7084 - val_macro_precision: 0.7605 - val_macro_recall: 0.7054 - val_macro_f_measure: 0.7319\n",
      "Epoch 17/100\n",
      "14000/14000 [==============================] - 5s 340us/step - loss: 0.5983 - acc: 0.7247 - macro_precision: 0.7267 - macro_recall: 0.7259 - macro_f_measure: 0.7263 - val_loss: 0.5312 - val_acc: 0.7329 - val_macro_precision: 0.7592 - val_macro_recall: 0.7307 - val_macro_f_measure: 0.7446\n",
      "Epoch 18/100\n",
      "14000/14000 [==============================] - 4s 318us/step - loss: 0.5733 - acc: 0.7321 - macro_precision: 0.7335 - macro_recall: 0.7329 - macro_f_measure: 0.7332 - val_loss: 0.5342 - val_acc: 0.7319 - val_macro_precision: 0.7648 - val_macro_recall: 0.7296 - val_macro_f_measure: 0.7468\n",
      "Epoch 19/100\n",
      "14000/14000 [==============================] - 4s 309us/step - loss: 0.5610 - acc: 0.7433 - macro_precision: 0.7459 - macro_recall: 0.7442 - macro_f_measure: 0.7450 - val_loss: 0.5281 - val_acc: 0.7464 - val_macro_precision: 0.7463 - val_macro_recall: 0.7458 - val_macro_f_measure: 0.7460\n",
      "Epoch 20/100\n",
      "14000/14000 [==============================] - 4s 317us/step - loss: 0.5427 - acc: 0.7476 - macro_precision: 0.7498 - macro_recall: 0.7484 - macro_f_measure: 0.7491 - val_loss: 0.5253 - val_acc: 0.7504 - val_macro_precision: 0.7576 - val_macro_recall: 0.7492 - val_macro_f_measure: 0.7534\n",
      "Epoch 21/100\n",
      "14000/14000 [==============================] - 4s 312us/step - loss: 0.5219 - acc: 0.7634 - macro_precision: 0.7652 - macro_recall: 0.7640 - macro_f_measure: 0.7646 - val_loss: 0.5277 - val_acc: 0.7504 - val_macro_precision: 0.7578 - val_macro_recall: 0.7492 - val_macro_f_measure: 0.7535\n",
      "Epoch 22/100\n",
      "14000/14000 [==============================] - 4s 314us/step - loss: 0.5205 - acc: 0.7629 - macro_precision: 0.7655 - macro_recall: 0.7637 - macro_f_measure: 0.7646 - val_loss: 0.5287 - val_acc: 0.7544 - val_macro_precision: 0.7557 - val_macro_recall: 0.7536 - val_macro_f_measure: 0.7546\n",
      "Epoch 23/100\n",
      "14000/14000 [==============================] - 4s 312us/step - loss: 0.5035 - acc: 0.7691 - macro_precision: 0.7710 - macro_recall: 0.7701 - macro_f_measure: 0.7706 - val_loss: 0.5274 - val_acc: 0.7524 - val_macro_precision: 0.7553 - val_macro_recall: 0.7514 - val_macro_f_measure: 0.7533\n",
      "Epoch 24/100\n",
      "14000/14000 [==============================] - 4s 321us/step - loss: 0.4903 - acc: 0.7799 - macro_precision: 0.7826 - macro_recall: 0.7808 - macro_f_measure: 0.7817 - val_loss: 0.5468 - val_acc: 0.7414 - val_macro_precision: 0.7418 - val_macro_recall: 0.7415 - val_macro_f_measure: 0.7417\n",
      "Epoch 25/100\n",
      "14000/14000 [==============================] - 4s 315us/step - loss: 0.4870 - acc: 0.7814 - macro_precision: 0.7839 - macro_recall: 0.7821 - macro_f_measure: 0.7830 - val_loss: 0.5374 - val_acc: 0.7539 - val_macro_precision: 0.7537 - val_macro_recall: 0.7535 - val_macro_f_measure: 0.7536\n",
      "Epoch 00025: early stopping\n"
     ]
    }
   ],
   "source": [
    "history = model.fit([x1_train, x2_train], y_train,\n",
    "                    epochs=100, \n",
    "                    batch_size=256,\n",
    "                    validation_data=([x1_val, x2_val], y_val),\n",
    "                   callbacks=[early_stopping])"
   ]
  },
  {
   "cell_type": "code",
   "execution_count": 10,
   "metadata": {},
   "outputs": [
    {
     "name": "stdout",
     "output_type": "stream",
     "text": [
      "4001/4001 [==============================] - 3s 826us/step\n",
      "[0.5170844719090896, 0.765058735316171, 0.7634620027552841, 0.7649599874624459, 0.7641482587696105]\n"
     ]
    }
   ],
   "source": [
    "loss_and_metrics = model.evaluate([x1_test, x2_test], y_test)\n",
    "print(loss_and_metrics)"
   ]
  },
  {
   "cell_type": "code",
   "execution_count": 14,
   "metadata": {},
   "outputs": [
    {
     "data": {
      "text/plain": [
       "['loss', 'acc', 'macro_precision', 'macro_recall', 'macro_f_measure']"
      ]
     },
     "execution_count": 14,
     "metadata": {},
     "output_type": "execute_result"
    }
   ],
   "source": [
    "model.metrics_names"
   ]
  },
  {
   "cell_type": "code",
   "execution_count": 11,
   "metadata": {},
   "outputs": [],
   "source": [
    "#予測\n",
    "classes = model.predict([x1_test, x2_test])\n",
    "#予測結果を保存して与えたデータと結合\n",
    "columns = ['not publish', 'publish']\n",
    "result = pd.DataFrame(classes, columns = columns)\n",
    "test_data = use_data_s[15998:19999]\n",
    "n_test_data = test_data.reset_index()\n",
    "predict_result = n_test_data.join(result)\n",
    "predict_result.drop(['user_id','tweet_id','tweet2', 'cos_day','sin_day', 'image_url', 'tag2', 'user_id2'], axis=1, inplace=True)"
   ]
  },
  {
   "cell_type": "code",
   "execution_count": 12,
   "metadata": {},
   "outputs": [],
   "source": [
    "#予測結果の書き出し\n",
    "predict_result.to_csv(\"result/A/result.csv\",index=False, sep=\",\")"
   ]
  },
  {
   "cell_type": "code",
   "execution_count": 13,
   "metadata": {},
   "outputs": [
    {
     "data": {
      "text/plain": [
       "<Figure size 432x288 with 0 Axes>"
      ]
     },
     "execution_count": 13,
     "metadata": {},
     "output_type": "execute_result"
    },
    {
     "data": {
      "image/png": "[encoded data removed]",
      "text/plain": [
       "<Figure size 432x288 with 1 Axes>"
      ]
     },
     "metadata": {
      "needs_background": "light"
     },
     "output_type": "display_data"
    },
    {
     "data": {
      "image/png": "[encoded data removed]",
      "text/plain": [
       "<Figure size 432x288 with 1 Axes>"
      ]
     },
     "metadata": {
      "needs_background": "light"
     },
     "output_type": "display_data"
    },
    {
     "data": {
      "text/plain": [
       "<Figure size 432x288 with 0 Axes>"
      ]
     },
     "metadata": {},
     "output_type": "display_data"
    }
   ],
   "source": [
    "%matplotlib inline\n",
    "\n",
    "acc = history.history['acc']\n",
    "val_acc = history.history['val_acc']\n",
    "loss = history.history['loss']\n",
    "val_loss = history.history['val_loss']\n",
    "epochs = range(1, len(acc) + 1)\n",
    "\n",
    "plt.plot(epochs, acc, 'b--', label='Training acc')\n",
    "plt.plot(epochs, val_acc, 'b', label='Validation acc')\n",
    "plt.title('Training and validation accuracy')\n",
    "plt.legend()\n",
    "plt.savefig(\"result/A/test_and_val_acc.png\")\n",
    "\n",
    "plt.figure()\n",
    "\n",
    "plt.plot(epochs, loss, 'b--', label='Training loss')\n",
    "plt.plot(epochs, val_loss, 'b', label='Validation loss')\n",
    "plt.title('Training and validation loss')\n",
    "plt.legend()\n",
    "plt.savefig(\"result/A/test_and_val_loss.png\")\n",
    "\n",
    "plt.figure()"
   ]
  },
  {
   "cell_type": "code",
   "execution_count": 14,
   "metadata": {
    "lines_to_next_cell": 0
   },
   "outputs": [
    {
     "data": {
      "image/png": "[encoded data removed]",
      "text/plain": [
       "<Figure size 432x288 with 2 Axes>"
      ]
     },
     "metadata": {
      "needs_background": "light"
     },
     "output_type": "display_data"
    }
   ],
   "source": [
    "fig = plt.figure()\n",
    "ax_acc = fig.add_subplot(111)\n",
    "ax_acc.plot(epochs, val_acc, 'b--', label='Validation acc')\n",
    "plt.legend(bbox_to_anchor=(0, 1), loc='upper left', borderaxespad=0.5, fontsize=10)\n",
    "\n",
    "ax_loss = ax_acc.twinx()\n",
    "ax_loss.plot(epochs, val_loss, 'b', label='Validation loss')\n",
    "plt.legend(bbox_to_anchor=(0, 0.9), loc='upper left', borderaxespad=0.5, fontsize=10)\n",
    "plt.title('Validation acc and Validation loss')\n",
    "ax_acc.set_xlabel('epochs')\n",
    "ax_acc.set_ylabel('Validation acc')\n",
    "ax_loss.grid(True)\n",
    "ax_loss.set_ylabel('Validation loss')\n",
    "plt.savefig(\"result/A/val_acc_loss.png\")\n",
    "plt.show()"
   ]
  },
  {
   "cell_type": "code",
   "execution_count": 15,
   "metadata": {},
   "outputs": [],
   "source": [
    "model.save('result/A/model2_dA.h5')"
   ]
  },
  {
   "cell_type": "code",
   "execution_count": null,
   "metadata": {},
   "outputs": [],
   "source": []
  }
 ],
 "metadata": {
  "jupytext": {
   "encoding": "# -*- coding: utf-8 -*-",
   "text_representation": {
    "extension": ".py",
    "format_name": "light",
    "format_version": "1.5",
    "jupytext_version": "1.3.1"
   }
  },
  "kernelspec": {
   "display_name": "Python 3",
   "language": "python",
   "name": "python3"
  },
  "language_info": {
   "codemirror_mode": {
    "name": "ipython",
    "version": 3
   },
   "file_extension": ".py",
   "mimetype": "text/x-python",
   "name": "python",
   "nbconvert_exporter": "python",
   "pygments_lexer": "ipython3",
   "version": "3.6.7"
  }
 },
 "nbformat": 4,
 "nbformat_minor": 2
}
