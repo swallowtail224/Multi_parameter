{
 "cells": [
  {
   "cell_type": "code",
   "execution_count": 1,
   "metadata": {},
   "outputs": [
    {
     "name": "stderr",
     "output_type": "stream",
     "text": [
      "Using TensorFlow backend.\n"
     ]
    }
   ],
   "source": [
    "from keras.layers import Input, Dense, Embedding, LSTM, Dropout, concatenate\n",
    "from keras.models import Model\n",
    "from keras.callbacks import EarlyStopping\n",
    "from keras.utils import plot_model\n",
    "import numpy as np\n",
    "from keras.optimizers import Adam\n",
    "from keras.preprocessing.text import Tokenizer\n",
    "from keras.preprocessing.sequence import pad_sequences\n",
    "from keras.utils.np_utils import to_categorical\n",
    "import keras.backend as K\n",
    "from functools import partial\n",
    "import matplotlib.pyplot as plt\n",
    "import pandas as pd\n",
    "from keras.layers.normalization import BatchNormalization\n",
    "from keras.metrics import categorical_accuracy"
   ]
  },
  {
   "cell_type": "code",
   "execution_count": 2,
   "metadata": {},
   "outputs": [],
   "source": [
    "def normalize_y_pred(y_pred):\n",
    "    return K.one_hot(K.argmax(y_pred), y_pred.shape[-1])\n",
    "\n",
    "def class_true_positive(class_label, y_true, y_pred):\n",
    "    y_pred = normalize_y_pred(y_pred)\n",
    "    return K.cast(K.equal(y_true[:, class_label] + y_pred[:, class_label], 2), K.floatx())\n",
    "\n",
    "def class_accuracy(class_label, y_true, y_pred):\n",
    "    y_pred = normalize_y_pred(y_pred)\n",
    "    return K.cast(K.equal(y_true[:, class_label], y_pred[:, class_label]),\n",
    "                  K.floatx())\n",
    "\n",
    "def class_precision(class_label, y_true, y_pred):\n",
    "    y_pred = normalize_y_pred(y_pred)\n",
    "    return K.sum(class_true_positive(class_label, y_true, y_pred)) / (K.sum(y_pred[:, class_label]) + K.epsilon())\n",
    "\n",
    "\n",
    "def class_recall(class_label, y_true, y_pred):\n",
    "    return K.sum(class_true_positive(class_label, y_true, y_pred)) / (K.sum(y_true[:, class_label]) + K.epsilon())\n",
    "\n",
    "\n",
    "def class_f_measure(class_label, y_true, y_pred):\n",
    "    precision = class_precision(class_label, y_true, y_pred)\n",
    "    recall = class_recall(class_label, y_true, y_pred)\n",
    "    return (2 * precision * recall) / (precision + recall + K.epsilon())\n",
    "\n",
    "\n",
    "def true_positive(y_true, y_pred):\n",
    "    y_pred = normalize_y_pred(y_pred)\n",
    "    return K.cast(K.equal(y_true + y_pred, 2),\n",
    "                  K.floatx())\n",
    "\n",
    "\n",
    "def micro_precision(y_true, y_pred):\n",
    "    y_pred = normalize_y_pred(y_pred)\n",
    "    return K.sum(true_positive(y_true, y_pred)) / (K.sum(y_pred) + K.epsilon())\n",
    "\n",
    "\n",
    "def micro_recall(y_true, y_pred):\n",
    "    return K.sum(true_positive(y_true, y_pred)) / (K.sum(y_true) + K.epsilon())\n",
    "\n",
    "\n",
    "def micro_f_measure(y_true, y_pred):\n",
    "    precision = micro_precision(y_true, y_pred)\n",
    "    recall = micro_recall(y_true, y_pred)\n",
    "    return (2 * precision * recall) / (precision + recall + K.epsilon())\n",
    "\n",
    "\n",
    "def average_accuracy(y_true, y_pred):\n",
    "    class_count = y_pred.shape[-1]\n",
    "    class_acc_list = [class_accuracy(i, y_true, y_pred) for i in range(class_count)]\n",
    "    class_acc_matrix = K.concatenate(class_acc_list, axis=0)\n",
    "    return K.mean(class_acc_matrix, axis=0)\n",
    "\n",
    "\n",
    "def macro_precision(y_true, y_pred):\n",
    "    class_count = y_pred.shape[-1]\n",
    "    return K.sum([class_precision(i, y_true, y_pred) for i in range(class_count)]) / K.cast(class_count, K.floatx())\n",
    "\n",
    "\n",
    "def macro_recall(y_true, y_pred):\n",
    "    class_count = y_pred.shape[-1]\n",
    "    return K.sum([class_recall(i, y_true, y_pred) for i in range(class_count)]) / K.cast(class_count, K.floatx())\n",
    "\n",
    "\n",
    "def macro_f_measure(y_true, y_pred):\n",
    "    precision = macro_precision(y_true, y_pred)\n",
    "    recall = macro_recall(y_true, y_pred)\n",
    "    return (2 * precision * recall) / (precision + recall + K.epsilon())\n",
    "\n",
    "def weight_variable(shape):\n",
    "    return K.truncated_normal(shape, stddev = 0.01)"
   ]
  },
  {
   "cell_type": "code",
   "execution_count": 3,
   "metadata": {},
   "outputs": [
    {
     "name": "stdout",
     "output_type": "stream",
     "text": [
      "20000\n",
      "<class 'pandas.core.frame.DataFrame'>\n",
      "RangeIndex: 20000 entries, 0 to 19999\n",
      "Data columns (total 14 columns):\n",
      "screen_name    20000 non-null object\n",
      "user_id        20000 non-null float64\n",
      "tweet_id       20000 non-null float64\n",
      "tweet          20000 non-null object\n",
      "tweet2         20000 non-null object\n",
      "postdate       20000 non-null object\n",
      "cos_day        20000 non-null float64\n",
      "sin_day        20000 non-null float64\n",
      "tag            20000 non-null object\n",
      "image_url      20000 non-null object\n",
      "image          20000 non-null int64\n",
      "retweet        20000 non-null float64\n",
      "tag2           6063 non-null object\n",
      "user_id2       20000 non-null int64\n",
      "dtypes: float64(5), int64(2), object(7)\n",
      "memory usage: 2.1+ MB\n"
     ]
    }
   ],
   "source": [
    "#データの読み込み\n",
    "use_data = pd.read_csv(filepath_or_buffer=\"multi_data.csv\", encoding=\"utf_8\", sep=\",\")\n",
    "print(len(use_data))\n",
    "use_data.info()"
   ]
  },
  {
   "cell_type": "code",
   "execution_count": 4,
   "metadata": {},
   "outputs": [
    {
     "name": "stdout",
     "output_type": "stream",
     "text": [
      "Found 20281 unique tokens.\n",
      "Shape of data tensor:(20000, 50)\n",
      "Shape of label tensor:(20000,)\n",
      "Shape of label tensor:(20000, 2)\n"
     ]
    }
   ],
   "source": [
    "maxlen = 50\n",
    "train = 0.7\n",
    "validation = 0.1\n",
    "max_words = 20000\n",
    "\n",
    "#データをランダムにシャッフル\n",
    "use_data_s = use_data.sample(frac=1, random_state=150)\n",
    "\n",
    "# word indexを作成\n",
    "tokenizer = Tokenizer(num_words=max_words)\n",
    "tokenizer.fit_on_texts(use_data_s['tweet2'])\n",
    "sequences = tokenizer.texts_to_sequences(use_data_s['tweet2'])\n",
    "\n",
    "word_index = tokenizer.word_index\n",
    "print(\"Found {} unique tokens.\".format(len(word_index)))\n",
    "\n",
    "data = pad_sequences(sequences, maxlen=maxlen)\n",
    "\n",
    "#user_idをnp行列に変換\n",
    "post_user = np.array(use_data['user_id2'])\n",
    "\n",
    "#ラベルをバイナリの行列に変換\n",
    "categorical_labels = to_categorical(use_data_s['retweet'])\n",
    "labels = np.asarray(categorical_labels)\n",
    "\n",
    "print(\"Shape of data tensor:{}\".format(data.shape))\n",
    "print(\"Shape of label tensor:{}\".format(post_user.shape))\n",
    "print(\"Shape of label tensor:{}\".format(labels.shape))\n",
    "\n",
    "\n",
    "indices = [int(len(labels) * n) for n in [train, train + validation]]\n",
    "x1_train, x1_val, x1_test = np.split(data, indices)\n",
    "x2_train, x2_val, x2_test = np.split(post_user, indices)\n",
    "y_train, y_val, y_test = np.split(labels, indices)"
   ]
  },
  {
   "cell_type": "code",
   "execution_count": 5,
   "metadata": {},
   "outputs": [
    {
     "name": "stdout",
     "output_type": "stream",
     "text": [
      "__________________________________________________________________________________________________\n",
      "Layer (type)                    Output Shape         Param #     Connected to                     \n",
      "==================================================================================================\n",
      "Input_postText (InputLayer)     (None, 50)           0                                            \n",
      "__________________________________________________________________________________________________\n",
      "Embedding (Embedding)           (None, 50, 50)       1000000     Input_postText[0][0]             \n",
      "__________________________________________________________________________________________________\n",
      "dropout_1 (Dropout)             (None, 50, 50)       0           Embedding[0][0]                  \n",
      "__________________________________________________________________________________________________\n",
      "Input_ids (InputLayer)          (None, 1)            0                                            \n",
      "__________________________________________________________________________________________________\n",
      "LSTM (LSTM)                     (None, 32)           10624       dropout_1[0][0]                  \n",
      "__________________________________________________________________________________________________\n",
      "dence1 (Dense)                  (None, 16)           32          Input_ids[0][0]                  \n",
      "__________________________________________________________________________________________________\n",
      "dropout_2 (Dropout)             (None, 32)           0           LSTM[0][0]                       \n",
      "__________________________________________________________________________________________________\n",
      "dropout_3 (Dropout)             (None, 16)           0           dence1[0][0]                     \n",
      "__________________________________________________________________________________________________\n",
      "merge1 (Concatenate)            (None, 48)           0           dropout_2[0][0]                  \n",
      "                                                                 dropout_3[0][0]                  \n",
      "__________________________________________________________________________________________________\n",
      "dence (Dense)                   (None, 16)           784         merge1[0][0]                     \n",
      "__________________________________________________________________________________________________\n",
      "dropout_4 (Dropout)             (None, 16)           0           dence[0][0]                      \n",
      "__________________________________________________________________________________________________\n",
      "output (Dense)                  (None, 2)            34          dropout_4[0][0]                  \n",
      "==================================================================================================\n",
      "Total params: 1,011,474\n",
      "Trainable params: 1,011,474\n",
      "Non-trainable params: 0\n",
      "__________________________________________________________________________________________________\n"
     ]
    }
   ],
   "source": [
    "p_input = Input(shape=(50, ), dtype='int32', name='Input_postText')\n",
    "i_input = Input(shape=(1, ), name='Input_ids')\n",
    "\n",
    "#テキストの学習\n",
    "em = Embedding(input_dim=20000, output_dim=50, input_length=50, name='Embedding')(p_input)\n",
    "d_em = Dropout(0.5)(em)\n",
    "lstm_out = LSTM(32, kernel_initializer=weight_variable, name='LSTM')(d_em)\n",
    "d_lstm_out = Dropout(0.5)(lstm_out)\n",
    "#2つ目のデータ学習\n",
    "i2 = Dense(16, activation='elu',  name = 'dence1')(i_input)\n",
    "d_i2 = Dropout(0.5)(i2)\n",
    "x = concatenate([d_lstm_out, d_i2], name='merge1')\n",
    "\n",
    "m2 = Dense(16, activation='elu', name = 'dence')(x)\n",
    "d_m2 = Dropout(0.5)(m2)\n",
    "#m2 = BatchNormalization()(m2)\n",
    "output = Dense(2, activation='softmax', name = 'output')(d_m2)\n",
    "\n",
    "optimizer = Adam(lr=1e-4)\n",
    "model = Model(inputs=[p_input, i_input], outputs = output)\n",
    "model.compile(optimizer=optimizer, loss='categorical_crossentropy',  metrics=[categorical_accuracy, macro_precision, macro_recall, macro_f_measure])\n",
    "model.summary()\n",
    "#plot_model(model, show_shapes=True, show_layer_names=True, to_file='model_image/model2.png')\n",
    "\n",
    "\n",
    "early_stopping = EarlyStopping(patience=5, verbose=1)"
   ]
  },
  {
   "cell_type": "code",
   "execution_count": 6,
   "metadata": {},
   "outputs": [
    {
     "name": "stdout",
     "output_type": "stream",
     "text": [
      "Train on 14000 samples, validate on 1999 samples\n",
      "Epoch 1/100\n",
      "14000/14000 [==============================] - 7s 475us/step - loss: 1.5553 - categorical_accuracy: 0.5002 - macro_precision: 0.4999 - macro_recall: 0.4999 - macro_f_measure: 0.4999 - val_loss: 0.9931 - val_categorical_accuracy: 0.5063 - val_macro_precision: 0.2531 - val_macro_recall: 0.5000 - val_macro_f_measure: 0.3360\n",
      "Epoch 2/100\n",
      "14000/14000 [==============================] - 5s 379us/step - loss: 1.4684 - categorical_accuracy: 0.5019 - macro_precision: 0.5017 - macro_recall: 0.5016 - macro_f_measure: 0.5016 - val_loss: 0.9966 - val_categorical_accuracy: 0.5063 - val_macro_precision: 0.2531 - val_macro_recall: 0.5000 - val_macro_f_measure: 0.3360\n",
      "Epoch 3/100\n",
      "14000/14000 [==============================] - 7s 532us/step - loss: 1.3631 - categorical_accuracy: 0.5003 - macro_precision: 0.5003 - macro_recall: 0.5004 - macro_f_measure: 0.5004 - val_loss: 1.0388 - val_categorical_accuracy: 0.5063 - val_macro_precision: 0.2531 - val_macro_recall: 0.5000 - val_macro_f_measure: 0.3360\n",
      "Epoch 4/100\n",
      "14000/14000 [==============================] - 5s 385us/step - loss: 1.2520 - categorical_accuracy: 0.5066 - macro_precision: 0.5072 - macro_recall: 0.5067 - macro_f_measure: 0.5069 - val_loss: 0.9982 - val_categorical_accuracy: 0.5063 - val_macro_precision: 0.2531 - val_macro_recall: 0.5000 - val_macro_f_measure: 0.3360\n",
      "Epoch 5/100\n",
      "14000/14000 [==============================] - 6s 405us/step - loss: 1.1722 - categorical_accuracy: 0.5083 - macro_precision: 0.5090 - macro_recall: 0.5085 - macro_f_measure: 0.5088 - val_loss: 0.9554 - val_categorical_accuracy: 0.5063 - val_macro_precision: 0.2531 - val_macro_recall: 0.5000 - val_macro_f_measure: 0.3360\n",
      "Epoch 6/100\n",
      "14000/14000 [==============================] - 5s 390us/step - loss: 1.1306 - categorical_accuracy: 0.5059 - macro_precision: 0.5062 - macro_recall: 0.5061 - macro_f_measure: 0.5061 - val_loss: 0.9182 - val_categorical_accuracy: 0.5063 - val_macro_precision: 0.2531 - val_macro_recall: 0.5000 - val_macro_f_measure: 0.3360\n",
      "Epoch 7/100\n",
      "14000/14000 [==============================] - 6s 421us/step - loss: 1.0866 - categorical_accuracy: 0.5071 - macro_precision: 0.5073 - macro_recall: 0.5072 - macro_f_measure: 0.5073 - val_loss: 0.8896 - val_categorical_accuracy: 0.5173 - val_macro_precision: 0.7559 - val_macro_recall: 0.5112 - val_macro_f_measure: 0.6099\n",
      "Epoch 8/100\n",
      "14000/14000 [==============================] - 6s 394us/step - loss: 1.0318 - categorical_accuracy: 0.5234 - macro_precision: 0.5238 - macro_recall: 0.5235 - macro_f_measure: 0.5237 - val_loss: 0.8463 - val_categorical_accuracy: 0.5243 - val_macro_precision: 0.7578 - val_macro_recall: 0.5181 - val_macro_f_measure: 0.6154\n",
      "Epoch 9/100\n",
      "14000/14000 [==============================] - 5s 390us/step - loss: 0.9486 - categorical_accuracy: 0.5551 - macro_precision: 0.5559 - macro_recall: 0.5550 - macro_f_measure: 0.5554 - val_loss: 0.8613 - val_categorical_accuracy: 0.5298 - val_macro_precision: 0.7592 - val_macro_recall: 0.5236 - val_macro_f_measure: 0.6197\n",
      "Epoch 10/100\n",
      "14000/14000 [==============================] - 6s 434us/step - loss: 0.9166 - categorical_accuracy: 0.5763 - macro_precision: 0.5769 - macro_recall: 0.5757 - macro_f_measure: 0.5763 - val_loss: 0.7537 - val_categorical_accuracy: 0.5638 - val_macro_precision: 0.6814 - val_macro_recall: 0.5586 - val_macro_f_measure: 0.6138\n",
      "Epoch 11/100\n",
      "14000/14000 [==============================] - 6s 407us/step - loss: 0.8622 - categorical_accuracy: 0.5948 - macro_precision: 0.5959 - macro_recall: 0.5946 - macro_f_measure: 0.5953 - val_loss: 0.7187 - val_categorical_accuracy: 0.5703 - val_macro_precision: 0.6864 - val_macro_recall: 0.5654 - val_macro_f_measure: 0.6198\n",
      "Epoch 12/100\n",
      "14000/14000 [==============================] - 5s 390us/step - loss: 0.8362 - categorical_accuracy: 0.6085 - macro_precision: 0.6094 - macro_recall: 0.6082 - macro_f_measure: 0.6088 - val_loss: 0.7102 - val_categorical_accuracy: 0.5988 - val_macro_precision: 0.7436 - val_macro_recall: 0.5941 - val_macro_f_measure: 0.6604\n",
      "Epoch 13/100\n",
      "14000/14000 [==============================] - 5s 386us/step - loss: 0.7756 - categorical_accuracy: 0.6371 - macro_precision: 0.6377 - macro_recall: 0.6368 - macro_f_measure: 0.6372 - val_loss: 0.6855 - val_categorical_accuracy: 0.6153 - val_macro_precision: 0.7456 - val_macro_recall: 0.6109 - val_macro_f_measure: 0.6714\n",
      "Epoch 14/100\n",
      "14000/14000 [==============================] - 5s 359us/step - loss: 0.7605 - categorical_accuracy: 0.6434 - macro_precision: 0.6438 - macro_recall: 0.6430 - macro_f_measure: 0.6434 - val_loss: 0.6555 - val_categorical_accuracy: 0.6363 - val_macro_precision: 0.7504 - val_macro_recall: 0.6323 - val_macro_f_measure: 0.6862\n",
      "Epoch 15/100\n",
      "14000/14000 [==============================] - 6s 453us/step - loss: 0.7244 - categorical_accuracy: 0.6619 - macro_precision: 0.6630 - macro_recall: 0.6618 - macro_f_measure: 0.6624 - val_loss: 0.6381 - val_categorical_accuracy: 0.6558 - val_macro_precision: 0.7538 - val_macro_recall: 0.6522 - val_macro_f_measure: 0.6993\n",
      "Epoch 16/100\n",
      "14000/14000 [==============================] - 6s 427us/step - loss: 0.7002 - categorical_accuracy: 0.6726 - macro_precision: 0.6731 - macro_recall: 0.6723 - macro_f_measure: 0.6727 - val_loss: 0.6134 - val_categorical_accuracy: 0.6663 - val_macro_precision: 0.7469 - val_macro_recall: 0.6628 - val_macro_f_measure: 0.7023\n",
      "Epoch 17/100\n",
      "14000/14000 [==============================] - 6s 394us/step - loss: 0.6706 - categorical_accuracy: 0.6851 - macro_precision: 0.6857 - macro_recall: 0.6853 - macro_f_measure: 0.6855 - val_loss: 0.5958 - val_categorical_accuracy: 0.6838 - val_macro_precision: 0.7434 - val_macro_recall: 0.6809 - val_macro_f_measure: 0.7107\n",
      "Epoch 18/100\n",
      "14000/14000 [==============================] - 5s 391us/step - loss: 0.6562 - categorical_accuracy: 0.6939 - macro_precision: 0.6948 - macro_recall: 0.6940 - macro_f_measure: 0.6944 - val_loss: 0.5932 - val_categorical_accuracy: 0.6868 - val_macro_precision: 0.7523 - val_macro_recall: 0.6837 - val_macro_f_measure: 0.7163\n",
      "Epoch 19/100\n",
      "14000/14000 [==============================] - 6s 413us/step - loss: 0.6223 - categorical_accuracy: 0.7172 - macro_precision: 0.7187 - macro_recall: 0.7175 - macro_f_measure: 0.7181 - val_loss: 0.5575 - val_categorical_accuracy: 0.7209 - val_macro_precision: 0.7434 - val_macro_recall: 0.7187 - val_macro_f_measure: 0.7308\n",
      "Epoch 20/100\n",
      "14000/14000 [==============================] - 6s 403us/step - loss: 0.6032 - categorical_accuracy: 0.7231 - macro_precision: 0.7236 - macro_recall: 0.7232 - macro_f_measure: 0.7234 - val_loss: 0.5483 - val_categorical_accuracy: 0.7274 - val_macro_precision: 0.7466 - val_macro_recall: 0.7253 - val_macro_f_measure: 0.7358\n",
      "Epoch 21/100\n",
      "14000/14000 [==============================] - 6s 397us/step - loss: 0.5873 - categorical_accuracy: 0.7338 - macro_precision: 0.7350 - macro_recall: 0.7340 - macro_f_measure: 0.7345 - val_loss: 0.5548 - val_categorical_accuracy: 0.7244 - val_macro_precision: 0.7494 - val_macro_recall: 0.7221 - val_macro_f_measure: 0.7355\n",
      "Epoch 22/100\n",
      "14000/14000 [==============================] - 6s 412us/step - loss: 0.5659 - categorical_accuracy: 0.7449 - macro_precision: 0.7455 - macro_recall: 0.7448 - macro_f_measure: 0.7452 - val_loss: 0.5449 - val_categorical_accuracy: 0.7359 - val_macro_precision: 0.7536 - val_macro_recall: 0.7340 - val_macro_f_measure: 0.7436\n",
      "Epoch 23/100\n",
      "14000/14000 [==============================] - 5s 390us/step - loss: 0.5605 - categorical_accuracy: 0.7482 - macro_precision: 0.7492 - macro_recall: 0.7482 - macro_f_measure: 0.7487 - val_loss: 0.5450 - val_categorical_accuracy: 0.7354 - val_macro_precision: 0.7565 - val_macro_recall: 0.7333 - val_macro_f_measure: 0.7447\n",
      "Epoch 24/100\n",
      "14000/14000 [==============================] - 6s 422us/step - loss: 0.5334 - categorical_accuracy: 0.7582 - macro_precision: 0.7590 - macro_recall: 0.7580 - macro_f_measure: 0.7585 - val_loss: 0.5530 - val_categorical_accuracy: 0.7349 - val_macro_precision: 0.7549 - val_macro_recall: 0.7329 - val_macro_f_measure: 0.7437\n",
      "Epoch 25/100\n"
     ]
    },
    {
     "name": "stdout",
     "output_type": "stream",
     "text": [
      "14000/14000 [==============================] - 5s 373us/step - loss: 0.5301 - categorical_accuracy: 0.7655 - macro_precision: 0.7664 - macro_recall: 0.7657 - macro_f_measure: 0.7660 - val_loss: 0.5353 - val_categorical_accuracy: 0.7499 - val_macro_precision: 0.7580 - val_macro_recall: 0.7485 - val_macro_f_measure: 0.7532\n",
      "Epoch 26/100\n",
      "14000/14000 [==============================] - 5s 376us/step - loss: 0.5134 - categorical_accuracy: 0.7748 - macro_precision: 0.7757 - macro_recall: 0.7748 - macro_f_measure: 0.7752 - val_loss: 0.5414 - val_categorical_accuracy: 0.7414 - val_macro_precision: 0.7532 - val_macro_recall: 0.7397 - val_macro_f_measure: 0.7464\n",
      "Epoch 27/100\n",
      "14000/14000 [==============================] - 6s 423us/step - loss: 0.4999 - categorical_accuracy: 0.7837 - macro_precision: 0.7841 - macro_recall: 0.7831 - macro_f_measure: 0.7836 - val_loss: 0.5491 - val_categorical_accuracy: 0.7484 - val_macro_precision: 0.7562 - val_macro_recall: 0.7468 - val_macro_f_measure: 0.7514\n",
      "Epoch 28/100\n",
      "14000/14000 [==============================] - 9s 607us/step - loss: 0.4935 - categorical_accuracy: 0.7864 - macro_precision: 0.7866 - macro_recall: 0.7866 - macro_f_measure: 0.7866 - val_loss: 0.5426 - val_categorical_accuracy: 0.7469 - val_macro_precision: 0.7516 - val_macro_recall: 0.7456 - val_macro_f_measure: 0.7486\n",
      "Epoch 29/100\n",
      "14000/14000 [==============================] - 6s 407us/step - loss: 0.4708 - categorical_accuracy: 0.7966 - macro_precision: 0.7973 - macro_recall: 0.7967 - macro_f_measure: 0.7970 - val_loss: 0.5463 - val_categorical_accuracy: 0.7434 - val_macro_precision: 0.7536 - val_macro_recall: 0.7418 - val_macro_f_measure: 0.7477\n",
      "Epoch 30/100\n",
      "14000/14000 [==============================] - 5s 382us/step - loss: 0.4623 - categorical_accuracy: 0.8005 - macro_precision: 0.8005 - macro_recall: 0.8004 - macro_f_measure: 0.8005 - val_loss: 0.5458 - val_categorical_accuracy: 0.7489 - val_macro_precision: 0.7541 - val_macro_recall: 0.7476 - val_macro_f_measure: 0.7508\n",
      "Epoch 00030: early stopping\n"
     ]
    }
   ],
   "source": [
    "history = model.fit([x1_train, x2_train], y_train,\n",
    "                    epochs=100, \n",
    "                    batch_size=256,\n",
    "                    validation_data=([x1_val, x2_val], y_val),\n",
    "                   callbacks=[early_stopping])"
   ]
  },
  {
   "cell_type": "code",
   "execution_count": 7,
   "metadata": {},
   "outputs": [
    {
     "name": "stdout",
     "output_type": "stream",
     "text": [
      "4001/4001 [==============================] - 1s 266us/step\n",
      "[0.5291392912271636, 0.7660584853786553, 0.7709265753824215, 0.766310526635819, 0.7684665356418903]\n"
     ]
    }
   ],
   "source": [
    "loss_and_metrics = model.evaluate([x1_test, x2_test], y_test)\n",
    "print(loss_and_metrics)"
   ]
  },
  {
   "cell_type": "code",
   "execution_count": 21,
   "metadata": {},
   "outputs": [],
   "source": [
    "y_test2 = y_train.reshape(-1)\n",
    "result = np.zeros(y_test2.shape, int)\n",
    "for idx, data in enumerate(classes):\n",
    "    result[idx] = int(np.argmax(data))"
   ]
  },
  {
   "cell_type": "code",
   "execution_count": 22,
   "metadata": {},
   "outputs": [
    {
     "name": "stdout",
     "output_type": "stream",
     "text": [
      "ターゲット\n",
      "[0. 1. 1. ... 0. 0. 1.]\n",
      "ディープラーニングによる予測\n",
      "[0 0 0 ... 0 0 0]\n"
     ]
    }
   ],
   "source": [
    "print('ターゲット')\n",
    "print(y_test2)\n",
    "print('ディープラーニングによる予測')\n",
    "print(result)"
   ]
  },
  {
   "cell_type": "code",
   "execution_count": 23,
   "metadata": {},
   "outputs": [
    {
     "name": "stdout",
     "output_type": "stream",
     "text": [
      "正解率\n",
      "50.11071428571429\n"
     ]
    }
   ],
   "source": [
    "# データ数をtotalに格納\n",
    "total = len(result)\n",
    "# ターゲット（正解）と予測が一致した数をsuccessに格納\n",
    "success = sum(result==y_test2)\n",
    "\n",
    "# 正解率をパーセント表示\n",
    "print('正解率')\n",
    "print(100.0*success/total)"
   ]
  },
  {
   "cell_type": "code",
   "execution_count": 23,
   "metadata": {},
   "outputs": [
    {
     "data": {
      "text/plain": [
       "['loss', 'acc', 'macro_precision', 'macro_recall', 'macro_f_measure']"
      ]
     },
     "execution_count": 23,
     "metadata": {},
     "output_type": "execute_result"
    }
   ],
   "source": [
    "model.metrics_names"
   ]
  },
  {
   "cell_type": "code",
   "execution_count": 16,
   "metadata": {},
   "outputs": [],
   "source": [
    "#予測\n",
    "classes = model.predict([x1_train, x2_train], batch_size=1)\n",
    "#予測結果を保存して与えたデータと結合\n",
    "columns = ['not publish', 'publish']\n",
    "result = pd.DataFrame(classes, columns = columns)\n",
    "test_data = use_data_s[15998:19999]\n",
    "n_test_data = test_data.reset_index()\n",
    "predict_result = n_test_data.join(result)\n",
    "predict_result.drop(['user_id','tweet_id','tweet2', 'cos_day','sin_day', 'image_url', 'tag2', 'user_id2'], axis=1, inplace=True)"
   ]
  },
  {
   "cell_type": "code",
   "execution_count": 1,
   "metadata": {},
   "outputs": [
    {
     "ename": "NameError",
     "evalue": "name 'predict_result' is not defined",
     "output_type": "error",
     "traceback": [
      "\u001b[0;31m---------------------------------------------------------------------------\u001b[0m",
      "\u001b[0;31mNameError\u001b[0m                                 Traceback (most recent call last)",
      "\u001b[0;32m<ipython-input-1-30c896f17b2c>\u001b[0m in \u001b[0;36m<module>\u001b[0;34m\u001b[0m\n\u001b[1;32m      1\u001b[0m \u001b[0;31m#予測結果の書き出し\u001b[0m\u001b[0;34m\u001b[0m\u001b[0;34m\u001b[0m\u001b[0;34m\u001b[0m\u001b[0m\n\u001b[0;32m----> 2\u001b[0;31m \u001b[0mpredict_result\u001b[0m\u001b[0;34m.\u001b[0m\u001b[0mto_csv\u001b[0m\u001b[0;34m(\u001b[0m\u001b[0;34m\"result/A/result.csv\"\u001b[0m\u001b[0;34m,\u001b[0m\u001b[0mindex\u001b[0m\u001b[0;34m=\u001b[0m\u001b[0;32mFalse\u001b[0m\u001b[0;34m,\u001b[0m \u001b[0msep\u001b[0m\u001b[0;34m=\u001b[0m\u001b[0;34m\",\"\u001b[0m\u001b[0;34m)\u001b[0m\u001b[0;34m\u001b[0m\u001b[0;34m\u001b[0m\u001b[0m\n\u001b[0m",
      "\u001b[0;31mNameError\u001b[0m: name 'predict_result' is not defined"
     ]
    }
   ],
   "source": [
    "#予測結果の書き出し\n",
    "predict_result.to_csv(\"result/A/result.csv\",index=False, sep=\",\")"
   ]
  },
  {
   "cell_type": "code",
   "execution_count": 10,
   "metadata": {},
   "outputs": [
    {
     "data": {
      "text/plain": [
       "<Figure size 432x288 with 0 Axes>"
      ]
     },
     "execution_count": 10,
     "metadata": {},
     "output_type": "execute_result"
    },
    {
     "data": {
      "image/png": "[encoded data removed]",
      "text/plain": [
       "<Figure size 432x288 with 1 Axes>"
      ]
     },
     "metadata": {
      "needs_background": "light"
     },
     "output_type": "display_data"
    },
    {
     "data": {
      "image/png": "[encoded data removed]",
      "text/plain": [
       "<Figure size 432x288 with 1 Axes>"
      ]
     },
     "metadata": {
      "needs_background": "light"
     },
     "output_type": "display_data"
    },
    {
     "data": {
      "text/plain": [
       "<Figure size 432x288 with 0 Axes>"
      ]
     },
     "metadata": {},
     "output_type": "display_data"
    }
   ],
   "source": [
    "%matplotlib inline\n",
    "\n",
    "acc = history.history['acc']\n",
    "val_acc = history.history['val_acc']\n",
    "loss = history.history['loss']\n",
    "val_loss = history.history['val_loss']\n",
    "epochs = range(1, len(acc) + 1)\n",
    "\n",
    "plt.plot(epochs, acc, 'b--', label='Training acc')\n",
    "plt.plot(epochs, val_acc, 'b', label='Validation acc')\n",
    "plt.title('Training and validation accuracy')\n",
    "plt.legend()\n",
    "plt.savefig(\"result/A/test_and_val_acc.png\")\n",
    "\n",
    "plt.figure()\n",
    "\n",
    "plt.plot(epochs, loss, 'b--', label='Training loss')\n",
    "plt.plot(epochs, val_loss, 'b', label='Validation loss')\n",
    "plt.title('Training and validation loss')\n",
    "plt.legend()\n",
    "plt.savefig(\"result/A/test_and_val_loss.png\")\n",
    "\n",
    "plt.figure()"
   ]
  },
  {
   "cell_type": "code",
   "execution_count": 11,
   "metadata": {
    "lines_to_next_cell": 0
   },
   "outputs": [
    {
     "data": {
      "image/png": "[encoded data removed]",
      "text/plain": [
       "<Figure size 432x288 with 2 Axes>"
      ]
     },
     "metadata": {
      "needs_background": "light"
     },
     "output_type": "display_data"
    }
   ],
   "source": [
    "fig = plt.figure()\n",
    "ax_acc = fig.add_subplot(111)\n",
    "ax_acc.plot(epochs, val_acc, 'b--', label='Validation acc')\n",
    "plt.legend(bbox_to_anchor=(0, 1), loc='upper left', borderaxespad=0.5, fontsize=10)\n",
    "\n",
    "ax_loss = ax_acc.twinx()\n",
    "ax_loss.plot(epochs, val_loss, 'b', label='Validation loss')\n",
    "plt.legend(bbox_to_anchor=(0, 0.9), loc='upper left', borderaxespad=0.5, fontsize=10)\n",
    "plt.title('Validation acc and Validation loss')\n",
    "ax_acc.set_xlabel('epochs')\n",
    "ax_acc.set_ylabel('Validation acc')\n",
    "ax_loss.grid(True)\n",
    "ax_loss.set_ylabel('Validation loss')\n",
    "plt.savefig(\"result/A/val_acc_loss.png\")\n",
    "plt.show()"
   ]
  },
  {
   "cell_type": "code",
   "execution_count": 15,
   "metadata": {},
   "outputs": [],
   "source": [
    "model.save('result/A/model2_dA.h5')"
   ]
  },
  {
   "cell_type": "code",
   "execution_count": null,
   "metadata": {},
   "outputs": [],
   "source": []
  }
 ],
 "metadata": {
  "jupytext": {
   "encoding": "# -*- coding: utf-8 -*-",
   "text_representation": {
    "extension": ".py",
    "format_name": "light",
    "format_version": "1.5",
    "jupytext_version": "1.3.1"
   }
  },
  "kernelspec": {
   "display_name": "Python 3",
   "language": "python",
   "name": "python3"
  },
  "language_info": {
   "codemirror_mode": {
    "name": "ipython",
    "version": 3
   },
   "file_extension": ".py",
   "mimetype": "text/x-python",
   "name": "python",
   "nbconvert_exporter": "python",
   "pygments_lexer": "ipython3",
   "version": "3.6.7"
  }
 },
 "nbformat": 4,
 "nbformat_minor": 2
}
