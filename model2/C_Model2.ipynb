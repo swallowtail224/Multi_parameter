{
 "cells": [
  {
   "cell_type": "code",
   "execution_count": 1,
   "metadata": {},
   "outputs": [
    {
     "name": "stderr",
     "output_type": "stream",
     "text": [
      "Using TensorFlow backend.\n"
     ]
    }
   ],
   "source": [
    "from keras.layers import Input, Dense, Embedding, LSTM, Dropout, concatenate\n",
    "from keras.models import Model\n",
    "from keras.callbacks import EarlyStopping\n",
    "from keras.utils import plot_model\n",
    "import numpy as np\n",
    "from keras.optimizers import Adam\n",
    "from keras.preprocessing.text import Tokenizer\n",
    "from keras.preprocessing.sequence import pad_sequences\n",
    "from keras.utils.np_utils import to_categorical\n",
    "import keras.backend as K\n",
    "from functools import partial\n",
    "import matplotlib.pyplot as plt\n",
    "import pandas as pd"
   ]
  },
  {
   "cell_type": "code",
   "execution_count": 2,
   "metadata": {},
   "outputs": [],
   "source": [
    "def normalize_y_pred(y_pred):\n",
    "    return K.one_hot(K.argmax(y_pred), y_pred.shape[-1])\n",
    "\n",
    "def class_true_positive(class_label, y_true, y_pred):\n",
    "    y_pred = normalize_y_pred(y_pred)\n",
    "    return K.cast(K.equal(y_true[:, class_label] + y_pred[:, class_label], 2), K.floatx())\n",
    "\n",
    "def class_accuracy(class_label, y_true, y_pred):\n",
    "    y_pred = normalize_y_pred(y_pred)\n",
    "    return K.cast(K.equal(y_true[:, class_label], y_pred[:, class_label]),\n",
    "                  K.floatx())\n",
    "\n",
    "def class_precision(class_label, y_true, y_pred):\n",
    "    y_pred = normalize_y_pred(y_pred)\n",
    "    return K.sum(class_true_positive(class_label, y_true, y_pred)) / (K.sum(y_pred[:, class_label]) + K.epsilon())\n",
    "\n",
    "\n",
    "def class_recall(class_label, y_true, y_pred):\n",
    "    return K.sum(class_true_positive(class_label, y_true, y_pred)) / (K.sum(y_true[:, class_label]) + K.epsilon())\n",
    "\n",
    "\n",
    "def class_f_measure(class_label, y_true, y_pred):\n",
    "    precision = class_precision(class_label, y_true, y_pred)\n",
    "    recall = class_recall(class_label, y_true, y_pred)\n",
    "    return (2 * precision * recall) / (precision + recall + K.epsilon())\n",
    "\n",
    "\n",
    "def true_positive(y_true, y_pred):\n",
    "    y_pred = normalize_y_pred(y_pred)\n",
    "    return K.cast(K.equal(y_true + y_pred, 2),\n",
    "                  K.floatx())\n",
    "\n",
    "\n",
    "def micro_precision(y_true, y_pred):\n",
    "    y_pred = normalize_y_pred(y_pred)\n",
    "    return K.sum(true_positive(y_true, y_pred)) / (K.sum(y_pred) + K.epsilon())\n",
    "\n",
    "\n",
    "def micro_recall(y_true, y_pred):\n",
    "    return K.sum(true_positive(y_true, y_pred)) / (K.sum(y_true) + K.epsilon())\n",
    "\n",
    "\n",
    "def micro_f_measure(y_true, y_pred):\n",
    "    precision = micro_precision(y_true, y_pred)\n",
    "    recall = micro_recall(y_true, y_pred)\n",
    "    return (2 * precision * recall) / (precision + recall + K.epsilon())\n",
    "\n",
    "\n",
    "def average_accuracy(y_true, y_pred):\n",
    "    class_count = y_pred.shape[-1]\n",
    "    class_acc_list = [class_accuracy(i, y_true, y_pred) for i in range(class_count)]\n",
    "    class_acc_matrix = K.concatenate(class_acc_list, axis=0)\n",
    "    return K.mean(class_acc_matrix, axis=0)\n",
    "\n",
    "\n",
    "def macro_precision(y_true, y_pred):\n",
    "    class_count = y_pred.shape[-1]\n",
    "    return K.sum([class_precision(i, y_true, y_pred) for i in range(class_count)]) / K.cast(class_count, K.floatx())\n",
    "\n",
    "\n",
    "def macro_recall(y_true, y_pred):\n",
    "    class_count = y_pred.shape[-1]\n",
    "    return K.sum([class_recall(i, y_true, y_pred) for i in range(class_count)]) / K.cast(class_count, K.floatx())\n",
    "\n",
    "\n",
    "def macro_f_measure(y_true, y_pred):\n",
    "    precision = macro_precision(y_true, y_pred)\n",
    "    recall = macro_recall(y_true, y_pred)\n",
    "    return (2 * precision * recall) / (precision + recall + K.epsilon())\n",
    "\n",
    "def weight_variable(shape):\n",
    "    return K.truncated_normal(shape, stddev = 0.01)"
   ]
  },
  {
   "cell_type": "code",
   "execution_count": 3,
   "metadata": {},
   "outputs": [
    {
     "name": "stdout",
     "output_type": "stream",
     "text": [
      "20000\n",
      "<class 'pandas.core.frame.DataFrame'>\n",
      "RangeIndex: 20000 entries, 0 to 19999\n",
      "Data columns (total 14 columns):\n",
      "screen_name    20000 non-null object\n",
      "user_id        20000 non-null float64\n",
      "tweet_id       20000 non-null float64\n",
      "tweet          20000 non-null object\n",
      "tweet2         20000 non-null object\n",
      "postdate       20000 non-null object\n",
      "cos_day        20000 non-null float64\n",
      "sin_day        20000 non-null float64\n",
      "tag            20000 non-null object\n",
      "image_url      20000 non-null object\n",
      "image          20000 non-null int64\n",
      "retweet        20000 non-null float64\n",
      "tag2           6063 non-null object\n",
      "user_id2       20000 non-null int64\n",
      "dtypes: float64(5), int64(2), object(7)\n",
      "memory usage: 2.1+ MB\n"
     ]
    }
   ],
   "source": [
    "#データの読み込み\n",
    "use_data = pd.read_csv(filepath_or_buffer=\"multi_data.csv\", encoding=\"utf_8\", sep=\",\")\n",
    "print(len(use_data))\n",
    "use_data.info()"
   ]
  },
  {
   "cell_type": "code",
   "execution_count": 4,
   "metadata": {},
   "outputs": [
    {
     "name": "stdout",
     "output_type": "stream",
     "text": [
      "Found 20281 unique tokens.\n",
      "Shape of data tensor:(20000, 50)\n",
      "Shape of label tensor:(20000,)\n",
      "Shape of label tensor:(20000, 2)\n"
     ]
    }
   ],
   "source": [
    "maxlen = 50\n",
    "train = 0.7\n",
    "validation = 0.1\n",
    "max_words = 20000\n",
    "\n",
    "#データをランダムにシャッフル\n",
    "use_data_s = use_data.sample(frac=1, random_state=150)\n",
    "\n",
    "# word indexを作成\n",
    "tokenizer = Tokenizer(num_words=max_words)\n",
    "tokenizer.fit_on_texts(use_data_s['tweet2'])\n",
    "sequences = tokenizer.texts_to_sequences(use_data_s['tweet2'])\n",
    "\n",
    "word_index = tokenizer.word_index\n",
    "print(\"Found {} unique tokens.\".format(len(word_index)))\n",
    "\n",
    "data = pad_sequences(sequences, maxlen=maxlen)\n",
    "\n",
    "#imageをnp行列に変換\n",
    "img = np.array(use_data['image'])\n",
    "\n",
    "#ラベルをバイナリの行列に変換\n",
    "categorical_labels = to_categorical(use_data_s['retweet'])\n",
    "labels = np.asarray(categorical_labels)\n",
    "\n",
    "print(\"Shape of data tensor:{}\".format(data.shape))\n",
    "print(\"Shape of img tensor:{}\".format(img.shape))\n",
    "print(\"Shape of label tensor:{}\".format(labels.shape))\n",
    "\n",
    "\n",
    "indices = [int(len(labels) * n) for n in [train, train + validation]]\n",
    "x1_train, x1_val, x1_test = np.split(data, indices)\n",
    "x2_train, x2_val, x2_test = np.split(img, indices)\n",
    "y_train, y_val, y_test = np.split(labels, indices)"
   ]
  },
  {
   "cell_type": "code",
   "execution_count": 5,
   "metadata": {},
   "outputs": [
    {
     "name": "stdout",
     "output_type": "stream",
     "text": [
      "__________________________________________________________________________________________________\n",
      "Layer (type)                    Output Shape         Param #     Connected to                     \n",
      "==================================================================================================\n",
      "Input_postText (InputLayer)     (None, 50)           0                                            \n",
      "__________________________________________________________________________________________________\n",
      "Embedding (Embedding)           (None, 50, 50)       1000000     Input_postText[0][0]             \n",
      "__________________________________________________________________________________________________\n",
      "dropout_1 (Dropout)             (None, 50, 50)       0           Embedding[0][0]                  \n",
      "__________________________________________________________________________________________________\n",
      "Input_ids (InputLayer)          (None, 1)            0                                            \n",
      "__________________________________________________________________________________________________\n",
      "LSTM (LSTM)                     (None, 32)           10624       dropout_1[0][0]                  \n",
      "__________________________________________________________________________________________________\n",
      "dence1 (Dense)                  (None, 16)           32          Input_ids[0][0]                  \n",
      "__________________________________________________________________________________________________\n",
      "dropout_2 (Dropout)             (None, 32)           0           LSTM[0][0]                       \n",
      "__________________________________________________________________________________________________\n",
      "dropout_3 (Dropout)             (None, 16)           0           dence1[0][0]                     \n",
      "__________________________________________________________________________________________________\n",
      "merge1 (Concatenate)            (None, 48)           0           dropout_2[0][0]                  \n",
      "                                                                 dropout_3[0][0]                  \n",
      "__________________________________________________________________________________________________\n",
      "dence (Dense)                   (None, 16)           784         merge1[0][0]                     \n",
      "__________________________________________________________________________________________________\n",
      "dropout_4 (Dropout)             (None, 16)           0           dence[0][0]                      \n",
      "__________________________________________________________________________________________________\n",
      "output (Dense)                  (None, 2)            34          dropout_4[0][0]                  \n",
      "==================================================================================================\n",
      "Total params: 1,011,474\n",
      "Trainable params: 1,011,474\n",
      "Non-trainable params: 0\n",
      "__________________________________________________________________________________________________\n"
     ]
    }
   ],
   "source": [
    "p_input = Input(shape=(50, ), dtype='int32', name='Input_postText')\n",
    "i_input = Input(shape=(1, ), name='Input_ids')\n",
    "\n",
    "#テキストの学習\n",
    "em = Embedding(input_dim=20000, output_dim=50, input_length=50, name='Embedding')(p_input)\n",
    "d_em = Dropout(0.5)(em)\n",
    "lstm_out = LSTM(32, kernel_initializer=weight_variable, name='LSTM')(d_em)\n",
    "d_lstm_out = Dropout(0.5)(lstm_out)\n",
    "#2つ目のデータ学習\n",
    "i2 = Dense(16, activation='elu', name = 'dence1')(i_input)\n",
    "d_i2 = Dropout(0.5)(i2)\n",
    "x = concatenate([d_lstm_out, d_i2], name='merge1')\n",
    "\n",
    "m2 = Dense(16, activation='elu', name = 'dence')(x)\n",
    "d_m2 = Dropout(0.5)(m2)\n",
    "output = Dense(2, activation='softmax', name = 'output')(d_m2)\n",
    "\n",
    "model = Model(inputs=[p_input, i_input], outputs = output)\n",
    "optimizer = Adam(lr=1e-4)\n",
    "model.compile(optimizer=optimizer, loss='categorical_crossentropy',  metrics=['acc', macro_precision, macro_recall, macro_f_measure])\n",
    "model.summary()\n",
    "#plot_model(model, show_shapes=True, show_layer_names=True, to_file='model_image/model2.png')\n",
    "\n",
    "\n",
    "early_stopping = EarlyStopping(patience=2, verbose=1)"
   ]
  },
  {
   "cell_type": "code",
   "execution_count": 6,
   "metadata": {},
   "outputs": [
    {
     "name": "stdout",
     "output_type": "stream",
     "text": [
      "Train on 14000 samples, validate on 1999 samples\n",
      "Epoch 1/100\n",
      "14000/14000 [==============================] - 10s 685us/step - loss: 0.8215 - acc: 0.4920 - macro_precision: 0.4921 - macro_recall: 0.4920 - macro_f_measure: 0.4921 - val_loss: 0.6930 - val_acc: 0.5018 - val_macro_precision: 0.5028 - val_macro_recall: 0.5024 - val_macro_f_measure: 0.5026\n",
      "Epoch 2/100\n",
      "14000/14000 [==============================] - 6s 462us/step - loss: 0.8109 - acc: 0.4989 - macro_precision: 0.4991 - macro_recall: 0.4990 - macro_f_measure: 0.4991 - val_loss: 0.6926 - val_acc: 0.5018 - val_macro_precision: 0.5028 - val_macro_recall: 0.5024 - val_macro_f_measure: 0.5026\n",
      "Epoch 3/100\n",
      "14000/14000 [==============================] - 6s 431us/step - loss: 0.7921 - acc: 0.5081 - macro_precision: 0.5076 - macro_recall: 0.5076 - macro_f_measure: 0.5076 - val_loss: 0.6917 - val_acc: 0.5368 - val_macro_precision: 0.7611 - val_macro_recall: 0.5308 - val_macro_f_measure: 0.6253\n",
      "Epoch 4/100\n",
      "14000/14000 [==============================] - 5s 376us/step - loss: 0.7691 - acc: 0.4991 - macro_precision: 0.4990 - macro_recall: 0.4990 - macro_f_measure: 0.4990 - val_loss: 0.6925 - val_acc: 0.5063 - val_macro_precision: 0.2531 - val_macro_recall: 0.5000 - val_macro_f_measure: 0.3360\n",
      "Epoch 5/100\n",
      "14000/14000 [==============================] - 6s 412us/step - loss: 0.7340 - acc: 0.5073 - macro_precision: 0.5073 - macro_recall: 0.5073 - macro_f_measure: 0.5073 - val_loss: 0.6903 - val_acc: 0.5388 - val_macro_precision: 0.7617 - val_macro_recall: 0.5331 - val_macro_f_measure: 0.6272\n",
      "Epoch 6/100\n",
      "14000/14000 [==============================] - 6s 440us/step - loss: 0.7254 - acc: 0.5076 - macro_precision: 0.5071 - macro_recall: 0.5071 - macro_f_measure: 0.5071 - val_loss: 0.6877 - val_acc: 0.5663 - val_macro_precision: 0.7694 - val_macro_recall: 0.5609 - val_macro_f_measure: 0.6487\n",
      "Epoch 7/100\n",
      "14000/14000 [==============================] - 6s 396us/step - loss: 0.7182 - acc: 0.5135 - macro_precision: 0.5137 - macro_recall: 0.5136 - macro_f_measure: 0.5137 - val_loss: 0.6809 - val_acc: 0.6213 - val_macro_precision: 0.7252 - val_macro_recall: 0.6168 - val_macro_f_measure: 0.6665\n",
      "Epoch 8/100\n",
      "14000/14000 [==============================] - 6s 413us/step - loss: 0.7025 - acc: 0.5300 - macro_precision: 0.5304 - macro_recall: 0.5303 - macro_f_measure: 0.5304 - val_loss: 0.6688 - val_acc: 0.6788 - val_macro_precision: 0.7016 - val_macro_recall: 0.6763 - val_macro_f_measure: 0.6887\n",
      "Epoch 9/100\n",
      "14000/14000 [==============================] - 6s 412us/step - loss: 0.6870 - acc: 0.5559 - macro_precision: 0.5567 - macro_recall: 0.5565 - macro_f_measure: 0.5566 - val_loss: 0.6521 - val_acc: 0.6848 - val_macro_precision: 0.6858 - val_macro_recall: 0.6849 - val_macro_f_measure: 0.6853\n",
      "Epoch 10/100\n",
      "14000/14000 [==============================] - 6s 416us/step - loss: 0.6650 - acc: 0.5880 - macro_precision: 0.5881 - macro_recall: 0.5872 - macro_f_measure: 0.5876 - val_loss: 0.6289 - val_acc: 0.7119 - val_macro_precision: 0.7143 - val_macro_recall: 0.7107 - val_macro_f_measure: 0.7125\n",
      "Epoch 11/100\n",
      "14000/14000 [==============================] - 6s 410us/step - loss: 0.6412 - acc: 0.6267 - macro_precision: 0.6280 - macro_recall: 0.6266 - macro_f_measure: 0.6273 - val_loss: 0.6068 - val_acc: 0.7104 - val_macro_precision: 0.7136 - val_macro_recall: 0.7105 - val_macro_f_measure: 0.7121\n",
      "Epoch 12/100\n",
      "14000/14000 [==============================] - 5s 383us/step - loss: 0.6131 - acc: 0.6620 - macro_precision: 0.6634 - macro_recall: 0.6619 - macro_f_measure: 0.6626 - val_loss: 0.5872 - val_acc: 0.7294 - val_macro_precision: 0.7304 - val_macro_recall: 0.7283 - val_macro_f_measure: 0.7293\n",
      "Epoch 13/100\n",
      "14000/14000 [==============================] - 5s 391us/step - loss: 0.5994 - acc: 0.6804 - macro_precision: 0.6829 - macro_recall: 0.6801 - macro_f_measure: 0.6815 - val_loss: 0.5736 - val_acc: 0.7394 - val_macro_precision: 0.7419 - val_macro_recall: 0.7383 - val_macro_f_measure: 0.7401\n",
      "Epoch 14/100\n",
      "14000/14000 [==============================] - 7s 502us/step - loss: 0.5721 - acc: 0.7107 - macro_precision: 0.7129 - macro_recall: 0.7107 - macro_f_measure: 0.7118 - val_loss: 0.5609 - val_acc: 0.7394 - val_macro_precision: 0.7399 - val_macro_recall: 0.7385 - val_macro_f_measure: 0.7392\n",
      "Epoch 15/100\n",
      "14000/14000 [==============================] - 6s 405us/step - loss: 0.5614 - acc: 0.7200 - macro_precision: 0.7222 - macro_recall: 0.7197 - macro_f_measure: 0.7210 - val_loss: 0.5521 - val_acc: 0.7379 - val_macro_precision: 0.7377 - val_macro_recall: 0.7375 - val_macro_f_measure: 0.7376\n",
      "Epoch 16/100\n",
      "14000/14000 [==============================] - 6s 412us/step - loss: 0.5458 - acc: 0.7354 - macro_precision: 0.7369 - macro_recall: 0.7352 - macro_f_measure: 0.7360 - val_loss: 0.5471 - val_acc: 0.7309 - val_macro_precision: 0.7312 - val_macro_recall: 0.7306 - val_macro_f_measure: 0.7309\n",
      "Epoch 17/100\n",
      "14000/14000 [==============================] - 6s 394us/step - loss: 0.5304 - acc: 0.7509 - macro_precision: 0.7539 - macro_recall: 0.7513 - macro_f_measure: 0.7526 - val_loss: 0.5460 - val_acc: 0.7269 - val_macro_precision: 0.7297 - val_macro_recall: 0.7269 - val_macro_f_measure: 0.7283\n",
      "Epoch 18/100\n",
      "14000/14000 [==============================] - 5s 369us/step - loss: 0.5180 - acc: 0.7590 - macro_precision: 0.7622 - macro_recall: 0.7590 - macro_f_measure: 0.7606 - val_loss: 0.5350 - val_acc: 0.7364 - val_macro_precision: 0.7364 - val_macro_recall: 0.7360 - val_macro_f_measure: 0.7362\n",
      "Epoch 19/100\n",
      "14000/14000 [==============================] - 6s 416us/step - loss: 0.5045 - acc: 0.7717 - macro_precision: 0.7742 - macro_recall: 0.7713 - macro_f_measure: 0.7728 - val_loss: 0.5286 - val_acc: 0.7439 - val_macro_precision: 0.7438 - val_macro_recall: 0.7433 - val_macro_f_measure: 0.7435\n",
      "Epoch 20/100\n",
      "14000/14000 [==============================] - 6s 408us/step - loss: 0.4953 - acc: 0.7834 - macro_precision: 0.7854 - macro_recall: 0.7837 - macro_f_measure: 0.7846 - val_loss: 0.5237 - val_acc: 0.7434 - val_macro_precision: 0.7443 - val_macro_recall: 0.7423 - val_macro_f_measure: 0.7433\n",
      "Epoch 21/100\n",
      "14000/14000 [==============================] - 6s 425us/step - loss: 0.4814 - acc: 0.7883 - macro_precision: 0.7906 - macro_recall: 0.7884 - macro_f_measure: 0.7895 - val_loss: 0.5268 - val_acc: 0.7394 - val_macro_precision: 0.7392 - val_macro_recall: 0.7387 - val_macro_f_measure: 0.7389\n",
      "Epoch 22/100\n",
      "14000/14000 [==============================] - 6s 394us/step - loss: 0.4708 - acc: 0.7963 - macro_precision: 0.7981 - macro_recall: 0.7963 - macro_f_measure: 0.7972 - val_loss: 0.5232 - val_acc: 0.7429 - val_macro_precision: 0.7429 - val_macro_recall: 0.7421 - val_macro_f_measure: 0.7425\n",
      "Epoch 23/100\n",
      "14000/14000 [==============================] - 5s 388us/step - loss: 0.4587 - acc: 0.8076 - macro_precision: 0.8101 - macro_recall: 0.8080 - macro_f_measure: 0.8090 - val_loss: 0.5205 - val_acc: 0.7454 - val_macro_precision: 0.7461 - val_macro_recall: 0.7443 - val_macro_f_measure: 0.7452\n",
      "Epoch 24/100\n",
      "14000/14000 [==============================] - 6s 420us/step - loss: 0.4530 - acc: 0.8116 - macro_precision: 0.8143 - macro_recall: 0.8121 - macro_f_measure: 0.8132 - val_loss: 0.5167 - val_acc: 0.7464 - val_macro_precision: 0.7476 - val_macro_recall: 0.7453 - val_macro_f_measure: 0.7465\n",
      "Epoch 25/100\n",
      "14000/14000 [==============================] - 6s 430us/step - loss: 0.4469 - acc: 0.8155 - macro_precision: 0.8182 - macro_recall: 0.8153 - macro_f_measure: 0.8167 - val_loss: 0.5214 - val_acc: 0.7489 - val_macro_precision: 0.7488 - val_macro_recall: 0.7480 - val_macro_f_measure: 0.7484\n",
      "Epoch 26/100\n",
      "14000/14000 [==============================] - 6s 439us/step - loss: 0.4351 - acc: 0.8202 - macro_precision: 0.8221 - macro_recall: 0.8204 - macro_f_measure: 0.8212 - val_loss: 0.5260 - val_acc: 0.7489 - val_macro_precision: 0.7487 - val_macro_recall: 0.7481 - val_macro_f_measure: 0.7484\n",
      "Epoch 00026: early stopping\n"
     ]
    }
   ],
   "source": [
    "history = model.fit([x1_train, x2_train], y_train,\n",
    "                    epochs=100, \n",
    "                    batch_size=256,\n",
    "                    validation_data=([x1_val, x2_val], y_val),\n",
    "                   callbacks=[early_stopping])"
   ]
  },
  {
   "cell_type": "code",
   "execution_count": 8,
   "metadata": {},
   "outputs": [
    {
     "name": "stdout",
     "output_type": "stream",
     "text": [
      "4001/4001 [==============================] - 2s 385us/step\n",
      "[0.9386514437493608, 0.49562609347663084, 0.24781304673831542, 0.49987503124218946, 0.32876202584028064]\n"
     ]
    }
   ],
   "source": [
    "loss_and_metrics = model.evaluate([x1_test, x2_test], y_test)\n",
    "print(loss_and_metrics)"
   ]
  },
  {
   "cell_type": "code",
   "execution_count": 14,
   "metadata": {},
   "outputs": [
    {
     "data": {
      "text/plain": [
       "['loss', 'acc', 'macro_precision', 'macro_recall', 'macro_f_measure']"
      ]
     },
     "execution_count": 14,
     "metadata": {},
     "output_type": "execute_result"
    }
   ],
   "source": [
    "model.metrics_names"
   ]
  },
  {
   "cell_type": "code",
   "execution_count": 25,
   "metadata": {},
   "outputs": [],
   "source": [
    "#予測\n",
    "classes = model.predict([x1_test, x2_test])\n",
    "#予測結果を保存して与えたデータと結合\n",
    "columns = ['not publish', 'publish']\n",
    "result = pd.DataFrame(classes, columns = columns)\n",
    "test_data = use_data_s[15998:19999]\n",
    "n_test_data = test_data.reset_index()\n",
    "predict_result = n_test_data.join(result)\n",
    "predict_result.drop(['user_id','tweet_id','tweet2', 'cos_day','sin_day', 'image_url', 'tag2', 'user_id2'], axis=1, inplace=True)"
   ]
  },
  {
   "cell_type": "code",
   "execution_count": 34,
   "metadata": {},
   "outputs": [],
   "source": [
    "#予測結果の書き出し\n",
    "predict_result.to_csv(\"result/C/result.csv\",index=False, sep=\",\")"
   ]
  },
  {
   "cell_type": "code",
   "execution_count": 8,
   "metadata": {},
   "outputs": [
    {
     "data": {
      "text/plain": [
       "<Figure size 432x288 with 0 Axes>"
      ]
     },
     "execution_count": 8,
     "metadata": {},
     "output_type": "execute_result"
    },
    {
     "data": {
      "image/png": "[encoded data removed]",
      "text/plain": [
       "<Figure size 432x288 with 1 Axes>"
      ]
     },
     "metadata": {
      "needs_background": "light"
     },
     "output_type": "display_data"
    },
    {
     "data": {
      "image/png": "[encoded data removed]",
      "text/plain": [
       "<Figure size 432x288 with 1 Axes>"
      ]
     },
     "metadata": {
      "needs_background": "light"
     },
     "output_type": "display_data"
    },
    {
     "data": {
      "text/plain": [
       "<Figure size 432x288 with 0 Axes>"
      ]
     },
     "metadata": {},
     "output_type": "display_data"
    }
   ],
   "source": [
    "%matplotlib inline\n",
    "\n",
    "acc = history.history['acc']\n",
    "val_acc = history.history['val_acc']\n",
    "loss = history.history['loss']\n",
    "val_loss = history.history['val_loss']\n",
    "epochs = range(1, len(acc) + 1)\n",
    "\n",
    "plt.plot(epochs, acc, 'b--', label='Training acc')\n",
    "plt.plot(epochs, val_acc, 'b', label='Validation acc')\n",
    "plt.title('Training and validation accuracy')\n",
    "plt.legend()\n",
    "#plt.savefig(\"result/C/test_and_val_acc.png\")\n",
    "\n",
    "plt.figure()\n",
    "\n",
    "plt.plot(epochs, loss, 'b--', label='Training loss')\n",
    "plt.plot(epochs, val_loss, 'b', label='Validation loss')\n",
    "plt.title('Training and validation loss')\n",
    "plt.legend()\n",
    "#plt.savefig(\"result/C/test_and_val_loss.png\")\n",
    "\n",
    "plt.figure()"
   ]
  },
  {
   "cell_type": "code",
   "execution_count": 9,
   "metadata": {
    "lines_to_next_cell": 0
   },
   "outputs": [
    {
     "data": {
      "image/png": "[encoded data removed]",
      "text/plain": [
       "<Figure size 432x288 with 2 Axes>"
      ]
     },
     "metadata": {
      "needs_background": "light"
     },
     "output_type": "display_data"
    }
   ],
   "source": [
    "fig = plt.figure()\n",
    "ax_acc = fig.add_subplot(111)\n",
    "ax_acc.plot(epochs, val_acc, 'b--', label='Validation acc')\n",
    "plt.legend(bbox_to_anchor=(0, 1), loc='upper left', borderaxespad=0.5, fontsize=10)\n",
    "\n",
    "ax_loss = ax_acc.twinx()\n",
    "ax_loss.plot(epochs, val_loss, 'b', label='Validation loss')\n",
    "plt.legend(bbox_to_anchor=(0, 0.9), loc='upper left', borderaxespad=0.5, fontsize=10)\n",
    "plt.title('Validation acc and Validation loss')\n",
    "ax_acc.set_xlabel('epochs')\n",
    "ax_acc.set_ylabel('Validation acc')\n",
    "ax_loss.grid(True)\n",
    "ax_loss.set_ylabel('Validation loss')\n",
    "#plt.savefig(\"result/C/val_acc_loss.png\")\n",
    "plt.show()"
   ]
  },
  {
   "cell_type": "code",
   "execution_count": 14,
   "metadata": {},
   "outputs": [
    {
     "data": {
      "text/plain": [
       "numpy.ndarray"
      ]
     },
     "execution_count": 14,
     "metadata": {},
     "output_type": "execute_result"
    }
   ],
   "source": [
    "model.save('Datas/models/model1_dA.h5')"
   ]
  }
 ],
 "metadata": {
  "jupytext": {
   "encoding": "# -*- coding: utf-8 -*-",
   "text_representation": {
    "extension": ".py",
    "format_name": "light",
    "format_version": "1.5",
    "jupytext_version": "1.3.1"
   }
  },
  "kernelspec": {
   "display_name": "Python 3",
   "language": "python",
   "name": "python3"
  },
  "language_info": {
   "codemirror_mode": {
    "name": "ipython",
    "version": 3
   },
   "file_extension": ".py",
   "mimetype": "text/x-python",
   "name": "python",
   "nbconvert_exporter": "python",
   "pygments_lexer": "ipython3",
   "version": "3.6.7"
  }
 },
 "nbformat": 4,
 "nbformat_minor": 2
}
