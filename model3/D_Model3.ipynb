{
 "cells": [
  {
   "cell_type": "code",
   "execution_count": 1,
   "metadata": {},
   "outputs": [
    {
     "name": "stderr",
     "output_type": "stream",
     "text": [
      "Using TensorFlow backend.\n"
     ]
    }
   ],
   "source": [
    "from keras.layers import Input, Dense, Embedding, LSTM, Dropout, concatenate\n",
    "from keras.models import Model\n",
    "from keras.callbacks import EarlyStopping\n",
    "from keras.utils import plot_model\n",
    "import numpy as np\n",
    "from keras.optimizers import Adam\n",
    "from keras.preprocessing.text import Tokenizer\n",
    "from keras.preprocessing.sequence import pad_sequences\n",
    "from keras.utils.np_utils import to_categorical\n",
    "import keras.backend as K\n",
    "from functools import partial\n",
    "import matplotlib.pyplot as plt\n",
    "import pandas as pd"
   ]
  },
  {
   "cell_type": "code",
   "execution_count": 2,
   "metadata": {},
   "outputs": [],
   "source": [
    "def normalize_y_pred(y_pred):\n",
    "    return K.one_hot(K.argmax(y_pred), y_pred.shape[-1])\n",
    "\n",
    "def class_true_positive(class_label, y_true, y_pred):\n",
    "    y_pred = normalize_y_pred(y_pred)\n",
    "    return K.cast(K.equal(y_true[:, class_label] + y_pred[:, class_label], 2), K.floatx())\n",
    "\n",
    "def class_accuracy(class_label, y_true, y_pred):\n",
    "    y_pred = normalize_y_pred(y_pred)\n",
    "    return K.cast(K.equal(y_true[:, class_label], y_pred[:, class_label]),\n",
    "                  K.floatx())\n",
    "\n",
    "def class_precision(class_label, y_true, y_pred):\n",
    "    y_pred = normalize_y_pred(y_pred)\n",
    "    return K.sum(class_true_positive(class_label, y_true, y_pred)) / (K.sum(y_pred[:, class_label]) + K.epsilon())\n",
    "\n",
    "\n",
    "def class_recall(class_label, y_true, y_pred):\n",
    "    return K.sum(class_true_positive(class_label, y_true, y_pred)) / (K.sum(y_true[:, class_label]) + K.epsilon())\n",
    "\n",
    "\n",
    "def class_f_measure(class_label, y_true, y_pred):\n",
    "    precision = class_precision(class_label, y_true, y_pred)\n",
    "    recall = class_recall(class_label, y_true, y_pred)\n",
    "    return (2 * precision * recall) / (precision + recall + K.epsilon())\n",
    "\n",
    "\n",
    "def true_positive(y_true, y_pred):\n",
    "    y_pred = normalize_y_pred(y_pred)\n",
    "    return K.cast(K.equal(y_true + y_pred, 2),\n",
    "                  K.floatx())\n",
    "\n",
    "\n",
    "def micro_precision(y_true, y_pred):\n",
    "    y_pred = normalize_y_pred(y_pred)\n",
    "    return K.sum(true_positive(y_true, y_pred)) / (K.sum(y_pred) + K.epsilon())\n",
    "\n",
    "\n",
    "def micro_recall(y_true, y_pred):\n",
    "    return K.sum(true_positive(y_true, y_pred)) / (K.sum(y_true) + K.epsilon())\n",
    "\n",
    "\n",
    "def micro_f_measure(y_true, y_pred):\n",
    "    precision = micro_precision(y_true, y_pred)\n",
    "    recall = micro_recall(y_true, y_pred)\n",
    "    return (2 * precision * recall) / (precision + recall + K.epsilon())\n",
    "\n",
    "\n",
    "def average_accuracy(y_true, y_pred):\n",
    "    class_count = y_pred.shape[-1]\n",
    "    class_acc_list = [class_accuracy(i, y_true, y_pred) for i in range(class_count)]\n",
    "    class_acc_matrix = K.concatenate(class_acc_list, axis=0)\n",
    "    return K.mean(class_acc_matrix, axis=0)\n",
    "\n",
    "\n",
    "def macro_precision(y_true, y_pred):\n",
    "    class_count = y_pred.shape[-1]\n",
    "    return K.sum([class_precision(i, y_true, y_pred) for i in range(class_count)]) / K.cast(class_count, K.floatx())\n",
    "\n",
    "\n",
    "def macro_recall(y_true, y_pred):\n",
    "    class_count = y_pred.shape[-1]\n",
    "    return K.sum([class_recall(i, y_true, y_pred) for i in range(class_count)]) / K.cast(class_count, K.floatx())\n",
    "\n",
    "\n",
    "def macro_f_measure(y_true, y_pred):\n",
    "    precision = macro_precision(y_true, y_pred)\n",
    "    recall = macro_recall(y_true, y_pred)\n",
    "    return (2 * precision * recall) / (precision + recall + K.epsilon())\n",
    "\n",
    "def weight_variable(shape):\n",
    "    return K.truncated_normal(shape, stddev = 0.01)"
   ]
  },
  {
   "cell_type": "code",
   "execution_count": 3,
   "metadata": {},
   "outputs": [
    {
     "name": "stdout",
     "output_type": "stream",
     "text": [
      "20000\n",
      "<class 'pandas.core.frame.DataFrame'>\n",
      "RangeIndex: 20000 entries, 0 to 19999\n",
      "Data columns (total 14 columns):\n",
      "screen_name    20000 non-null object\n",
      "user_id        20000 non-null float64\n",
      "tweet_id       20000 non-null float64\n",
      "tweet          20000 non-null object\n",
      "tweet2         20000 non-null object\n",
      "postdate       20000 non-null object\n",
      "cos_day        20000 non-null float64\n",
      "sin_day        20000 non-null float64\n",
      "tag            20000 non-null object\n",
      "image_url      20000 non-null object\n",
      "image          20000 non-null int64\n",
      "retweet        20000 non-null float64\n",
      "tag2           6063 non-null object\n",
      "user_id2       20000 non-null int64\n",
      "dtypes: float64(5), int64(2), object(7)\n",
      "memory usage: 2.1+ MB\n"
     ]
    }
   ],
   "source": [
    "#データの読み込み\n",
    "use_data = pd.read_csv(filepath_or_buffer=\"multi_data.csv\", encoding=\"utf_8\", sep=\",\")\n",
    "print(len(use_data))\n",
    "use_data.info()\n",
    "#NaNデータの0埋め\n",
    "use_data = use_data.fillna('0')"
   ]
  },
  {
   "cell_type": "code",
   "execution_count": 4,
   "metadata": {},
   "outputs": [
    {
     "name": "stdout",
     "output_type": "stream",
     "text": [
      "Found 20620 unique tokens.\n",
      "Shape of data tensor:(20000, 50)\n",
      "Shape of label tensor:(20000, 10)\n",
      "Shape of label tensor:(20000, 2)\n"
     ]
    }
   ],
   "source": [
    "maxlen = 50\n",
    "tag_maxlen = 10\n",
    "train = 0.7\n",
    "validation = 0.1\n",
    "max_words = 20000\n",
    "\n",
    "#データをランダムにシャッフル\n",
    "use_data_s = use_data.sample(frac=1, random_state=150)\n",
    "\n",
    "# word indexを作成\n",
    "tokenizer = Tokenizer(num_words=max_words)\n",
    "tokenizer.fit_on_texts(use_data_s['tweet2'])\n",
    "tokenizer.fit_on_texts(use_data_s['tag2'])\n",
    "sequences = tokenizer.texts_to_sequences(use_data_s['tweet2'])\n",
    "sequences2 = tokenizer.texts_to_sequences(use_data_s['tag2'])\n",
    "\n",
    "word_index = tokenizer.word_index\n",
    "print(\"Found {} unique tokens.\".format(len(word_index)))\n",
    "\n",
    "data = pad_sequences(sequences, maxlen=maxlen)\n",
    "t_data =  pad_sequences(sequences2, maxlen=tag_maxlen)\n",
    "\n",
    "#ラベルをバイナリの行列に変換\n",
    "categorical_labels = to_categorical(use_data_s['retweet'])\n",
    "labels = np.asarray(categorical_labels)\n",
    "\n",
    "print(\"Shape of data tensor:{}\".format(data.shape))\n",
    "print(\"Shape of t_data tensor:{}\".format(t_data.shape))\n",
    "print(\"Shape of label tensor:{}\".format(labels.shape))\n",
    "\n",
    "\n",
    "indices = [int(len(labels) * n) for n in [train, train + validation]]\n",
    "x1_train, x1_val, x1_test = np.split(data, indices)\n",
    "x2_train, x2_val, x2_test = np.split(t_data, indices)\n",
    "y_train, y_val, y_test = np.split(labels, indices)"
   ]
  },
  {
   "cell_type": "code",
   "execution_count": 5,
   "metadata": {},
   "outputs": [
    {
     "name": "stdout",
     "output_type": "stream",
     "text": [
      "__________________________________________________________________________________________________\n",
      "Layer (type)                    Output Shape         Param #     Connected to                     \n",
      "==================================================================================================\n",
      "Input_postText (InputLayer)     (None, 50)           0                                            \n",
      "__________________________________________________________________________________________________\n",
      "Input_tag (InputLayer)          (None, 10)           0                                            \n",
      "__________________________________________________________________________________________________\n",
      "merge1 (Concatenate)            (None, 60)           0           Input_postText[0][0]             \n",
      "                                                                 Input_tag[0][0]                  \n",
      "__________________________________________________________________________________________________\n",
      "Embedding (Embedding)           (None, 60, 60)       1237200     merge1[0][0]                     \n",
      "__________________________________________________________________________________________________\n",
      "dropout_1 (Dropout)             (None, 60, 60)       0           Embedding[0][0]                  \n",
      "__________________________________________________________________________________________________\n",
      "LSTM (LSTM)                     (None, 32)           11904       dropout_1[0][0]                  \n",
      "__________________________________________________________________________________________________\n",
      "dropout_2 (Dropout)             (None, 32)           0           LSTM[0][0]                       \n",
      "__________________________________________________________________________________________________\n",
      "output (Dense)                  (None, 2)            66          dropout_2[0][0]                  \n",
      "==================================================================================================\n",
      "Total params: 1,249,170\n",
      "Trainable params: 1,249,170\n",
      "Non-trainable params: 0\n",
      "__________________________________________________________________________________________________\n"
     ]
    }
   ],
   "source": [
    "p_input = Input(shape=(50, ), dtype='int32', name='Input_postText')\n",
    "t_input = Input(shape=(10, ), dtype='int32', name='Input_tag')\n",
    "\n",
    "x = concatenate([p_input, t_input], name='merge1')\n",
    "em = Embedding(input_dim=20620, output_dim=60, input_length=60, name='Embedding')(x)\n",
    "d_em = Dropout(0.5)(em)\n",
    "lstm_out = LSTM(32, kernel_initializer=weight_variable, name='LSTM')(d_em)\n",
    "d_lstm_out = Dropout(0.5)(lstm_out)\n",
    "output = Dense(2, activation='softmax', name = 'output')(d_lstm_out)\n",
    "\n",
    "model = Model(inputs=[p_input, t_input], outputs = output)\n",
    "optimizer = Adam(lr=1e-4)\n",
    "model.compile(optimizer=optimizer, loss='categorical_crossentropy',  metrics=['acc', macro_precision, macro_recall, macro_f_measure])\n",
    "model.summary()\n",
    "#plot_model(model, show_shapes=True, show_layer_names=True, to_file='model_image/model3.png')\n",
    "\n",
    "early_stopping = EarlyStopping(patience=3, verbose=1)"
   ]
  },
  {
   "cell_type": "code",
   "execution_count": 6,
   "metadata": {},
   "outputs": [
    {
     "name": "stdout",
     "output_type": "stream",
     "text": [
      "Train on 14000 samples, validate on 1999 samples\n",
      "Epoch 1/100\n",
      "14000/14000 [==============================] - 8s 550us/step - loss: 0.6927 - acc: 0.5527 - macro_precision: 0.6124 - macro_recall: 0.5526 - macro_f_measure: 0.5799 - val_loss: 0.6922 - val_acc: 0.5628 - val_macro_precision: 0.6854 - val_macro_recall: 0.5680 - val_macro_f_measure: 0.6209\n",
      "Epoch 2/100\n",
      "14000/14000 [==============================] - 7s 467us/step - loss: 0.6911 - acc: 0.5731 - macro_precision: 0.6693 - macro_recall: 0.5734 - macro_f_measure: 0.6175 - val_loss: 0.6905 - val_acc: 0.5773 - val_macro_precision: 0.6750 - val_macro_recall: 0.5822 - val_macro_f_measure: 0.6251\n",
      "Epoch 3/100\n",
      "14000/14000 [==============================] - 7s 481us/step - loss: 0.6880 - acc: 0.5844 - macro_precision: 0.6735 - macro_recall: 0.5843 - macro_f_measure: 0.6255 - val_loss: 0.6863 - val_acc: 0.5778 - val_macro_precision: 0.6730 - val_macro_recall: 0.5826 - val_macro_f_measure: 0.6245\n",
      "Epoch 4/100\n",
      "14000/14000 [==============================] - 7s 476us/step - loss: 0.6783 - acc: 0.5919 - macro_precision: 0.6794 - macro_recall: 0.5922 - macro_f_measure: 0.6327 - val_loss: 0.6655 - val_acc: 0.5898 - val_macro_precision: 0.6737 - val_macro_recall: 0.5942 - val_macro_f_measure: 0.6313\n",
      "Epoch 5/100\n",
      "14000/14000 [==============================] - 7s 510us/step - loss: 0.6315 - acc: 0.6579 - macro_precision: 0.6828 - macro_recall: 0.6573 - macro_f_measure: 0.6693 - val_loss: 0.6087 - val_acc: 0.6618 - val_macro_precision: 0.6730 - val_macro_recall: 0.6598 - val_macro_f_measure: 0.6664\n",
      "Epoch 6/100\n",
      "14000/14000 [==============================] - 7s 477us/step - loss: 0.5826 - acc: 0.6911 - macro_precision: 0.6992 - macro_recall: 0.6912 - macro_f_measure: 0.6951 - val_loss: 0.5772 - val_acc: 0.6823 - val_macro_precision: 0.6939 - val_macro_recall: 0.6803 - val_macro_f_measure: 0.6870\n",
      "Epoch 7/100\n",
      "14000/14000 [==============================] - 7s 470us/step - loss: 0.5454 - acc: 0.7257 - macro_precision: 0.7333 - macro_recall: 0.7243 - macro_f_measure: 0.7287 - val_loss: 0.5455 - val_acc: 0.7079 - val_macro_precision: 0.7160 - val_macro_recall: 0.7064 - val_macro_f_measure: 0.7112\n",
      "Epoch 8/100\n",
      "14000/14000 [==============================] - 7s 472us/step - loss: 0.5114 - acc: 0.7491 - macro_precision: 0.7558 - macro_recall: 0.7498 - macro_f_measure: 0.7528 - val_loss: 0.5224 - val_acc: 0.7249 - val_macro_precision: 0.7280 - val_macro_recall: 0.7240 - val_macro_f_measure: 0.7260\n",
      "Epoch 9/100\n",
      "14000/14000 [==============================] - 7s 494us/step - loss: 0.4783 - acc: 0.7711 - macro_precision: 0.7747 - macro_recall: 0.7711 - macro_f_measure: 0.7729 - val_loss: 0.5104 - val_acc: 0.7404 - val_macro_precision: 0.7439 - val_macro_recall: 0.7396 - val_macro_f_measure: 0.7417\n",
      "Epoch 10/100\n",
      "14000/14000 [==============================] - 7s 485us/step - loss: 0.4568 - acc: 0.7869 - macro_precision: 0.7899 - macro_recall: 0.7867 - macro_f_measure: 0.7883 - val_loss: 0.5028 - val_acc: 0.7454 - val_macro_precision: 0.7490 - val_macro_recall: 0.7444 - val_macro_f_measure: 0.7467\n",
      "Epoch 11/100\n",
      "14000/14000 [==============================] - 7s 493us/step - loss: 0.4398 - acc: 0.7992 - macro_precision: 0.8013 - macro_recall: 0.7994 - macro_f_measure: 0.8003 - val_loss: 0.4978 - val_acc: 0.7464 - val_macro_precision: 0.7485 - val_macro_recall: 0.7456 - val_macro_f_measure: 0.7470\n",
      "Epoch 12/100\n",
      "14000/14000 [==============================] - 7s 491us/step - loss: 0.4231 - acc: 0.8109 - macro_precision: 0.8133 - macro_recall: 0.8110 - macro_f_measure: 0.8121 - val_loss: 0.4999 - val_acc: 0.7454 - val_macro_precision: 0.7460 - val_macro_recall: 0.7452 - val_macro_f_measure: 0.7456\n",
      "Epoch 13/100\n",
      "14000/14000 [==============================] - 7s 495us/step - loss: 0.4098 - acc: 0.8171 - macro_precision: 0.8194 - macro_recall: 0.8171 - macro_f_measure: 0.8182 - val_loss: 0.4931 - val_acc: 0.7524 - val_macro_precision: 0.7539 - val_macro_recall: 0.7518 - val_macro_f_measure: 0.7529\n",
      "Epoch 14/100\n",
      "14000/14000 [==============================] - 7s 489us/step - loss: 0.3972 - acc: 0.8236 - macro_precision: 0.8257 - macro_recall: 0.8235 - macro_f_measure: 0.8246 - val_loss: 0.4928 - val_acc: 0.7494 - val_macro_precision: 0.7500 - val_macro_recall: 0.7491 - val_macro_f_measure: 0.7495\n",
      "Epoch 15/100\n",
      "14000/14000 [==============================] - 7s 483us/step - loss: 0.3857 - acc: 0.8337 - macro_precision: 0.8349 - macro_recall: 0.8334 - macro_f_measure: 0.8342 - val_loss: 0.4920 - val_acc: 0.7539 - val_macro_precision: 0.7544 - val_macro_recall: 0.7535 - val_macro_f_measure: 0.7539\n",
      "Epoch 16/100\n",
      "14000/14000 [==============================] - 7s 483us/step - loss: 0.3766 - acc: 0.8380 - macro_precision: 0.8395 - macro_recall: 0.8378 - macro_f_measure: 0.8386 - val_loss: 0.4908 - val_acc: 0.7564 - val_macro_precision: 0.7568 - val_macro_recall: 0.7561 - val_macro_f_measure: 0.7564\n",
      "Epoch 17/100\n",
      "14000/14000 [==============================] - 7s 497us/step - loss: 0.3632 - acc: 0.8434 - macro_precision: 0.8456 - macro_recall: 0.8431 - macro_f_measure: 0.8443 - val_loss: 0.4987 - val_acc: 0.7534 - val_macro_precision: 0.7539 - val_macro_recall: 0.7534 - val_macro_f_measure: 0.7537\n",
      "Epoch 18/100\n",
      "14000/14000 [==============================] - 7s 498us/step - loss: 0.3508 - acc: 0.8514 - macro_precision: 0.8535 - macro_recall: 0.8517 - macro_f_measure: 0.8526 - val_loss: 0.4950 - val_acc: 0.7674 - val_macro_precision: 0.7685 - val_macro_recall: 0.7669 - val_macro_f_measure: 0.7677\n",
      "Epoch 19/100\n",
      "14000/14000 [==============================] - 7s 486us/step - loss: 0.3439 - acc: 0.8540 - macro_precision: 0.8554 - macro_recall: 0.8541 - macro_f_measure: 0.8547 - val_loss: 0.4938 - val_acc: 0.7634 - val_macro_precision: 0.7663 - val_macro_recall: 0.7627 - val_macro_f_measure: 0.7645\n",
      "Epoch 00019: early stopping\n"
     ]
    }
   ],
   "source": [
    "history = model.fit([x1_train, x2_train], y_train,\n",
    "                    epochs=100, \n",
    "                    batch_size=256,\n",
    "                    validation_data=([x1_val, x2_val], y_val),\n",
    "                    callbacks=[early_stopping])"
   ]
  },
  {
   "cell_type": "code",
   "execution_count": 7,
   "metadata": {},
   "outputs": [
    {
     "name": "stdout",
     "output_type": "stream",
     "text": [
      "4001/4001 [==============================] - 1s 328us/step\n",
      "[0.4664989499534324, 0.7808047988003, 0.7818616544178384, 0.7812528693506164, 0.7814219683535365]\n"
     ]
    }
   ],
   "source": [
    "loss_and_metrics = model.evaluate([x1_test, x2_test], y_test)\n",
    "print(loss_and_metrics)"
   ]
  },
  {
   "cell_type": "code",
   "execution_count": 14,
   "metadata": {},
   "outputs": [
    {
     "data": {
      "text/plain": [
       "['loss', 'acc', 'macro_precision', 'macro_recall', 'macro_f_measure']"
      ]
     },
     "execution_count": 14,
     "metadata": {},
     "output_type": "execute_result"
    }
   ],
   "source": [
    "model.metrics_names"
   ]
  },
  {
   "cell_type": "code",
   "execution_count": 13,
   "metadata": {},
   "outputs": [],
   "source": [
    "#予測\n",
    "classes = model.predict([x1_test, x2_test])\n",
    "#予測結果を保存して与えたデータと結合\n",
    "columns = ['not publish', 'publish']\n",
    "result = pd.DataFrame(classes, columns = columns)\n",
    "test_data = use_data_s[15998:19999]\n",
    "n_test_data = test_data.reset_index()\n",
    "predict_result = n_test_data.join(result)\n",
    "predict_result.drop(['user_id','tweet_id','tweet2', 'cos_day','sin_day', 'image_url', 'tag2', 'user_id2'], axis=1, inplace=True)"
   ]
  },
  {
   "cell_type": "code",
   "execution_count": null,
   "metadata": {},
   "outputs": [],
   "source": [
    "#予測結果の書き出し\n",
    "predict_result.to_csv(\"result/D/result.csv\",index=False, sep=\",\")"
   ]
  },
  {
   "cell_type": "code",
   "execution_count": 8,
   "metadata": {},
   "outputs": [
    {
     "data": {
      "text/plain": [
       "<Figure size 432x288 with 0 Axes>"
      ]
     },
     "execution_count": 8,
     "metadata": {},
     "output_type": "execute_result"
    },
    {
     "data": {
      "image/png": "[encoded data removed]",
      "text/plain": [
       "<Figure size 432x288 with 1 Axes>"
      ]
     },
     "metadata": {
      "needs_background": "light"
     },
     "output_type": "display_data"
    },
    {
     "data": {
      "image/png": "[encoded data removed]",
      "text/plain": [
       "<Figure size 432x288 with 1 Axes>"
      ]
     },
     "metadata": {
      "needs_background": "light"
     },
     "output_type": "display_data"
    },
    {
     "data": {
      "text/plain": [
       "<Figure size 432x288 with 0 Axes>"
      ]
     },
     "metadata": {},
     "output_type": "display_data"
    }
   ],
   "source": [
    "%matplotlib inline\n",
    "\n",
    "acc = history.history['acc']\n",
    "val_acc = history.history['val_acc']\n",
    "loss = history.history['loss']\n",
    "val_loss = history.history['val_loss']\n",
    "epochs = range(1, len(acc) + 1)\n",
    "\n",
    "plt.plot(epochs, acc, 'b--', label='Training acc')\n",
    "plt.plot(epochs, val_acc, 'b', label='Validation acc')\n",
    "plt.title('Training and validation accuracy')\n",
    "plt.legend()\n",
    "#plt.savefig(\"result/D/test_and_val_acc.png\")\n",
    "\n",
    "plt.figure()\n",
    "\n",
    "plt.plot(epochs, loss, 'b--', label='Training loss')\n",
    "plt.plot(epochs, val_loss, 'b', label='Validation loss')\n",
    "plt.title('Training and validation loss')\n",
    "plt.legend()\n",
    "#plt.savefig(\"result/D/test_and_val_loss.png\")\n",
    "\n",
    "plt.figure()"
   ]
  },
  {
   "cell_type": "code",
   "execution_count": 9,
   "metadata": {},
   "outputs": [
    {
     "data": {
      "image/png": "[encoded data removed]",
      "text/plain": [
       "<Figure size 432x288 with 2 Axes>"
      ]
     },
     "metadata": {
      "needs_background": "light"
     },
     "output_type": "display_data"
    }
   ],
   "source": [
    "fig = plt.figure()\n",
    "ax_acc = fig.add_subplot(111)\n",
    "ax_acc.plot(epochs, val_acc, 'b--', label='Validation acc')\n",
    "plt.legend(bbox_to_anchor=(0, 1), loc='upper left', borderaxespad=0.5, fontsize=10)\n",
    "\n",
    "ax_loss = ax_acc.twinx()\n",
    "ax_loss.plot(epochs, val_loss, 'b', label='Validation loss')\n",
    "plt.legend(bbox_to_anchor=(0, 0.9), loc='upper left', borderaxespad=0.5, fontsize=10)\n",
    "plt.title('Validation acc and Validation loss')\n",
    "ax_acc.set_xlabel('epochs')\n",
    "ax_acc.set_ylabel('Validation acc')\n",
    "ax_loss.grid(True)\n",
    "ax_loss.set_ylabel('Validation loss')\n",
    "#plt.savefig(\"result/D/val_acc_loss.png\")\n",
    "plt.show()"
   ]
  },
  {
   "cell_type": "code",
   "execution_count": null,
   "metadata": {},
   "outputs": [],
   "source": [
    "model.save('Datas/models/model1_dA.h5')"
   ]
  }
 ],
 "metadata": {
  "jupytext": {
   "encoding": "# -*- coding: utf-8 -*-",
   "text_representation": {
    "extension": ".py",
    "format_name": "light",
    "format_version": "1.5",
    "jupytext_version": "1.3.1"
   }
  },
  "kernelspec": {
   "display_name": "Python 3",
   "language": "python",
   "name": "python3"
  },
  "language_info": {
   "codemirror_mode": {
    "name": "ipython",
    "version": 3
   },
   "file_extension": ".py",
   "mimetype": "text/x-python",
   "name": "python",
   "nbconvert_exporter": "python",
   "pygments_lexer": "ipython3",
   "version": "3.6.7"
  }
 },
 "nbformat": 4,
 "nbformat_minor": 2
}
