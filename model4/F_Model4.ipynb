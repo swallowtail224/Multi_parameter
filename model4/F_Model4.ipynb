{
 "cells": [
  {
   "cell_type": "code",
   "execution_count": 1,
   "metadata": {},
   "outputs": [
    {
     "name": "stderr",
     "output_type": "stream",
     "text": [
      "Using TensorFlow backend.\n"
     ]
    }
   ],
   "source": [
    "from keras.layers import Input, Dense, Embedding, LSTM, Dropout, concatenate\n",
    "from keras.models import Model\n",
    "from keras.callbacks import EarlyStopping\n",
    "from keras.utils import plot_model\n",
    "import numpy as np\n",
    "from keras.optimizers import Adam\n",
    "from keras.preprocessing.text import Tokenizer\n",
    "from keras.preprocessing.sequence import pad_sequences\n",
    "from keras.utils.np_utils import to_categorical\n",
    "import keras.backend as K\n",
    "from functools import partial\n",
    "import matplotlib.pyplot as plt\n",
    "import pandas as pd"
   ]
  },
  {
   "cell_type": "code",
   "execution_count": 2,
   "metadata": {},
   "outputs": [],
   "source": [
    "def normalize_y_pred(y_pred):\n",
    "    return K.one_hot(K.argmax(y_pred), y_pred.shape[-1])\n",
    "\n",
    "def class_true_positive(class_label, y_true, y_pred):\n",
    "    y_pred = normalize_y_pred(y_pred)\n",
    "    return K.cast(K.equal(y_true[:, class_label] + y_pred[:, class_label], 2), K.floatx())\n",
    "\n",
    "def class_accuracy(class_label, y_true, y_pred):\n",
    "    y_pred = normalize_y_pred(y_pred)\n",
    "    return K.cast(K.equal(y_true[:, class_label], y_pred[:, class_label]),\n",
    "                  K.floatx())\n",
    "\n",
    "def class_precision(class_label, y_true, y_pred):\n",
    "    y_pred = normalize_y_pred(y_pred)\n",
    "    return K.sum(class_true_positive(class_label, y_true, y_pred)) / (K.sum(y_pred[:, class_label]) + K.epsilon())\n",
    "\n",
    "\n",
    "def class_recall(class_label, y_true, y_pred):\n",
    "    return K.sum(class_true_positive(class_label, y_true, y_pred)) / (K.sum(y_true[:, class_label]) + K.epsilon())\n",
    "\n",
    "\n",
    "def class_f_measure(class_label, y_true, y_pred):\n",
    "    precision = class_precision(class_label, y_true, y_pred)\n",
    "    recall = class_recall(class_label, y_true, y_pred)\n",
    "    return (2 * precision * recall) / (precision + recall + K.epsilon())\n",
    "\n",
    "\n",
    "def true_positive(y_true, y_pred):\n",
    "    y_pred = normalize_y_pred(y_pred)\n",
    "    return K.cast(K.equal(y_true + y_pred, 2),\n",
    "                  K.floatx())\n",
    "\n",
    "\n",
    "def micro_precision(y_true, y_pred):\n",
    "    y_pred = normalize_y_pred(y_pred)\n",
    "    return K.sum(true_positive(y_true, y_pred)) / (K.sum(y_pred) + K.epsilon())\n",
    "\n",
    "\n",
    "def micro_recall(y_true, y_pred):\n",
    "    return K.sum(true_positive(y_true, y_pred)) / (K.sum(y_true) + K.epsilon())\n",
    "\n",
    "\n",
    "def micro_f_measure(y_true, y_pred):\n",
    "    precision = micro_precision(y_true, y_pred)\n",
    "    recall = micro_recall(y_true, y_pred)\n",
    "    return (2 * precision * recall) / (precision + recall + K.epsilon())\n",
    "\n",
    "\n",
    "def average_accuracy(y_true, y_pred):\n",
    "    class_count = y_pred.shape[-1]\n",
    "    class_acc_list = [class_accuracy(i, y_true, y_pred) for i in range(class_count)]\n",
    "    class_acc_matrix = K.concatenate(class_acc_list, axis=0)\n",
    "    return K.mean(class_acc_matrix, axis=0)\n",
    "\n",
    "\n",
    "def macro_precision(y_true, y_pred):\n",
    "    class_count = y_pred.shape[-1]\n",
    "    return K.sum([class_precision(i, y_true, y_pred) for i in range(class_count)]) / K.cast(class_count, K.floatx())\n",
    "\n",
    "\n",
    "def macro_recall(y_true, y_pred):\n",
    "    class_count = y_pred.shape[-1]\n",
    "    return K.sum([class_recall(i, y_true, y_pred) for i in range(class_count)]) / K.cast(class_count, K.floatx())\n",
    "\n",
    "\n",
    "def macro_f_measure(y_true, y_pred):\n",
    "    precision = macro_precision(y_true, y_pred)\n",
    "    recall = macro_recall(y_true, y_pred)\n",
    "    return (2 * precision * recall) / (precision + recall + K.epsilon())\n",
    "\n",
    "def weight_variable(shape):\n",
    "    return K.truncated_normal(shape, stddev = 0.01)"
   ]
  },
  {
   "cell_type": "code",
   "execution_count": 3,
   "metadata": {},
   "outputs": [
    {
     "name": "stdout",
     "output_type": "stream",
     "text": [
      "20000\n",
      "<class 'pandas.core.frame.DataFrame'>\n",
      "RangeIndex: 20000 entries, 0 to 19999\n",
      "Data columns (total 14 columns):\n",
      "screen_name    20000 non-null object\n",
      "user_id        20000 non-null float64\n",
      "tweet_id       20000 non-null float64\n",
      "tweet          20000 non-null object\n",
      "tweet2         20000 non-null object\n",
      "postdate       20000 non-null object\n",
      "cos_day        20000 non-null float64\n",
      "sin_day        20000 non-null float64\n",
      "tag            20000 non-null object\n",
      "image_url      20000 non-null object\n",
      "image          20000 non-null int64\n",
      "retweet        20000 non-null float64\n",
      "tag2           6063 non-null object\n",
      "user_id2       20000 non-null int64\n",
      "dtypes: float64(5), int64(2), object(7)\n",
      "memory usage: 2.1+ MB\n"
     ]
    }
   ],
   "source": [
    "#データの読み込み\n",
    "use_data = pd.read_csv(filepath_or_buffer=\"multi_data.csv\", encoding=\"utf_8\", sep=\",\")\n",
    "print(len(use_data))\n",
    "use_data.info()\n",
    "#NaNデータの0埋め\n",
    "use_data = use_data.fillna('0')"
   ]
  },
  {
   "cell_type": "code",
   "execution_count": 4,
   "metadata": {},
   "outputs": [
    {
     "name": "stdout",
     "output_type": "stream",
     "text": [
      "Found 20281 unique tokens.\n",
      "Shape of data tensor:(20000, 50)\n",
      "Shape of post_user tensor:(20000,)\n",
      "Shape of imgl tensor:(20000,)\n",
      "Shape of label tensor:(20000, 2)\n"
     ]
    }
   ],
   "source": [
    "maxlen = 50\n",
    "tag_maxlen = 10\n",
    "train = 0.7\n",
    "validation = 0.1\n",
    "max_words = 20000\n",
    "\n",
    "#データをランダムにシャッフル\n",
    "use_data_s = use_data.sample(frac=1, random_state=150)\n",
    "\n",
    "# word indexを作成\n",
    "tokenizer = Tokenizer(num_words=max_words)\n",
    "tokenizer.fit_on_texts(use_data_s['tweet2'])\n",
    "sequences = tokenizer.texts_to_sequences(use_data_s['tweet2'])\n",
    "\n",
    "word_index = tokenizer.word_index\n",
    "print(\"Found {} unique tokens.\".format(len(word_index)))\n",
    "\n",
    "data = pad_sequences(sequences, maxlen=maxlen)\n",
    "\n",
    "#user_idをnp行列に変換\n",
    "post_user = np.array(use_data['user_id2'])\n",
    "#imageをnp行列に変換\n",
    "img = np.array(use_data['image'])\n",
    "\n",
    "#ラベルをバイナリの行列に変換\n",
    "categorical_labels = to_categorical(use_data_s['retweet'])\n",
    "labels = np.asarray(categorical_labels)\n",
    "\n",
    "print(\"Shape of data tensor:{}\".format(data.shape))\n",
    "print(\"Shape of post_user tensor:{}\".format(post_user.shape))\n",
    "print(\"Shape of imgl tensor:{}\".format(img.shape))\n",
    "print(\"Shape of label tensor:{}\".format(labels.shape))\n",
    "\n",
    "\n",
    "indices = [int(len(labels) * n) for n in [train, train + validation]]\n",
    "x1_train, x1_val, x1_test = np.split(data, indices)\n",
    "x2_train, x2_val, x2_test = np.split(post_user, indices)\n",
    "x3_train, x3_val, x3_test = np.split(img, indices)\n",
    "y_train, y_val, y_test = np.split(labels, indices)"
   ]
  },
  {
   "cell_type": "code",
   "execution_count": 5,
   "metadata": {},
   "outputs": [
    {
     "name": "stdout",
     "output_type": "stream",
     "text": [
      "__________________________________________________________________________________________________\n",
      "Layer (type)                    Output Shape         Param #     Connected to                     \n",
      "==================================================================================================\n",
      "Input_postText (InputLayer)     (None, 50)           0                                            \n",
      "__________________________________________________________________________________________________\n",
      "Embedding (Embedding)           (None, 50, 50)       1000000     Input_postText[0][0]             \n",
      "__________________________________________________________________________________________________\n",
      "dropout_1 (Dropout)             (None, 50, 50)       0           Embedding[0][0]                  \n",
      "__________________________________________________________________________________________________\n",
      "Input_other1 (InputLayer)       (None, 1)            0                                            \n",
      "__________________________________________________________________________________________________\n",
      "Input_other2 (InputLayer)       (None, 1)            0                                            \n",
      "__________________________________________________________________________________________________\n",
      "LSTM (LSTM)                     (None, 32)           10624       dropout_1[0][0]                  \n",
      "__________________________________________________________________________________________________\n",
      "dence1 (Dense)                  (None, 16)           32          Input_other1[0][0]               \n",
      "__________________________________________________________________________________________________\n",
      "dence2 (Dense)                  (None, 16)           32          Input_other2[0][0]               \n",
      "__________________________________________________________________________________________________\n",
      "dropout_2 (Dropout)             (None, 32)           0           LSTM[0][0]                       \n",
      "__________________________________________________________________________________________________\n",
      "dropout_3 (Dropout)             (None, 16)           0           dence1[0][0]                     \n",
      "__________________________________________________________________________________________________\n",
      "dropout_4 (Dropout)             (None, 16)           0           dence2[0][0]                     \n",
      "__________________________________________________________________________________________________\n",
      "merge1 (Concatenate)            (None, 64)           0           dropout_2[0][0]                  \n",
      "                                                                 dropout_3[0][0]                  \n",
      "                                                                 dropout_4[0][0]                  \n",
      "__________________________________________________________________________________________________\n",
      "dence (Dense)                   (None, 16)           1040        merge1[0][0]                     \n",
      "__________________________________________________________________________________________________\n",
      "dropout_5 (Dropout)             (None, 16)           0           dence[0][0]                      \n",
      "__________________________________________________________________________________________________\n",
      "output (Dense)                  (None, 2)            34          dropout_5[0][0]                  \n",
      "==================================================================================================\n",
      "Total params: 1,011,762\n",
      "Trainable params: 1,011,762\n",
      "Non-trainable params: 0\n",
      "__________________________________________________________________________________________________\n"
     ]
    }
   ],
   "source": [
    "p_input = Input(shape=(50, ), dtype='int32', name='Input_postText')\n",
    "o1_input = Input(shape=(1, ), name='Input_other1')\n",
    "o2_input = Input(shape=(1,), name='Input_other2')\n",
    "\n",
    "#テキストの学習\n",
    "em = Embedding(input_dim=20000, output_dim=50, input_length=50, name='Embedding')(p_input)\n",
    "d_em = Dropout(0.5)(em)\n",
    "lstm_out = LSTM(32, kernel_initializer=weight_variable, name='LSTM')(d_em)\n",
    "d_lstm_out = Dropout(0.5)(lstm_out)\n",
    "#2つ目の入力\n",
    "i2 = Dense(16, activation='elu', name = 'dence1')(o1_input)\n",
    "d_i2 = Dropout(0.5)(i2)\n",
    "#3つ目の入力\n",
    "i3 = Dense(16, activation='elu', name = 'dence2')(o2_input)\n",
    "d_i3 = Dropout(0.5)(i3)\n",
    "\n",
    "x = concatenate([d_lstm_out, d_i2, d_i3], name='merge1')\n",
    "\n",
    "m2 = Dense(16, activation='elu', name = 'dence')(x)\n",
    "d_m2 = Dropout(0.5)(m2)\n",
    "output = Dense(2, activation='softmax', name = 'output')(d_m2)\n",
    "\n",
    "model = Model(inputs=[p_input, o1_input, o2_input], outputs = output)\n",
    "optimizer = Adam(lr=1e-4)\n",
    "model.compile(optimizer=optimizer, loss='categorical_crossentropy',  metrics=['acc', macro_precision, macro_recall, macro_f_measure])\n",
    "model.summary()\n",
    "#plot_model(model, show_shapes=True, show_layer_names=True, to_file='model_image/model4.png')\n",
    "\n",
    "\n",
    "early_stopping = EarlyStopping(patience=0, verbose=1)"
   ]
  },
  {
   "cell_type": "code",
   "execution_count": 6,
   "metadata": {},
   "outputs": [
    {
     "name": "stdout",
     "output_type": "stream",
     "text": [
      "Train on 14000 samples, validate on 1999 samples\n",
      "Epoch 1/100\n",
      "14000/14000 [==============================] - 7s 476us/step - loss: 2.2070 - acc: 0.5029 - macro_precision: 0.5028 - macro_recall: 0.5027 - macro_f_measure: 0.5027 - val_loss: 1.1520 - val_acc: 0.4857 - val_macro_precision: 0.4848 - val_macro_recall: 0.4892 - val_macro_f_measure: 0.4870\n",
      "Epoch 2/100\n",
      "14000/14000 [==============================] - 5s 384us/step - loss: 2.0681 - acc: 0.4994 - macro_precision: 0.4997 - macro_recall: 0.4996 - macro_f_measure: 0.4997 - val_loss: 0.9809 - val_acc: 0.4862 - val_macro_precision: 0.4858 - val_macro_recall: 0.4897 - val_macro_f_measure: 0.4877\n",
      "Epoch 3/100\n",
      "14000/14000 [==============================] - 6s 398us/step - loss: 1.9212 - acc: 0.5039 - macro_precision: 0.5039 - macro_recall: 0.5039 - macro_f_measure: 0.5039 - val_loss: 0.8876 - val_acc: 0.4862 - val_macro_precision: 0.4859 - val_macro_recall: 0.4897 - val_macro_f_measure: 0.4878\n",
      "Epoch 4/100\n",
      "14000/14000 [==============================] - 6s 446us/step - loss: 1.7964 - acc: 0.5024 - macro_precision: 0.5021 - macro_recall: 0.5019 - macro_f_measure: 0.5020 - val_loss: 0.8079 - val_acc: 0.4967 - val_macro_precision: 0.4990 - val_macro_recall: 0.4991 - val_macro_f_measure: 0.4991\n",
      "Epoch 5/100\n",
      "14000/14000 [==============================] - 5s 379us/step - loss: 1.5975 - acc: 0.4954 - macro_precision: 0.4955 - macro_recall: 0.4957 - macro_f_measure: 0.4956 - val_loss: 0.7633 - val_acc: 0.4927 - val_macro_precision: 0.4950 - val_macro_recall: 0.4955 - val_macro_f_measure: 0.4952\n",
      "Epoch 6/100\n",
      "14000/14000 [==============================] - 5s 385us/step - loss: 1.4787 - acc: 0.5031 - macro_precision: 0.5029 - macro_recall: 0.5029 - macro_f_measure: 0.5029 - val_loss: 0.7339 - val_acc: 0.4987 - val_macro_precision: 0.5005 - val_macro_recall: 0.5009 - val_macro_f_measure: 0.5007\n",
      "Epoch 7/100\n",
      "14000/14000 [==============================] - 5s 385us/step - loss: 1.4043 - acc: 0.5140 - macro_precision: 0.5142 - macro_recall: 0.5141 - macro_f_measure: 0.5141 - val_loss: 0.7114 - val_acc: 0.5073 - val_macro_precision: 0.5089 - val_macro_recall: 0.5091 - val_macro_f_measure: 0.5090\n",
      "Epoch 8/100\n",
      "14000/14000 [==============================] - 5s 385us/step - loss: 1.3589 - acc: 0.5036 - macro_precision: 0.5036 - macro_recall: 0.5036 - macro_f_measure: 0.5036 - val_loss: 0.6992 - val_acc: 0.5183 - val_macro_precision: 0.5201 - val_macro_recall: 0.5198 - val_macro_f_measure: 0.5199\n",
      "Epoch 9/100\n",
      "14000/14000 [==============================] - 5s 390us/step - loss: 1.2819 - acc: 0.5118 - macro_precision: 0.5116 - macro_recall: 0.5116 - macro_f_measure: 0.5116 - val_loss: 0.6853 - val_acc: 0.5388 - val_macro_precision: 0.5395 - val_macro_recall: 0.5392 - val_macro_f_measure: 0.5393\n",
      "Epoch 10/100\n",
      "14000/14000 [==============================] - 5s 386us/step - loss: 1.2341 - acc: 0.5177 - macro_precision: 0.5177 - macro_recall: 0.5176 - macro_f_measure: 0.5176 - val_loss: 0.6694 - val_acc: 0.5918 - val_macro_precision: 0.6705 - val_macro_recall: 0.5876 - val_macro_f_measure: 0.6262\n",
      "Epoch 11/100\n",
      "14000/14000 [==============================] - 5s 389us/step - loss: 1.1695 - acc: 0.5296 - macro_precision: 0.5297 - macro_recall: 0.5295 - macro_f_measure: 0.5296 - val_loss: 0.6282 - val_acc: 0.6628 - val_macro_precision: 0.6866 - val_macro_recall: 0.6605 - val_macro_f_measure: 0.6733\n",
      "Epoch 12/100\n",
      "14000/14000 [==============================] - 6s 411us/step - loss: 1.0819 - acc: 0.5500 - macro_precision: 0.5501 - macro_recall: 0.5499 - macro_f_measure: 0.5500 - val_loss: 0.5870 - val_acc: 0.6883 - val_macro_precision: 0.6886 - val_macro_recall: 0.6882 - val_macro_f_measure: 0.6884\n",
      "Epoch 13/100\n",
      "14000/14000 [==============================] - 6s 398us/step - loss: 1.0191 - acc: 0.5792 - macro_precision: 0.5795 - macro_recall: 0.5790 - macro_f_measure: 0.5793 - val_loss: 0.5684 - val_acc: 0.7129 - val_macro_precision: 0.7317 - val_macro_recall: 0.7114 - val_macro_f_measure: 0.7214\n",
      "Epoch 14/100\n",
      "14000/14000 [==============================] - 5s 393us/step - loss: 0.9518 - acc: 0.5956 - macro_precision: 0.5967 - macro_recall: 0.5962 - macro_f_measure: 0.5965 - val_loss: 0.5527 - val_acc: 0.7219 - val_macro_precision: 0.7228 - val_macro_recall: 0.7214 - val_macro_f_measure: 0.7221\n",
      "Epoch 15/100\n",
      "14000/14000 [==============================] - 5s 390us/step - loss: 0.9082 - acc: 0.6131 - macro_precision: 0.6133 - macro_recall: 0.6129 - macro_f_measure: 0.6131 - val_loss: 0.5415 - val_acc: 0.7264 - val_macro_precision: 0.7293 - val_macro_recall: 0.7258 - val_macro_f_measure: 0.7275\n",
      "Epoch 16/100\n",
      "14000/14000 [==============================] - 5s 391us/step - loss: 0.8892 - acc: 0.6229 - macro_precision: 0.6235 - macro_recall: 0.6229 - macro_f_measure: 0.6232 - val_loss: 0.5377 - val_acc: 0.7299 - val_macro_precision: 0.7435 - val_macro_recall: 0.7286 - val_macro_f_measure: 0.7360\n",
      "Epoch 17/100\n",
      "14000/14000 [==============================] - 6s 395us/step - loss: 0.8253 - acc: 0.6451 - macro_precision: 0.6459 - macro_recall: 0.6452 - macro_f_measure: 0.6456 - val_loss: 0.5365 - val_acc: 0.7284 - val_macro_precision: 0.7559 - val_macro_recall: 0.7267 - val_macro_f_measure: 0.7410\n",
      "Epoch 18/100\n",
      "14000/14000 [==============================] - 6s 394us/step - loss: 0.8055 - acc: 0.6529 - macro_precision: 0.6533 - macro_recall: 0.6529 - macro_f_measure: 0.6531 - val_loss: 0.5330 - val_acc: 0.7274 - val_macro_precision: 0.7541 - val_macro_recall: 0.7257 - val_macro_f_measure: 0.7396\n",
      "Epoch 19/100\n",
      "14000/14000 [==============================] - 5s 393us/step - loss: 0.7524 - acc: 0.6688 - macro_precision: 0.6693 - macro_recall: 0.6689 - macro_f_measure: 0.6691 - val_loss: 0.5203 - val_acc: 0.7439 - val_macro_precision: 0.7468 - val_macro_recall: 0.7433 - val_macro_f_measure: 0.7450\n",
      "Epoch 20/100\n",
      "14000/14000 [==============================] - 6s 411us/step - loss: 0.7321 - acc: 0.6829 - macro_precision: 0.6832 - macro_recall: 0.6830 - macro_f_measure: 0.6831 - val_loss: 0.5294 - val_acc: 0.7284 - val_macro_precision: 0.7572 - val_macro_recall: 0.7265 - val_macro_f_measure: 0.7415\n",
      "Epoch 00020: early stopping\n"
     ]
    }
   ],
   "source": [
    "history = model.fit([x1_train, x2_train, x3_train], y_train,\n",
    "                    epochs=100, \n",
    "                    batch_size=256,\n",
    "                    validation_data=([x1_val, x2_val, x3_val], y_val),\n",
    "                    callbacks=[early_stopping])"
   ]
  },
  {
   "cell_type": "code",
   "execution_count": 7,
   "metadata": {},
   "outputs": [
    {
     "name": "stdout",
     "output_type": "stream",
     "text": [
      "4001/4001 [==============================] - 1s 272us/step\n",
      "[0.5152367437679681, 0.7435641089727568, 0.7689870001375303, 0.7432374656125922, 0.7553983167003793]\n"
     ]
    }
   ],
   "source": [
    "loss_and_metrics = model.evaluate([x1_test, x2_test, x3_test], y_test)\n",
    "print(loss_and_metrics)"
   ]
  },
  {
   "cell_type": "code",
   "execution_count": 14,
   "metadata": {},
   "outputs": [
    {
     "data": {
      "text/plain": [
       "['loss', 'acc', 'macro_precision', 'macro_recall', 'macro_f_measure']"
      ]
     },
     "execution_count": 14,
     "metadata": {},
     "output_type": "execute_result"
    }
   ],
   "source": [
    "model.metrics_names"
   ]
  },
  {
   "cell_type": "code",
   "execution_count": 13,
   "metadata": {},
   "outputs": [],
   "source": [
    "classes = model.predict([x1_test, x2_test, x3_test])\n",
    "#予測結果を保存して与えたデータと結合\n",
    "columns = ['not publish', 'publish']\n",
    "result = pd.DataFrame(classes, columns = columns)\n",
    "test_data = use_data_s[15998:19999]\n",
    "n_test_data = test_data.reset_index()\n",
    "predict_result = n_test_data.join(result)\n",
    "predict_result.drop(['user_id','tweet_id','tweet2', 'cos_day','sin_day', 'image_url', 'tag2', 'user_id2'], axis=1, inplace=True)"
   ]
  },
  {
   "cell_type": "code",
   "execution_count": null,
   "metadata": {},
   "outputs": [],
   "source": [
    "#予測結果の書き出し\n",
    "predict_result.to_csv(\"result/F/result.csv\",index=False, sep=\",\")"
   ]
  },
  {
   "cell_type": "code",
   "execution_count": 8,
   "metadata": {},
   "outputs": [
    {
     "data": {
      "text/plain": [
       "<Figure size 432x288 with 0 Axes>"
      ]
     },
     "execution_count": 8,
     "metadata": {},
     "output_type": "execute_result"
    },
    {
     "data": {
      "image/png": "[encoded data removed]",
      "text/plain": [
       "<Figure size 432x288 with 1 Axes>"
      ]
     },
     "metadata": {
      "needs_background": "light"
     },
     "output_type": "display_data"
    },
    {
     "data": {
      "image/png": "[encoded data removed]",
      "text/plain": [
       "<Figure size 432x288 with 1 Axes>"
      ]
     },
     "metadata": {
      "needs_background": "light"
     },
     "output_type": "display_data"
    },
    {
     "data": {
      "text/plain": [
       "<Figure size 432x288 with 0 Axes>"
      ]
     },
     "metadata": {},
     "output_type": "display_data"
    }
   ],
   "source": [
    "%matplotlib inline\n",
    "\n",
    "acc = history.history['acc']\n",
    "val_acc = history.history['val_acc']\n",
    "loss = history.history['loss']\n",
    "val_loss = history.history['val_loss']\n",
    "epochs = range(1, len(acc) + 1)\n",
    "\n",
    "plt.plot(epochs, acc, 'b--', label='Training acc')\n",
    "plt.plot(epochs, val_acc, 'b', label='Validation acc')\n",
    "plt.title('Training and validation accuracy')\n",
    "plt.legend()\n",
    "#plt.savefig(\"result/F/test_and_val_acc.png\")\n",
    "\n",
    "plt.figure()\n",
    "\n",
    "plt.plot(epochs, loss, 'b--', label='Training loss')\n",
    "plt.plot(epochs, val_loss, 'b', label='Validation loss')\n",
    "plt.title('Training and validation loss')\n",
    "plt.legend()\n",
    "#plt.savefig(\"result/F/test_and_val_loss.png\")\n",
    "\n",
    "plt.figure()"
   ]
  },
  {
   "cell_type": "code",
   "execution_count": 9,
   "metadata": {},
   "outputs": [
    {
     "data": {
      "image/png": "[encoded data removed]",
      "text/plain": [
       "<Figure size 432x288 with 2 Axes>"
      ]
     },
     "metadata": {
      "needs_background": "light"
     },
     "output_type": "display_data"
    }
   ],
   "source": [
    "fig = plt.figure()\n",
    "ax_acc = fig.add_subplot(111)\n",
    "ax_acc.plot(epochs, val_acc, 'b--', label='Validation acc')\n",
    "plt.legend(bbox_to_anchor=(0, 1), loc='upper left', borderaxespad=0.5, fontsize=10)\n",
    "\n",
    "ax_loss = ax_acc.twinx()\n",
    "ax_loss.plot(epochs, val_loss, 'b', label='Validation loss')\n",
    "plt.legend(bbox_to_anchor=(0, 0.9), loc='upper left', borderaxespad=0.5, fontsize=10)\n",
    "plt.title('Validation acc and Validation loss')\n",
    "ax_acc.set_xlabel('epochs')\n",
    "ax_acc.set_ylabel('Validation acc')\n",
    "ax_loss.grid(True)\n",
    "ax_loss.set_ylabel('Validation loss')\n",
    "#plt.savefig(\"result/E/val_acc_loss.png\")\n",
    "plt.show()"
   ]
  },
  {
   "cell_type": "code",
   "execution_count": null,
   "metadata": {},
   "outputs": [],
   "source": [
    "model.save('Datas/model4_dF.h5')"
   ]
  }
 ],
 "metadata": {
  "jupytext": {
   "encoding": "# -*- coding: utf-8 -*-",
   "text_representation": {
    "extension": ".py",
    "format_name": "light",
    "format_version": "1.5",
    "jupytext_version": "1.3.1"
   }
  },
  "kernelspec": {
   "display_name": "Python 3",
   "language": "python",
   "name": "python3"
  },
  "language_info": {
   "codemirror_mode": {
    "name": "ipython",
    "version": 3
   },
   "file_extension": ".py",
   "mimetype": "text/x-python",
   "name": "python",
   "nbconvert_exporter": "python",
   "pygments_lexer": "ipython3",
   "version": "3.6.7"
  }
 },
 "nbformat": 4,
 "nbformat_minor": 2
}
