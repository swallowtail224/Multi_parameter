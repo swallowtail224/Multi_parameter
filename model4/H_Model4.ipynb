{
 "cells": [
  {
   "cell_type": "code",
   "execution_count": 1,
   "metadata": {},
   "outputs": [
    {
     "name": "stderr",
     "output_type": "stream",
     "text": [
      "Using TensorFlow backend.\n"
     ]
    }
   ],
   "source": [
    "from keras.layers import Input, Dense, Embedding, LSTM, Dropout, concatenate\n",
    "from keras.models import Model\n",
    "from keras.callbacks import EarlyStopping\n",
    "from keras.utils import plot_model\n",
    "import numpy as np\n",
    "from keras.optimizers import Adam\n",
    "from keras.preprocessing.text import Tokenizer\n",
    "from keras.preprocessing.sequence import pad_sequences\n",
    "from keras.utils.np_utils import to_categorical\n",
    "import keras.backend as K\n",
    "from functools import partial\n",
    "import matplotlib.pyplot as plt\n",
    "import pandas as pd"
   ]
  },
  {
   "cell_type": "code",
   "execution_count": 2,
   "metadata": {},
   "outputs": [],
   "source": [
    "def normalize_y_pred(y_pred):\n",
    "    return K.one_hot(K.argmax(y_pred), y_pred.shape[-1])\n",
    "\n",
    "def class_true_positive(class_label, y_true, y_pred):\n",
    "    y_pred = normalize_y_pred(y_pred)\n",
    "    return K.cast(K.equal(y_true[:, class_label] + y_pred[:, class_label], 2), K.floatx())\n",
    "\n",
    "def class_accuracy(class_label, y_true, y_pred):\n",
    "    y_pred = normalize_y_pred(y_pred)\n",
    "    return K.cast(K.equal(y_true[:, class_label], y_pred[:, class_label]),\n",
    "                  K.floatx())\n",
    "\n",
    "def class_precision(class_label, y_true, y_pred):\n",
    "    y_pred = normalize_y_pred(y_pred)\n",
    "    return K.sum(class_true_positive(class_label, y_true, y_pred)) / (K.sum(y_pred[:, class_label]) + K.epsilon())\n",
    "\n",
    "\n",
    "def class_recall(class_label, y_true, y_pred):\n",
    "    return K.sum(class_true_positive(class_label, y_true, y_pred)) / (K.sum(y_true[:, class_label]) + K.epsilon())\n",
    "\n",
    "\n",
    "def class_f_measure(class_label, y_true, y_pred):\n",
    "    precision = class_precision(class_label, y_true, y_pred)\n",
    "    recall = class_recall(class_label, y_true, y_pred)\n",
    "    return (2 * precision * recall) / (precision + recall + K.epsilon())\n",
    "\n",
    "\n",
    "def true_positive(y_true, y_pred):\n",
    "    y_pred = normalize_y_pred(y_pred)\n",
    "    return K.cast(K.equal(y_true + y_pred, 2),\n",
    "                  K.floatx())\n",
    "\n",
    "\n",
    "def micro_precision(y_true, y_pred):\n",
    "    y_pred = normalize_y_pred(y_pred)\n",
    "    return K.sum(true_positive(y_true, y_pred)) / (K.sum(y_pred) + K.epsilon())\n",
    "\n",
    "\n",
    "def micro_recall(y_true, y_pred):\n",
    "    return K.sum(true_positive(y_true, y_pred)) / (K.sum(y_true) + K.epsilon())\n",
    "\n",
    "\n",
    "def micro_f_measure(y_true, y_pred):\n",
    "    precision = micro_precision(y_true, y_pred)\n",
    "    recall = micro_recall(y_true, y_pred)\n",
    "    return (2 * precision * recall) / (precision + recall + K.epsilon())\n",
    "\n",
    "\n",
    "def average_accuracy(y_true, y_pred):\n",
    "    class_count = y_pred.shape[-1]\n",
    "    class_acc_list = [class_accuracy(i, y_true, y_pred) for i in range(class_count)]\n",
    "    class_acc_matrix = K.concatenate(class_acc_list, axis=0)\n",
    "    return K.mean(class_acc_matrix, axis=0)\n",
    "\n",
    "\n",
    "def macro_precision(y_true, y_pred):\n",
    "    class_count = y_pred.shape[-1]\n",
    "    return K.sum([class_precision(i, y_true, y_pred) for i in range(class_count)]) / K.cast(class_count, K.floatx())\n",
    "\n",
    "\n",
    "def macro_recall(y_true, y_pred):\n",
    "    class_count = y_pred.shape[-1]\n",
    "    return K.sum([class_recall(i, y_true, y_pred) for i in range(class_count)]) / K.cast(class_count, K.floatx())\n",
    "\n",
    "\n",
    "def macro_f_measure(y_true, y_pred):\n",
    "    precision = macro_precision(y_true, y_pred)\n",
    "    recall = macro_recall(y_true, y_pred)\n",
    "    return (2 * precision * recall) / (precision + recall + K.epsilon())\n",
    "\n",
    "def weight_variable(shape):\n",
    "    return K.truncated_normal(shape, stddev = 0.01)"
   ]
  },
  {
   "cell_type": "code",
   "execution_count": 3,
   "metadata": {},
   "outputs": [
    {
     "name": "stdout",
     "output_type": "stream",
     "text": [
      "20000\n",
      "<class 'pandas.core.frame.DataFrame'>\n",
      "RangeIndex: 20000 entries, 0 to 19999\n",
      "Data columns (total 14 columns):\n",
      "screen_name    20000 non-null object\n",
      "user_id        20000 non-null float64\n",
      "tweet_id       20000 non-null float64\n",
      "tweet          20000 non-null object\n",
      "tweet2         20000 non-null object\n",
      "postdate       20000 non-null object\n",
      "cos_day        20000 non-null float64\n",
      "sin_day        20000 non-null float64\n",
      "tag            20000 non-null object\n",
      "image_url      20000 non-null object\n",
      "image          20000 non-null int64\n",
      "retweet        20000 non-null float64\n",
      "tag2           6063 non-null object\n",
      "user_id2       20000 non-null int64\n",
      "dtypes: float64(5), int64(2), object(7)\n",
      "memory usage: 2.1+ MB\n"
     ]
    }
   ],
   "source": [
    "#データの読み込み\n",
    "use_data = pd.read_csv(filepath_or_buffer=\"multi_data.csv\", encoding=\"utf_8\", sep=\",\")\n",
    "print(len(use_data))\n",
    "use_data.info()\n",
    "#NaNデータの0埋め\n",
    "use_data = use_data.fillna('0')"
   ]
  },
  {
   "cell_type": "code",
   "execution_count": 4,
   "metadata": {},
   "outputs": [
    {
     "name": "stdout",
     "output_type": "stream",
     "text": [
      "Found 20281 unique tokens.\n",
      "Shape of data tensor:(20000, 50)\n",
      "Shape of img tensor:(20000,)\n",
      "Shape of p_date tensor:(20000, 2)\n",
      "Shape of label tensor:(20000, 2)\n"
     ]
    }
   ],
   "source": [
    "maxlen = 50\n",
    "tag_maxlen = 10\n",
    "train = 0.7\n",
    "validation = 0.1\n",
    "max_words = 20000\n",
    "\n",
    "#データをランダムにシャッフル\n",
    "use_data_s = use_data.sample(frac=1, random_state=150)\n",
    "\n",
    "# word indexを作成\n",
    "tokenizer = Tokenizer(num_words=max_words)\n",
    "tokenizer.fit_on_texts(use_data_s['tweet2'])\n",
    "sequences = tokenizer.texts_to_sequences(use_data_s['tweet2'])\n",
    "\n",
    "word_index = tokenizer.word_index\n",
    "print(\"Found {} unique tokens.\".format(len(word_index)))\n",
    "\n",
    "data = pad_sequences(sequences, maxlen=maxlen)\n",
    "\n",
    "#imageをnp行列に変換\n",
    "img = np.array(use_data['image'])\n",
    "#sin,cosデータをまとめてnp行列へ\n",
    "date = use_data_s[['cos_day','sin_day']]\n",
    "p_date = date.values\n",
    "\n",
    "#ラベルをバイナリの行列に変換\n",
    "categorical_labels = to_categorical(use_data_s['retweet'])\n",
    "labels = np.asarray(categorical_labels)\n",
    "\n",
    "print(\"Shape of data tensor:{}\".format(data.shape))\n",
    "print(\"Shape of img tensor:{}\".format(img.shape))\n",
    "print(\"Shape of p_date tensor:{}\".format(p_date.shape))\n",
    "print(\"Shape of label tensor:{}\".format(labels.shape))\n",
    "\n",
    "\n",
    "indices = [int(len(labels) * n) for n in [train, train + validation]]\n",
    "x1_train, x1_val, x1_test = np.split(data, indices)\n",
    "x2_train, x2_val, x2_test = np.split(img, indices)\n",
    "x3_train, x3_val, x3_test = np.split(p_date, indices)\n",
    "y_train, y_val, y_test = np.split(labels, indices)"
   ]
  },
  {
   "cell_type": "code",
   "execution_count": 5,
   "metadata": {},
   "outputs": [
    {
     "name": "stdout",
     "output_type": "stream",
     "text": [
      "__________________________________________________________________________________________________\n",
      "Layer (type)                    Output Shape         Param #     Connected to                     \n",
      "==================================================================================================\n",
      "Input_postText (InputLayer)     (None, 50)           0                                            \n",
      "__________________________________________________________________________________________________\n",
      "Embedding (Embedding)           (None, 50, 50)       1000000     Input_postText[0][0]             \n",
      "__________________________________________________________________________________________________\n",
      "dropout_1 (Dropout)             (None, 50, 50)       0           Embedding[0][0]                  \n",
      "__________________________________________________________________________________________________\n",
      "Input_other1 (InputLayer)       (None, 1)            0                                            \n",
      "__________________________________________________________________________________________________\n",
      "Input_other2 (InputLayer)       (None, 2)            0                                            \n",
      "__________________________________________________________________________________________________\n",
      "LSTM (LSTM)                     (None, 32)           10624       dropout_1[0][0]                  \n",
      "__________________________________________________________________________________________________\n",
      "dence1 (Dense)                  (None, 16)           32          Input_other1[0][0]               \n",
      "__________________________________________________________________________________________________\n",
      "dence2 (Dense)                  (None, 16)           48          Input_other2[0][0]               \n",
      "__________________________________________________________________________________________________\n",
      "dropout_2 (Dropout)             (None, 32)           0           LSTM[0][0]                       \n",
      "__________________________________________________________________________________________________\n",
      "dropout_3 (Dropout)             (None, 16)           0           dence1[0][0]                     \n",
      "__________________________________________________________________________________________________\n",
      "dropout_4 (Dropout)             (None, 16)           0           dence2[0][0]                     \n",
      "__________________________________________________________________________________________________\n",
      "merge1 (Concatenate)            (None, 64)           0           dropout_2[0][0]                  \n",
      "                                                                 dropout_3[0][0]                  \n",
      "                                                                 dropout_4[0][0]                  \n",
      "__________________________________________________________________________________________________\n",
      "dence (Dense)                   (None, 16)           1040        merge1[0][0]                     \n",
      "__________________________________________________________________________________________________\n",
      "dropout_5 (Dropout)             (None, 16)           0           dence[0][0]                      \n",
      "__________________________________________________________________________________________________\n",
      "output (Dense)                  (None, 2)            34          dropout_5[0][0]                  \n",
      "==================================================================================================\n",
      "Total params: 1,011,778\n",
      "Trainable params: 1,011,778\n",
      "Non-trainable params: 0\n",
      "__________________________________________________________________________________________________\n"
     ]
    }
   ],
   "source": [
    "p_input = Input(shape=(50, ), dtype='int32', name='Input_postText')\n",
    "o1_input = Input(shape=(1, ), name='Input_other1')\n",
    "o2_input = Input(shape=(2,), name='Input_other2')\n",
    "\n",
    "#テキストの学習\n",
    "em = Embedding(input_dim=20000, output_dim=50, input_length=50, name='Embedding')(p_input)\n",
    "d_em = Dropout(0.5)(em)\n",
    "lstm_out = LSTM(32, kernel_initializer=weight_variable, name='LSTM')(d_em)\n",
    "d_lstm_out = Dropout(0.5)(lstm_out)\n",
    "#2つ目の入力\n",
    "i2 = Dense(16, activation='elu', name = 'dence1')(o1_input)\n",
    "d_i2 = Dropout(0.5)(i2)\n",
    "#3つ目の入力\n",
    "i3 = Dense(16, activation='elu', name = 'dence2')(o2_input)\n",
    "d_i3 = Dropout(0.5)(i3)\n",
    "\n",
    "x = concatenate([d_lstm_out, d_i2, d_i3], name='merge1')\n",
    "\n",
    "m2 = Dense(16, activation='elu', name = 'dence')(x)\n",
    "d_m2 = Dropout(0.5)(m2)\n",
    "output = Dense(2, activation='softmax', name = 'output')(d_m2)\n",
    "\n",
    "model = Model(inputs=[p_input, o1_input, o2_input], outputs = output)\n",
    "optimizer = Adam(lr=1e-3)\n",
    "model.compile(optimizer=optimizer, loss='categorical_crossentropy',  metrics=['acc', macro_precision, macro_recall, macro_f_measure])\n",
    "model.summary()\n",
    "#plot_model(model, show_shapes=True, show_layer_names=True, to_file='model_image/model4.png')\n",
    "\n",
    "\n",
    "early_stopping = EarlyStopping(patience=0, verbose=1)"
   ]
  },
  {
   "cell_type": "code",
   "execution_count": 6,
   "metadata": {},
   "outputs": [
    {
     "name": "stdout",
     "output_type": "stream",
     "text": [
      "Train on 14000 samples, validate on 1999 samples\n",
      "Epoch 1/100\n",
      "14000/14000 [==============================] - 9s 631us/step - loss: 0.7301 - acc: 0.5273 - macro_precision: 0.5284 - macro_recall: 0.5281 - macro_f_measure: 0.5283 - val_loss: 0.6012 - val_acc: 0.6658 - val_macro_precision: 0.6773 - val_macro_recall: 0.6635 - val_macro_f_measure: 0.6703\n",
      "Epoch 2/100\n",
      "14000/14000 [==============================] - 6s 442us/step - loss: 0.5400 - acc: 0.7219 - macro_precision: 0.7257 - macro_recall: 0.7219 - macro_f_measure: 0.7238 - val_loss: 0.5065 - val_acc: 0.7554 - val_macro_precision: 0.7569 - val_macro_recall: 0.7547 - val_macro_f_measure: 0.7558\n",
      "Epoch 3/100\n",
      "14000/14000 [==============================] - 5s 377us/step - loss: 0.4325 - acc: 0.8027 - macro_precision: 0.8052 - macro_recall: 0.8026 - macro_f_measure: 0.8039 - val_loss: 0.5177 - val_acc: 0.7439 - val_macro_precision: 0.7438 - val_macro_recall: 0.7437 - val_macro_f_measure: 0.7438\n",
      "Epoch 00003: early stopping\n"
     ]
    }
   ],
   "source": [
    "history = model.fit([x1_train, x2_train, x3_train], y_train,\n",
    "                    epochs=100, \n",
    "                    batch_size=256,\n",
    "                    validation_data=([x1_val, x2_val, x3_val], y_val),\n",
    "                    callbacks=[early_stopping])"
   ]
  },
  {
   "cell_type": "code",
   "execution_count": 7,
   "metadata": {},
   "outputs": [
    {
     "name": "stdout",
     "output_type": "stream",
     "text": [
      "4001/4001 [==============================] - 1s 283us/step\n",
      "[0.49387866358757015, 0.7533116720819795, 0.752379779471841, 0.7531305340134302, 0.7526764534497613]\n"
     ]
    }
   ],
   "source": [
    "loss_and_metrics = model.evaluate([x1_test, x2_test, x3_test], y_test)\n",
    "print(loss_and_metrics)"
   ]
  },
  {
   "cell_type": "code",
   "execution_count": 14,
   "metadata": {},
   "outputs": [
    {
     "data": {
      "text/plain": [
       "['loss', 'acc', 'macro_precision', 'macro_recall', 'macro_f_measure']"
      ]
     },
     "execution_count": 14,
     "metadata": {},
     "output_type": "execute_result"
    }
   ],
   "source": [
    "model.metrics_names"
   ]
  },
  {
   "cell_type": "code",
   "execution_count": 13,
   "metadata": {},
   "outputs": [],
   "source": [
    "classes = model.predict([x1_test, x2_test, x3_test])\n",
    "#予測結果を保存して与えたデータと結合\n",
    "columns = ['not publish', 'publish']\n",
    "result = pd.DataFrame(classes, columns = columns)\n",
    "test_data = use_data_s[15998:19999]\n",
    "n_test_data = test_data.reset_index()\n",
    "predict_result = n_test_data.join(result)\n",
    "predict_result.drop(['user_id','tweet_id','tweet2', 'cos_day','sin_day', 'image_url', 'tag2', 'user_id2'], axis=1, inplace=True)"
   ]
  },
  {
   "cell_type": "code",
   "execution_count": null,
   "metadata": {},
   "outputs": [],
   "source": [
    "#予測結果の書き出し\n",
    "predict_result.to_csv(\"result/H/result.csv\",index=False, sep=\",\")"
   ]
  },
  {
   "cell_type": "code",
   "execution_count": 8,
   "metadata": {},
   "outputs": [
    {
     "data": {
      "text/plain": [
       "<Figure size 432x288 with 0 Axes>"
      ]
     },
     "execution_count": 8,
     "metadata": {},
     "output_type": "execute_result"
    },
    {
     "data": {
      "image/png": "[encoded data removed]",
      "text/plain": [
       "<Figure size 432x288 with 1 Axes>"
      ]
     },
     "metadata": {
      "needs_background": "light"
     },
     "output_type": "display_data"
    },
    {
     "data": {
      "image/png": "[encoded data removed]",
      "text/plain": [
       "<Figure size 432x288 with 1 Axes>"
      ]
     },
     "metadata": {
      "needs_background": "light"
     },
     "output_type": "display_data"
    },
    {
     "data": {
      "text/plain": [
       "<Figure size 432x288 with 0 Axes>"
      ]
     },
     "metadata": {},
     "output_type": "display_data"
    }
   ],
   "source": [
    "%matplotlib inline\n",
    "\n",
    "acc = history.history['acc']\n",
    "val_acc = history.history['val_acc']\n",
    "loss = history.history['loss']\n",
    "val_loss = history.history['val_loss']\n",
    "epochs = range(1, len(acc) + 1)\n",
    "\n",
    "plt.plot(epochs, acc, 'b--', label='Training acc')\n",
    "plt.plot(epochs, val_acc, 'b', label='Validation acc')\n",
    "plt.title('Training and validation accuracy')\n",
    "plt.legend()\n",
    "#plt.savefig(\"result/H/test_and_val_acc.png\")\n",
    "\n",
    "plt.figure()\n",
    "\n",
    "plt.plot(epochs, loss, 'b--', label='Training loss')\n",
    "plt.plot(epochs, val_loss, 'b', label='Validation loss')\n",
    "plt.title('Training and validation loss')\n",
    "plt.legend()\n",
    "#plt.savefig(\"result/H/test_and_val_loss.png\")\n",
    "\n",
    "plt.figure()"
   ]
  },
  {
   "cell_type": "code",
   "execution_count": 9,
   "metadata": {},
   "outputs": [
    {
     "data": {
      "image/png": "[encoded data removed]",
      "text/plain": [
       "<Figure size 432x288 with 2 Axes>"
      ]
     },
     "metadata": {
      "needs_background": "light"
     },
     "output_type": "display_data"
    }
   ],
   "source": [
    "fig = plt.figure()\n",
    "ax_acc = fig.add_subplot(111)\n",
    "ax_acc.plot(epochs, val_acc, 'b--', label='Validation acc')\n",
    "plt.legend(bbox_to_anchor=(0, 1), loc='upper left', borderaxespad=0.5, fontsize=10)\n",
    "\n",
    "ax_loss = ax_acc.twinx()\n",
    "ax_loss.plot(epochs, val_loss, 'b', label='Validation loss')\n",
    "plt.legend(bbox_to_anchor=(0, 0.9), loc='upper left', borderaxespad=0.5, fontsize=10)\n",
    "plt.title('Validation acc and Validation loss')\n",
    "ax_acc.set_xlabel('epochs')\n",
    "ax_acc.set_ylabel('Validation acc')\n",
    "ax_loss.grid(True)\n",
    "ax_loss.set_ylabel('Validation loss')\n",
    "#plt.savefig(\"result/H/val_acc_loss.png\")\n",
    "plt.show()"
   ]
  },
  {
   "cell_type": "code",
   "execution_count": null,
   "metadata": {},
   "outputs": [],
   "source": [
    "model.save('Datas/model4_dH.h5')"
   ]
  }
 ],
 "metadata": {
  "jupytext": {
   "encoding": "# -*- coding: utf-8 -*-",
   "text_representation": {
    "extension": ".py",
    "format_name": "light",
    "format_version": "1.5",
    "jupytext_version": "1.3.1"
   }
  },
  "kernelspec": {
   "display_name": "Python 3",
   "language": "python",
   "name": "python3"
  },
  "language_info": {
   "codemirror_mode": {
    "name": "ipython",
    "version": 3
   },
   "file_extension": ".py",
   "mimetype": "text/x-python",
   "name": "python",
   "nbconvert_exporter": "python",
   "pygments_lexer": "ipython3",
   "version": "3.6.7"
  }
 },
 "nbformat": 4,
 "nbformat_minor": 2
}
